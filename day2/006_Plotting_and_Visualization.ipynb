{
  "nbformat": 4,
  "nbformat_minor": 0,
  "metadata": {
    "kernelspec": {
      "display_name": "Python 3",
      "language": "python",
      "name": "python3"
    },
    "language_info": {
      "codemirror_mode": {
        "name": "ipython",
        "version": 3
      },
      "file_extension": ".py",
      "mimetype": "text/x-python",
      "name": "python",
      "nbconvert_exporter": "python",
      "pygments_lexer": "ipython3",
      "version": "3.7.1"
    },
    "toc": {
      "base_numbering": 1,
      "nav_menu": {},
      "number_sections": true,
      "sideBar": true,
      "skip_h1_title": false,
      "title_cell": "Table of Contents",
      "title_sidebar": "Contents",
      "toc_cell": true,
      "toc_position": {
        "height": "calc(100% - 180px)",
        "left": "10px",
        "top": "150px",
        "width": "281.4px"
      },
      "toc_section_display": true,
      "toc_window_display": false
    },
    "varInspector": {
      "cols": {
        "lenName": 16,
        "lenType": 16,
        "lenVar": 40
      },
      "kernels_config": {
        "python": {
          "delete_cmd_postfix": "",
          "delete_cmd_prefix": "del ",
          "library": "var_list.py",
          "varRefreshCmd": "print(var_dic_list())"
        },
        "r": {
          "delete_cmd_postfix": ") ",
          "delete_cmd_prefix": "rm(",
          "library": "var_list.r",
          "varRefreshCmd": "cat(var_dic_list()) "
        }
      },
      "types_to_exclude": [
        "module",
        "function",
        "builtin_function_or_method",
        "instance",
        "_Feature"
      ],
      "window_display": false
    },
    "colab": {
      "name": "006_Plotting and Visualization.ipynb",
      "provenance": [],
      "include_colab_link": true
    }
  },
  "cells": [
    {
      "cell_type": "markdown",
      "metadata": {
        "id": "view-in-github",
        "colab_type": "text"
      },
      "source": [
        "<a href=\"https://colab.research.google.com/github/rafasyafiq/pyda-online/blob/master/day2/006_Plotting_and_Visualization.ipynb\" target=\"_parent\"><img src=\"https://colab.research.google.com/assets/colab-badge.svg\" alt=\"Open In Colab\"/></a>"
      ]
    },
    {
      "cell_type": "code",
      "metadata": {
        "ExecuteTime": {
          "end_time": "2019-12-24T22:46:42.056332Z",
          "start_time": "2019-12-24T22:46:41.674831Z"
        },
        "id": "Y5JLzkRwpUW6",
        "colab_type": "code",
        "colab": {}
      },
      "source": [
        "# %matplotlib notebook\n",
        "%matplotlib inline"
      ],
      "execution_count": 0,
      "outputs": []
    },
    {
      "cell_type": "code",
      "metadata": {
        "ExecuteTime": {
          "end_time": "2019-12-24T22:46:42.404793Z",
          "start_time": "2019-12-24T22:46:42.057329Z"
        },
        "id": "s48MK9M7pUW-",
        "colab_type": "code",
        "colab": {}
      },
      "source": [
        "import numpy as np\n",
        "import pandas as pd\n",
        "import matplotlib.pyplot as plt\n",
        "import matplotlib\n",
        "\n",
        "PREVIOUS_MAX_ROWS = pd.options.display.max_rows\n",
        "pd.options.display.max_rows = 20\n",
        "np.random.seed(12345)\n",
        "plt.rc('figure', figsize=(10, 6))\n",
        "np.set_printoptions(precision=4, suppress=True)"
      ],
      "execution_count": 0,
      "outputs": []
    },
    {
      "cell_type": "markdown",
      "metadata": {
        "id": "zBByQr4vpUXC",
        "colab_type": "text"
      },
      "source": [
        "# A Brief matplotlib API Primer"
      ]
    },
    {
      "cell_type": "code",
      "metadata": {
        "ExecuteTime": {
          "end_time": "2019-12-24T22:46:42.420671Z",
          "start_time": "2019-12-24T22:46:42.409745Z"
        },
        "id": "DG8KIskspUXD",
        "colab_type": "code",
        "colab": {}
      },
      "source": [
        "data = np.arange(10)\n",
        "data"
      ],
      "execution_count": 0,
      "outputs": []
    },
    {
      "cell_type": "code",
      "metadata": {
        "ExecuteTime": {
          "end_time": "2019-12-24T22:46:42.699157Z",
          "start_time": "2019-12-24T22:46:42.422665Z"
        },
        "id": "zAsTcXNDpUXG",
        "colab_type": "code",
        "colab": {}
      },
      "source": [
        "plt.plot(data)"
      ],
      "execution_count": 0,
      "outputs": []
    },
    {
      "cell_type": "markdown",
      "metadata": {
        "id": "SXJB5IY1pUXI",
        "colab_type": "text"
      },
      "source": [
        "Plots in matplotlib reside within a **Figure** object. You can create a new figure with **plt.figure**"
      ]
    },
    {
      "cell_type": "markdown",
      "metadata": {
        "id": "PfZPzweIpUXI",
        "colab_type": "text"
      },
      "source": [
        "You can’t make a plot with a blank figure. You have to create one or more subplots using **add_subplot**"
      ]
    },
    {
      "cell_type": "code",
      "metadata": {
        "ExecuteTime": {
          "end_time": "2019-12-24T22:46:43.038294Z",
          "start_time": "2019-12-24T22:46:42.701154Z"
        },
        "id": "4D3K0R5mpUXJ",
        "colab_type": "code",
        "colab": {}
      },
      "source": [
        "fig = plt.figure()\n",
        "ax1 = fig.add_subplot(2, 2, 1)\n",
        "ax2 = fig.add_subplot(2, 2, 2)\n",
        "ax3 = fig.add_subplot(2, 2, 3)\n",
        "plt.plot(np.random.randn(50).cumsum(), 'k--')\n",
        "\n",
        "# 'k--' is a style option instructing matplotlib to plot a black dashed line"
      ],
      "execution_count": 0,
      "outputs": []
    },
    {
      "cell_type": "markdown",
      "metadata": {
        "ExecuteTime": {
          "end_time": "2019-12-24T18:48:20.848884Z",
          "start_time": "2019-12-24T18:48:20.809027Z"
        },
        "id": "VbaMxfAapUXL",
        "colab_type": "text"
      },
      "source": [
        "The objects returned by **fig.add_subplot** here are **AxesSubplot objects**, on which you can directly plot on the other empty subplots by calling each one’s instance method"
      ]
    },
    {
      "cell_type": "code",
      "metadata": {
        "ExecuteTime": {
          "end_time": "2019-12-24T22:46:43.059196Z",
          "start_time": "2019-12-24T22:46:43.039291Z"
        },
        "id": "i9RmJHt7pUXL",
        "colab_type": "code",
        "colab": {
          "base_uri": "https://localhost:8080/",
          "height": 34
        },
        "outputId": "897a2b5e-ca81-42aa-9a17-97b4b4014f5a"
      },
      "source": [
        "_ = ax1.hist(np.random.randn(100), bins=20, color='k', alpha=0.3)\n",
        "ax2.scatter(np.arange(30), np.arange(30) + 3 * np.random.randn(30))"
      ],
      "execution_count": 6,
      "outputs": [
        {
          "output_type": "execute_result",
          "data": {
            "text/plain": [
              "<matplotlib.collections.PathCollection at 0x7f16277482e8>"
            ]
          },
          "metadata": {
            "tags": []
          },
          "execution_count": 6
        }
      ]
    },
    {
      "cell_type": "code",
      "metadata": {
        "ExecuteTime": {
          "end_time": "2019-12-24T22:46:43.451391Z",
          "start_time": "2019-12-24T22:46:43.061192Z"
        },
        "id": "YAZbmIH4pUXP",
        "colab_type": "code",
        "colab": {}
      },
      "source": [
        "fig"
      ],
      "execution_count": 0,
      "outputs": []
    },
    {
      "cell_type": "markdown",
      "metadata": {
        "id": "FaCSb_rmpUXR",
        "colab_type": "text"
      },
      "source": [
        "Creating a figure with a grid of subplots is a very common task, so matplotlib includes a convenience method, **plt.subplots**, that creates a new figure and returns a NumPy array containing the created subplot objects"
      ]
    },
    {
      "cell_type": "code",
      "metadata": {
        "ExecuteTime": {
          "end_time": "2019-12-24T22:46:44.026975Z",
          "start_time": "2019-12-24T22:46:43.452388Z"
        },
        "id": "Aj6pTdNLpUXS",
        "colab_type": "code",
        "colab": {}
      },
      "source": [
        "fig, axes = plt.subplots(2, 3)\n",
        "axes\n",
        "\n",
        "\n",
        "# axes array can be easily indexed like a two-dimensional\n",
        "# array; for example, axes[0, 1]."
      ],
      "execution_count": 0,
      "outputs": []
    },
    {
      "cell_type": "code",
      "metadata": {
        "ExecuteTime": {
          "end_time": "2019-12-24T22:46:44.535268Z",
          "start_time": "2019-12-24T22:46:44.028624Z"
        },
        "id": "U4jrezRapUXU",
        "colab_type": "code",
        "colab": {}
      },
      "source": [
        "# ou can also indicate that subplots should have the\n",
        "# same x- or y-axis using sharex and sharey, respectively\n",
        "\n",
        "fig, axes = plt.subplots(2, 3, sharey=True)"
      ],
      "execution_count": 0,
      "outputs": []
    },
    {
      "cell_type": "markdown",
      "metadata": {
        "id": "JtW9R7e7pUXW",
        "colab_type": "text"
      },
      "source": [
        "**pyplot.subplots options**\n",
        "\n",
        "|Argument| Description|\n",
        "|--|--|\n",
        "|nrows| Number of rows of subplots|\n",
        "|ncols| Number of columns of subplots|\n",
        "|sharex| All subplots should use the same x-axis ticks (adjusting the xlim will affect all subplots)|\n",
        "|sharey| All subplots should use the same y-axis ticks (adjusting the ylim will affect all subplots)|\n",
        "|subplot_kw| Dict of keywords passed to add_subplot call used to create each subplot|\n",
        "|**fig_kw| Additional keywords to subplots are used when creating the figure, such as plt.subplots(2, 2, figsize=(8, 6))|\n"
      ]
    },
    {
      "cell_type": "markdown",
      "metadata": {
        "ExecuteTime": {
          "end_time": "2019-12-24T19:37:06.860771Z",
          "start_time": "2019-12-24T19:37:06.856678Z"
        },
        "id": "oM1jk_3ppUXX",
        "colab_type": "text"
      },
      "source": [
        "### Adjusting the spacing around subplots"
      ]
    },
    {
      "cell_type": "markdown",
      "metadata": {
        "id": "hIyLnmSbpUXX",
        "colab_type": "text"
      },
      "source": [
        "By default matplotlib leaves a certain amount of padding around the outside of the subplots and spacing between subplots. This spacing is all specified relative to the height and width of the plot, so that if you resize the plot either programmatically or manually using the GUI window, the plot will dynamically adjust itself. You can change the spacing using the **subplots_adjust** method on Figure objects, also available as a top-level function"
      ]
    },
    {
      "cell_type": "markdown",
      "metadata": {
        "id": "mFTS78nQpUXZ",
        "colab_type": "text"
      },
      "source": [
        "***subplots_adjust(left=None, bottom=None, right=None, top=None,                                wspace=None, hspace=None)***\n",
        "\n",
        "**wspace** and **hspace** controls the percent of the figure width and figure height, respec‐\n",
        "tively, to use as spacing between subplots."
      ]
    },
    {
      "cell_type": "code",
      "metadata": {
        "ExecuteTime": {
          "end_time": "2019-12-24T22:46:45.315181Z",
          "start_time": "2019-12-24T22:46:44.536222Z"
        },
        "id": "slQtYfzbpUXZ",
        "colab_type": "code",
        "colab": {}
      },
      "source": [
        "# shrinking spaces to zero\n",
        "\n",
        "fig, axes = plt.subplots(2, 2, sharex=True, sharey=True)\n",
        "for i in range(2):\n",
        "    for j in range(2):\n",
        "        axes[i, j].hist(np.random.randn(500), bins=50, color='k', alpha=0.5)\n",
        "\n",
        "plt.subplots_adjust(wspace=0, hspace=0)"
      ],
      "execution_count": 0,
      "outputs": []
    },
    {
      "cell_type": "markdown",
      "metadata": {
        "id": "Y_MhZgUjpUXb",
        "colab_type": "text"
      },
      "source": [
        "## Colors, Markers, and Line Styles\n"
      ]
    },
    {
      "cell_type": "code",
      "metadata": {
        "ExecuteTime": {
          "end_time": "2019-12-24T22:46:45.320127Z",
          "start_time": "2019-12-24T22:46:45.316139Z"
        },
        "id": "cxBduoBNpUXc",
        "colab_type": "code",
        "colab": {}
      },
      "source": [
        "# plot function accepts an array of x and y and optionally a string abbreviation\n",
        "# indicating color and line style\n",
        "# ax.plot(x, y, 'g--')\n",
        "\n",
        "# In practice \n",
        "# ax.plot(x, y, linestyle='--', color='g')"
      ],
      "execution_count": 0,
      "outputs": []
    },
    {
      "cell_type": "code",
      "metadata": {
        "ExecuteTime": {
          "end_time": "2019-12-24T22:46:45.460043Z",
          "start_time": "2019-12-24T22:46:45.321125Z"
        },
        "id": "4Gb63xgwpUXe",
        "colab_type": "code",
        "colab": {}
      },
      "source": [
        "# ?matplotlib.pyplot.plot"
      ],
      "execution_count": 0,
      "outputs": []
    },
    {
      "cell_type": "code",
      "metadata": {
        "ExecuteTime": {
          "end_time": "2019-12-24T22:46:45.769320Z",
          "start_time": "2019-12-24T22:46:45.462072Z"
        },
        "id": "a2YLJDXvpUXh",
        "colab_type": "code",
        "colab": {}
      },
      "source": [
        "# using MARKERS to highlight the actual data points\n",
        "\n",
        "from numpy.random import randn\n",
        "# plt.plot(randn(30).cumsum(), 'ko--')\n",
        "plt.plot(randn(30).cumsum(), color='k', linestyle='dashed', marker='o')"
      ],
      "execution_count": 0,
      "outputs": []
    },
    {
      "cell_type": "markdown",
      "metadata": {
        "id": "6iqWwuIEpUXk",
        "colab_type": "text"
      },
      "source": [
        "For line plots, you will notice that subsequent points are linearly interpolated by default. This can be altered with the **drawstyle** option"
      ]
    },
    {
      "cell_type": "code",
      "metadata": {
        "ExecuteTime": {
          "end_time": "2019-12-24T22:46:45.773313Z",
          "start_time": "2019-12-24T22:46:45.770282Z"
        },
        "id": "wTK8YsuopUXl",
        "colab_type": "code",
        "colab": {}
      },
      "source": [
        "data = np.random.randn(30).cumsum()"
      ],
      "execution_count": 0,
      "outputs": []
    },
    {
      "cell_type": "code",
      "metadata": {
        "ExecuteTime": {
          "end_time": "2019-12-24T22:46:46.081310Z",
          "start_time": "2019-12-24T22:46:45.774271Z"
        },
        "id": "bGppnxl5pUXn",
        "colab_type": "code",
        "colab": {}
      },
      "source": [
        "plt.plot(data, 'k--', label='Default')\n",
        "plt.plot(data, 'k-', drawstyle='steps-post', label='steps-post')\n",
        "plt.legend(loc='best')"
      ],
      "execution_count": 0,
      "outputs": []
    },
    {
      "cell_type": "markdown",
      "metadata": {
        "id": "8OukYPahpUXp",
        "colab_type": "text"
      },
      "source": [
        "## Ticks, Labels, Legend"
      ]
    },
    {
      "cell_type": "markdown",
      "metadata": {
        "id": "kIBOPYgqpUXq",
        "colab_type": "text"
      },
      "source": [
        "The pyplot interface, designed for interactive use, consists of methods like  **xlim, xticks, xticklabels => plot range, tick locations, tick labels**, respectively.     \n",
        "They can be used in two ways:\n",
        "   * Called with no arguments returns the current parameter value (e.g., plt.xlim() returns the current x-axis plotting range)\n",
        "   * Called with parameters sets the parameter value (e.g., plt.xlim([0, 10]), sets the x-axis range to 0 to 10)"
      ]
    },
    {
      "cell_type": "markdown",
      "metadata": {
        "id": "Kog1M4fKpUXq",
        "colab_type": "text"
      },
      "source": [
        "### Setting the title, axis labels, ticks, and ticklabels\n"
      ]
    },
    {
      "cell_type": "code",
      "metadata": {
        "ExecuteTime": {
          "end_time": "2019-12-24T22:46:46.263888Z",
          "start_time": "2019-12-24T22:46:46.082307Z"
        },
        "id": "v4yIuHnEpUXr",
        "colab_type": "code",
        "colab": {}
      },
      "source": [
        "fig = plt.figure()\n",
        "ax = fig.add_subplot(1, 1, 1)\n",
        "ax.plot(np.random.randn(1000).cumsum())"
      ],
      "execution_count": 0,
      "outputs": []
    },
    {
      "cell_type": "markdown",
      "metadata": {
        "id": "dhBkxtbzpUXt",
        "colab_type": "text"
      },
      "source": [
        "To change the x-axis ticks, it’s easiest to use **set_xticks** and **set_xticklabels**. The former instructs matplotlib where to place the ticks along the data range; by default these locations will also be the labels. But we can set any other values as the labels using set_xticklabels"
      ]
    },
    {
      "cell_type": "code",
      "metadata": {
        "ExecuteTime": {
          "end_time": "2019-12-24T22:46:46.287758Z",
          "start_time": "2019-12-24T22:46:46.264821Z"
        },
        "id": "yXKr3__ApUXt",
        "colab_type": "code",
        "colab": {}
      },
      "source": [
        "ticks = ax.set_xticks([0, 250, 500, 750, 1000])\n",
        "labels = ax.set_xticklabels(['one', 'two', 'three', 'four', 'five'],\n",
        "                            rotation=30, fontsize='small')"
      ],
      "execution_count": 0,
      "outputs": []
    },
    {
      "cell_type": "code",
      "metadata": {
        "ExecuteTime": {
          "end_time": "2019-12-24T22:46:46.427935Z",
          "start_time": "2019-12-24T22:46:46.288755Z"
        },
        "id": "L1v0gEb0pUXv",
        "colab_type": "code",
        "colab": {}
      },
      "source": [
        "ax.set_title('My first matplotlib Plotting and Visualization.ipynb')"
      ],
      "execution_count": 0,
      "outputs": []
    },
    {
      "cell_type": "code",
      "metadata": {
        "ExecuteTime": {
          "end_time": "2019-12-24T22:46:46.573696Z",
          "start_time": "2019-12-24T22:46:46.428896Z"
        },
        "id": "aTdD63HCpUXw",
        "colab_type": "code",
        "colab": {}
      },
      "source": [
        "ax.set_xlabel('Stages')\n",
        "\n",
        "# similar steps for y-axis"
      ],
      "execution_count": 0,
      "outputs": []
    },
    {
      "cell_type": "code",
      "metadata": {
        "ExecuteTime": {
          "end_time": "2019-12-24T22:46:46.835105Z",
          "start_time": "2019-12-24T22:46:46.577684Z"
        },
        "id": "8VsQ-Ga-pUXy",
        "colab_type": "code",
        "colab": {}
      },
      "source": [
        "fig\n"
      ],
      "execution_count": 0,
      "outputs": []
    },
    {
      "cell_type": "markdown",
      "metadata": {
        "id": "Qfgsq3tppUX0",
        "colab_type": "text"
      },
      "source": [
        "The axes class has a **set** method that allows batch setting of plot properties. From the prior example, we could also have written"
      ]
    },
    {
      "cell_type": "code",
      "metadata": {
        "ExecuteTime": {
          "end_time": "2019-12-24T22:46:46.869085Z",
          "start_time": "2019-12-24T22:46:46.836141Z"
        },
        "id": "tLKuft-cpUX1",
        "colab_type": "code",
        "colab": {}
      },
      "source": [
        "props = {\n",
        "    'title': 'My first matplotlib plot',\n",
        "    'xlabel': 'Stages'\n",
        "}\n",
        "ax.set(**props)"
      ],
      "execution_count": 0,
      "outputs": []
    },
    {
      "cell_type": "code",
      "metadata": {
        "ExecuteTime": {
          "end_time": "2019-12-24T22:46:47.091058Z",
          "start_time": "2019-12-24T22:46:46.872039Z"
        },
        "id": "jSJ4q6MwpUX3",
        "colab_type": "code",
        "colab": {}
      },
      "source": [
        "fig"
      ],
      "execution_count": 0,
      "outputs": []
    },
    {
      "cell_type": "markdown",
      "metadata": {
        "id": "x3l410ZspUX6",
        "colab_type": "text"
      },
      "source": [
        "### Adding Legends\n",
        "\n",
        "Legends are another critical element for identifying plot elements"
      ]
    },
    {
      "cell_type": "code",
      "metadata": {
        "ExecuteTime": {
          "end_time": "2019-12-24T22:46:47.272662Z",
          "start_time": "2019-12-24T22:46:47.093009Z"
        },
        "id": "DG8M-poWpUX6",
        "colab_type": "code",
        "colab": {}
      },
      "source": [
        "fig = plt.figure(); ax=fig.add_subplot(1, 1, 1)"
      ],
      "execution_count": 0,
      "outputs": []
    },
    {
      "cell_type": "code",
      "metadata": {
        "ExecuteTime": {
          "end_time": "2019-12-24T22:46:47.319431Z",
          "start_time": "2019-12-24T22:46:47.273660Z"
        },
        "id": "tyTIZi2upUX8",
        "colab_type": "code",
        "colab": {}
      },
      "source": [
        "ax.plot(randn(1000).cumsum(), 'k', label='one')"
      ],
      "execution_count": 0,
      "outputs": []
    },
    {
      "cell_type": "code",
      "metadata": {
        "ExecuteTime": {
          "end_time": "2019-12-24T22:46:47.468194Z",
          "start_time": "2019-12-24T22:46:47.320428Z"
        },
        "id": "nZfEztSgpUX-",
        "colab_type": "code",
        "colab": {}
      },
      "source": [
        "ax.plot(randn(1000).cumsum(), 'k--', label='two')"
      ],
      "execution_count": 0,
      "outputs": []
    },
    {
      "cell_type": "code",
      "metadata": {
        "ExecuteTime": {
          "end_time": "2019-12-24T22:46:47.586465Z",
          "start_time": "2019-12-24T22:46:47.469190Z"
        },
        "id": "NEpjdgl2pUYA",
        "colab_type": "code",
        "colab": {}
      },
      "source": [
        "ax.plot(randn(1000).cumsum(), 'k.', label='three')"
      ],
      "execution_count": 0,
      "outputs": []
    },
    {
      "cell_type": "code",
      "metadata": {
        "ExecuteTime": {
          "end_time": "2019-12-24T22:46:47.743829Z",
          "start_time": "2019-12-24T22:46:47.588461Z"
        },
        "id": "_fgCTvazpUYC",
        "colab_type": "code",
        "colab": {}
      },
      "source": [
        "ax.legend(loc='best')"
      ],
      "execution_count": 0,
      "outputs": []
    },
    {
      "cell_type": "code",
      "metadata": {
        "ExecuteTime": {
          "end_time": "2019-12-24T22:46:47.999561Z",
          "start_time": "2019-12-24T22:46:47.744827Z"
        },
        "id": "yb4J5fPGpUYE",
        "colab_type": "code",
        "colab": {}
      },
      "source": [
        "fig"
      ],
      "execution_count": 0,
      "outputs": []
    },
    {
      "cell_type": "markdown",
      "metadata": {
        "id": "L9kWt47LpUYG",
        "colab_type": "text"
      },
      "source": [
        "## Annotations and drawing on a Subplot"
      ]
    },
    {
      "cell_type": "markdown",
      "metadata": {
        "id": "qTTTioY2pUYG",
        "colab_type": "text"
      },
      "source": [
        "In addition to the standard plot types, you may wish to draw your own plot annotations, which could consist of text, arrows, or other shapes. You can add annotations and text using the **text**, **arrow**, and **annotate** functions."
      ]
    },
    {
      "cell_type": "code",
      "metadata": {
        "ExecuteTime": {
          "end_time": "2019-12-24T22:46:48.003551Z",
          "start_time": "2019-12-24T22:46:48.000559Z"
        },
        "id": "VB8f28ljpUYG",
        "colab_type": "code",
        "colab": {}
      },
      "source": [
        "# text draws text at given coordinates (x, y) on the plot \n",
        "# with optional custom styling\n",
        "\n",
        "# ax.text(x, y, 'hello world',\n",
        "#        family='monospace', fontsize=10)"
      ],
      "execution_count": 0,
      "outputs": []
    },
    {
      "cell_type": "code",
      "metadata": {
        "ExecuteTime": {
          "end_time": "2019-12-24T22:46:48.405248Z",
          "start_time": "2019-12-24T22:46:48.004547Z"
        },
        "id": "BaEN5fX0pUYI",
        "colab_type": "code",
        "colab": {}
      },
      "source": [
        "# Annotations can draw both text and arrows arranged appropriately\n",
        "\n",
        "from datetime import datetime\n",
        "\n",
        "fig = plt.figure()\n",
        "ax = fig.add_subplot(1, 1, 1)\n",
        "\n",
        "data = pd.read_csv('https://raw.githubusercontent.com/rafasyafiq/pyda-online/master/Data/spx.csv', index_col=0, parse_dates=True)\n",
        "spx = data['SPX']\n",
        "\n",
        "spx.plot(ax=ax, style='k-')\n",
        "\n",
        "crisis_data = [\n",
        "    (datetime(2007, 10, 11), 'Peak of bull market'),\n",
        "    (datetime(2008, 3, 12), 'Bear Stearns Fails'),\n",
        "    (datetime(2008, 9, 15), 'Lehman Bankruptcy')\n",
        "]\n",
        "\n",
        "for date, label in crisis_data:\n",
        "    ax.annotate(label, xy=(date, spx.asof(date) + 75),\n",
        "               xytext=(date, spx.asof(date) + 255),\n",
        "               arrowprops=dict(facecolor='black', headwidth=4, width=2,\n",
        "                              headlength=4),\n",
        "               horizontalalignment='left', verticalalignment='top')\n",
        "    \n",
        "# Zoom in on 2007-2010\n",
        "ax.set_xlim(['1/1/2007', '1/1/2011'])\n",
        "ax.set_ylim([600, 1800])\n",
        "ax.set_title('Important dates in the 2008-2009 financial crisis')"
      ],
      "execution_count": 0,
      "outputs": []
    },
    {
      "cell_type": "code",
      "metadata": {
        "ExecuteTime": {
          "end_time": "2019-12-24T22:46:48.409236Z",
          "start_time": "2019-12-24T22:46:48.406244Z"
        },
        "id": "hEdQPxjopUYK",
        "colab_type": "code",
        "colab": {}
      },
      "source": [
        "# drawing shapes\n",
        "# matplotlib has objects that represent many common shapes, referred to as patches\n"
      ],
      "execution_count": 0,
      "outputs": []
    },
    {
      "cell_type": "code",
      "metadata": {
        "ExecuteTime": {
          "end_time": "2019-12-24T22:46:48.708152Z",
          "start_time": "2019-12-24T22:46:48.410235Z"
        },
        "id": "1itSCGC0pUYL",
        "colab_type": "code",
        "colab": {}
      },
      "source": [
        "fig = plt.figure()\n",
        "ax = fig.add_subplot(1, 1, 1)\n",
        "rect = plt.Rectangle((0.2, 0.75), 0.4, 0.15, color='k', alpha=0.3)\n",
        "circ = plt.Circle((0.7, 0.2), 0.15, color='b', alpha=0.3)\n",
        "\n",
        "pgon = plt.Polygon([[0.15, 0.15], [0.35, 0.4], [0.2, 0.6]],\n",
        "                   color='g', alpha=0.5)\n",
        "\n",
        "ax.add_patch(rect)\n",
        "ax.add_patch(circ)\n",
        "ax.add_patch(pgon)"
      ],
      "execution_count": 0,
      "outputs": []
    },
    {
      "cell_type": "markdown",
      "metadata": {
        "id": "MvKZxQ7JpUYN",
        "colab_type": "text"
      },
      "source": [
        "# Plotting with pandas and seaborn"
      ]
    },
    {
      "cell_type": "markdown",
      "metadata": {
        "id": "Mmr9xkLSpUYN",
        "colab_type": "text"
      },
      "source": [
        "In pandas we may have multiple columns of data, along with row and column labels. Pandas itself has built-in methods that simplify creating visualizations from DataFrame and Series objects. Another library is **seaborn**, a statistical graphics library created by Michael Waskom. Seaborn simplifies creating many common visualization\n",
        "types.\n",
        "\n",
        "\n",
        "Importing seaborn modifies the default matplotlib color schemes\n",
        "and plot styles to improve readability and aesthetics. Even if you do\n",
        "not use the seaborn API, you may prefer to import seaborn as a\n",
        "simple way to improve the visual aesthetics of general matplotlib\n",
        "plots.\n"
      ]
    },
    {
      "cell_type": "markdown",
      "metadata": {
        "id": "wLf7MJ8VpUYN",
        "colab_type": "text"
      },
      "source": [
        "## Line Plots"
      ]
    },
    {
      "cell_type": "markdown",
      "metadata": {
        "id": "txm9O7kwpUYO",
        "colab_type": "text"
      },
      "source": [
        "Series and DataFrame each have a plot attribute for making some basic plot types. By default, ***plot()*** makes line plots"
      ]
    },
    {
      "cell_type": "code",
      "metadata": {
        "ExecuteTime": {
          "end_time": "2019-12-24T22:46:48.714174Z",
          "start_time": "2019-12-24T22:46:48.710151Z"
        },
        "id": "v-AzS1GmpUYO",
        "colab_type": "code",
        "colab": {}
      },
      "source": [
        "s = pd.Series(np.random.randn(10).cumsum(), index=np.arange(0, 100, 10))"
      ],
      "execution_count": 0,
      "outputs": []
    },
    {
      "cell_type": "code",
      "metadata": {
        "ExecuteTime": {
          "end_time": "2019-12-24T22:46:49.014108Z",
          "start_time": "2019-12-24T22:46:48.715133Z"
        },
        "id": "I9VL0wBGpUYR",
        "colab_type": "code",
        "colab": {}
      },
      "source": [
        "s.plot()"
      ],
      "execution_count": 0,
      "outputs": []
    },
    {
      "cell_type": "markdown",
      "metadata": {
        "id": "xuURBbfGpUYU",
        "colab_type": "text"
      },
      "source": [
        "The Series object’s ***index*** is passed to matplotlib for plotting on the ***x-axis***, though you can disable this by passing **use_index=False**. The x-axis ticks and limits can be adjusted with the xticks and xlim options, and y-axis respectively with yticks and ylim. "
      ]
    },
    {
      "cell_type": "markdown",
      "metadata": {
        "id": "j6Sag8kXpUYU",
        "colab_type": "text"
      },
      "source": [
        "Most of pandas’s plotting methods accept an optional ***ax*** parameter, which can be a\n",
        "matplotlib subplot object."
      ]
    },
    {
      "cell_type": "code",
      "metadata": {
        "ExecuteTime": {
          "end_time": "2019-12-24T22:46:49.203602Z",
          "start_time": "2019-12-24T22:46:49.015106Z"
        },
        "id": "C1TJREkIpUYU",
        "colab_type": "code",
        "colab": {}
      },
      "source": [
        "df = pd.DataFrame(np.random.randn(10, 4).cumsum(0), columns=['A', 'B', 'C', 'D'],\n",
        "                 index=np.arange(0, 100, 10))\n",
        "\n",
        "df.plot()"
      ],
      "execution_count": 0,
      "outputs": []
    },
    {
      "cell_type": "markdown",
      "metadata": {
        "id": "WK_P_nrvpUYW",
        "colab_type": "text"
      },
      "source": [
        "**Series.plot method arguments**\n",
        "\n",
        "|Argument| Description|\n",
        "|--|--|\n",
        "|label| Label for plot legend|\n",
        "|ax| matplotlib subplot object to plot on; if nothing passed, uses active matplotlib subplot|\n",
        "|style| Style string, like 'ko--', to be passed to matplotlib|\n",
        "|alpha| The plot fill opacity (from 0 to 1)|\n",
        "|kind| Can be 'area', 'bar', 'barh', 'density', 'hist', 'kde', 'line', 'pie'|\n",
        "|logy| Use logarithmic scaling on the y-axis|\n",
        "|use_index| Use the object index for tick labels|\n",
        "|rot| Rotation of tick labels (0 through 360)|\n",
        "|xticks| Values to use for x-axis ticks|\n",
        "|yticks| Values to use for y-axis ticks\n",
        "|xlim| x-axis limits (e.g., [0, 10])|\n",
        "|ylim| y-axis limits|\n",
        "|grid| Display axis grid (on by default)|"
      ]
    },
    {
      "cell_type": "markdown",
      "metadata": {
        "id": "8dwWdpzApUYX",
        "colab_type": "text"
      },
      "source": [
        "***DataFrame-specific plot arguments***\n",
        "\n",
        "|Argument| Description|\n",
        "|--|--|\n",
        "|subplots| Plot each DataFrame column in a separate subplot|\n",
        "|sharex| If subplots=True, share the same x-axis, linking ticks and limits|\n",
        "sharey| If subplots=True, share the same y-axis|\n",
        "|figsize| Size of figure to create as tuple|\n",
        "|title| Plot title as string|\n",
        "|legend| Add a subplot legend (True by default)|\n",
        "|sort_columns| Plot columns in alphabetical order; by default uses existing column order|"
      ]
    },
    {
      "cell_type": "markdown",
      "metadata": {
        "id": "tKPEW5hRpUYX",
        "colab_type": "text"
      },
      "source": [
        "## Bar Plots"
      ]
    },
    {
      "cell_type": "code",
      "metadata": {
        "ExecuteTime": {
          "end_time": "2019-12-24T22:46:49.207631Z",
          "start_time": "2019-12-24T22:46:49.204600Z"
        },
        "id": "Mf2V58QypUYX",
        "colab_type": "code",
        "colab": {}
      },
      "source": [
        "# plot.bar() and plot.barh() make vertical and horizontal bar plots"
      ],
      "execution_count": 0,
      "outputs": []
    },
    {
      "cell_type": "code",
      "metadata": {
        "ExecuteTime": {
          "end_time": "2019-12-24T22:46:49.620962Z",
          "start_time": "2019-12-24T22:46:49.208588Z"
        },
        "id": "g7gdPdhIpUYb",
        "colab_type": "code",
        "colab": {}
      },
      "source": [
        "fig, axes = plt.subplots(2, 1)\n",
        "data = pd.Series(np.random.rand(16), index=list('abcdefghijklmnop'))\n",
        "data.plot.bar(ax=axes[0], color='k', alpha=0.7)\n",
        "data.plot.barh(ax=axes[1], color='k', alpha=0.7)"
      ],
      "execution_count": 0,
      "outputs": []
    },
    {
      "cell_type": "markdown",
      "metadata": {
        "id": "rvY1060NpUYd",
        "colab_type": "text"
      },
      "source": [
        "With a DataFrame, bar plots group the values in each row together in a group in bars,\n",
        "side by side, for each value. "
      ]
    },
    {
      "cell_type": "code",
      "metadata": {
        "ExecuteTime": {
          "end_time": "2019-12-24T22:46:49.635937Z",
          "start_time": "2019-12-24T22:46:49.621958Z"
        },
        "id": "uEEPAWlhpUYd",
        "colab_type": "code",
        "colab": {}
      },
      "source": [
        "df = pd.DataFrame(np.random.rand(6, 4), index=[\n",
        "                  'one', 'two', 'three', 'four', 'five', 'six'],\n",
        "                  columns=pd.Index(['A', 'B', 'C', 'D'], name='Genus'))\n",
        "\n",
        "df"
      ],
      "execution_count": 0,
      "outputs": []
    },
    {
      "cell_type": "code",
      "metadata": {
        "ExecuteTime": {
          "end_time": "2019-12-24T22:46:49.951367Z",
          "start_time": "2019-12-24T22:46:49.636881Z"
        },
        "id": "qMfug22wpUYh",
        "colab_type": "code",
        "colab": {}
      },
      "source": [
        "df.plot.bar()\n",
        "# Note that the name “Genus” on the DataFrame’s columns is used to title the legend."
      ],
      "execution_count": 0,
      "outputs": []
    },
    {
      "cell_type": "markdown",
      "metadata": {
        "id": "yTQVieV6pUYj",
        "colab_type": "text"
      },
      "source": [
        "We create stacked bar plots from a DataFrame by passing **stacked=True**, resulting in the value in each row being stacked together"
      ]
    },
    {
      "cell_type": "code",
      "metadata": {
        "ExecuteTime": {
          "end_time": "2019-12-24T22:46:50.146808Z",
          "start_time": "2019-12-24T22:46:49.952328Z"
        },
        "id": "9vVISVZ9pUYj",
        "colab_type": "code",
        "colab": {}
      },
      "source": [
        "df.plot.barh(stacked=True, alpha=0.5)"
      ],
      "execution_count": 0,
      "outputs": []
    },
    {
      "cell_type": "code",
      "metadata": {
        "ExecuteTime": {
          "end_time": "2019-12-24T22:46:50.159773Z",
          "start_time": "2019-12-24T22:46:50.147805Z"
        },
        "id": "Hu12x-S2pUYm",
        "colab_type": "code",
        "colab": {}
      },
      "source": [
        "tips = pd.read_csv('https://raw.githubusercontent.com/rafasyafiq/pyda-online/master/Data/tips.csv')\n",
        "tips.head()"
      ],
      "execution_count": 0,
      "outputs": []
    },
    {
      "cell_type": "code",
      "metadata": {
        "ExecuteTime": {
          "end_time": "2019-12-24T22:46:50.358614Z",
          "start_time": "2019-12-24T22:46:50.160771Z"
        },
        "id": "E-BVDy6EpUYn",
        "colab_type": "code",
        "colab": {}
      },
      "source": [
        "# https://chrisalbon.com/python/data_wrangling/pandas_crosstabs/\n",
        "\n",
        "party_counts = pd.crosstab(tips['day'], tips['size'])\n",
        "party_counts"
      ],
      "execution_count": 0,
      "outputs": []
    },
    {
      "cell_type": "code",
      "metadata": {
        "ExecuteTime": {
          "end_time": "2019-12-24T22:46:50.477442Z",
          "start_time": "2019-12-24T22:46:50.359573Z"
        },
        "id": "4-2kZ7S8pUYp",
        "colab_type": "code",
        "colab": {}
      },
      "source": [
        "party_counts = party_counts.loc[:, 2:5]\n",
        "party_counts"
      ],
      "execution_count": 0,
      "outputs": []
    },
    {
      "cell_type": "code",
      "metadata": {
        "ExecuteTime": {
          "end_time": "2019-12-24T22:46:50.605157Z",
          "start_time": "2019-12-24T22:46:50.479387Z"
        },
        "id": "HKS_6JygpUYr",
        "colab_type": "code",
        "colab": {}
      },
      "source": [
        "print(party_counts.sum(1))\n",
        "party_pcts = party_counts.div(party_counts.sum(1), axis=0)"
      ],
      "execution_count": 0,
      "outputs": []
    },
    {
      "cell_type": "code",
      "metadata": {
        "ExecuteTime": {
          "end_time": "2019-12-24T22:46:50.778057Z",
          "start_time": "2019-12-24T22:46:50.606156Z"
        },
        "id": "4R-aRbrZpUYs",
        "colab_type": "code",
        "colab": {}
      },
      "source": [
        "party_pcts"
      ],
      "execution_count": 0,
      "outputs": []
    },
    {
      "cell_type": "code",
      "metadata": {
        "ExecuteTime": {
          "end_time": "2019-12-24T22:46:51.079724Z",
          "start_time": "2019-12-24T22:46:50.779056Z"
        },
        "id": "y-DLNRAHpUYu",
        "colab_type": "code",
        "colab": {}
      },
      "source": [
        "party_pcts.plot.bar()"
      ],
      "execution_count": 0,
      "outputs": []
    },
    {
      "cell_type": "code",
      "metadata": {
        "ExecuteTime": {
          "end_time": "2019-12-24T22:46:51.445802Z",
          "start_time": "2019-12-24T22:46:51.080710Z"
        },
        "id": "jYK0csFjpUYw",
        "colab_type": "code",
        "colab": {}
      },
      "source": [
        "# same plot using seaborn\n",
        "\n",
        "import seaborn as sns\n",
        "\n",
        "tips['tip_pct'] = tips['tip'] / (tips['total_bill'] - tips['tip'])"
      ],
      "execution_count": 0,
      "outputs": []
    },
    {
      "cell_type": "code",
      "metadata": {
        "ExecuteTime": {
          "end_time": "2019-12-24T22:46:51.458767Z",
          "start_time": "2019-12-24T22:46:51.446761Z"
        },
        "id": "pGOxUKRFpUYy",
        "colab_type": "code",
        "colab": {}
      },
      "source": [
        "tips.head()"
      ],
      "execution_count": 0,
      "outputs": []
    },
    {
      "cell_type": "code",
      "metadata": {
        "ExecuteTime": {
          "end_time": "2019-12-24T22:46:51.768466Z",
          "start_time": "2019-12-24T22:46:51.459729Z"
        },
        "id": "A_Mf5nQrpUY0",
        "colab_type": "code",
        "colab": {}
      },
      "source": [
        "sns.barplot(x='tip_pct', y='day', data=tips, orient='h')"
      ],
      "execution_count": 0,
      "outputs": []
    },
    {
      "cell_type": "markdown",
      "metadata": {
        "id": "1lKIYg8gpUY2",
        "colab_type": "text"
      },
      "source": [
        "seaborn.barplot has a ***hue*** option that enables us to split by an additional categorical value"
      ]
    },
    {
      "cell_type": "code",
      "metadata": {
        "ExecuteTime": {
          "end_time": "2019-12-24T22:46:52.004873Z",
          "start_time": "2019-12-24T22:46:51.769464Z"
        },
        "id": "r_OvLLtgpUY3",
        "colab_type": "code",
        "colab": {}
      },
      "source": [
        "sns.barplot(x='tip_pct', y='day', hue='time', data=tips, orient='h')"
      ],
      "execution_count": 0,
      "outputs": []
    },
    {
      "cell_type": "markdown",
      "metadata": {
        "id": "ctqCxGgQpUY5",
        "colab_type": "text"
      },
      "source": [
        "## Histograms and Density Plots"
      ]
    },
    {
      "cell_type": "markdown",
      "metadata": {
        "id": "G6qgIWu-pUY7",
        "colab_type": "text"
      },
      "source": [
        "A histogram is a kind of bar plot that gives a discretized display of value frequency.\n",
        "The data points are split into discrete, evenly spaced bins, and the number of data\n",
        "points in each bin is plotted."
      ]
    },
    {
      "cell_type": "code",
      "metadata": {
        "ExecuteTime": {
          "end_time": "2019-12-24T22:46:52.218304Z",
          "start_time": "2019-12-24T22:46:52.005831Z"
        },
        "id": "y40IIbF0pUY7",
        "colab_type": "code",
        "colab": {}
      },
      "source": [
        "tips['tip_pct'].plot.hist(bins=50)"
      ],
      "execution_count": 0,
      "outputs": []
    },
    {
      "cell_type": "markdown",
      "metadata": {
        "id": "GNAeR2KwpUY9",
        "colab_type": "text"
      },
      "source": [
        "A related plot type is a density plot, which is formed by computing an estimate of a continuous probability distribution that might have generated the observed data. The usual procedure is to approximate this distribution as a mixture of “kernels”—that is, simpler distributions like the normal distribution. Thus, density plots are also known as kernel density estimate (KDE) plots. Using plot.kde makes a density plot using the conventional mixture-of-normals estimate "
      ]
    },
    {
      "cell_type": "code",
      "metadata": {
        "ExecuteTime": {
          "end_time": "2019-12-24T22:46:52.363919Z",
          "start_time": "2019-12-24T22:46:52.219274Z"
        },
        "id": "cOB4A57NpUY-",
        "colab_type": "code",
        "colab": {}
      },
      "source": [
        "tips['tip_pct'].plot.density()"
      ],
      "execution_count": 0,
      "outputs": []
    },
    {
      "cell_type": "markdown",
      "metadata": {
        "id": "PSLFaadupUY_",
        "colab_type": "text"
      },
      "source": [
        "Seaborn makes histograms and density plots even easier through its **distplot**\n",
        "method, which can plot both a histogram and a continuous density estimate simulta‐\n",
        "neously"
      ]
    },
    {
      "cell_type": "code",
      "metadata": {
        "ExecuteTime": {
          "end_time": "2019-12-24T22:46:52.378835Z",
          "start_time": "2019-12-24T22:46:52.364873Z"
        },
        "id": "TYujHMTNpUY_",
        "colab_type": "code",
        "colab": {}
      },
      "source": [
        "# example - bimodal distribution consisting of draws from\n",
        "# two different standard normal distributions"
      ],
      "execution_count": 0,
      "outputs": []
    },
    {
      "cell_type": "code",
      "metadata": {
        "ExecuteTime": {
          "end_time": "2019-12-24T22:46:52.530516Z",
          "start_time": "2019-12-24T22:46:52.379831Z"
        },
        "id": "4xRK0-qZpUZC",
        "colab_type": "code",
        "colab": {}
      },
      "source": [
        "comp1 = np.random.normal(0, 1, size=200)"
      ],
      "execution_count": 0,
      "outputs": []
    },
    {
      "cell_type": "code",
      "metadata": {
        "ExecuteTime": {
          "end_time": "2019-12-24T22:46:52.681026Z",
          "start_time": "2019-12-24T22:46:52.531512Z"
        },
        "id": "eksOM8HQpUZD",
        "colab_type": "code",
        "colab": {}
      },
      "source": [
        "comp2 = np.random.normal(10, 2, size=200)"
      ],
      "execution_count": 0,
      "outputs": []
    },
    {
      "cell_type": "code",
      "metadata": {
        "ExecuteTime": {
          "end_time": "2019-12-24T22:46:53.180808Z",
          "start_time": "2019-12-24T22:46:52.683021Z"
        },
        "id": "nECgAuJJpUZF",
        "colab_type": "code",
        "colab": {}
      },
      "source": [
        "values = pd.Series(np.concatenate([comp1, comp2]))"
      ],
      "execution_count": 0,
      "outputs": []
    },
    {
      "cell_type": "code",
      "metadata": {
        "ExecuteTime": {
          "end_time": "2019-12-24T22:46:53.682769Z",
          "start_time": "2019-12-24T22:46:53.186782Z"
        },
        "id": "tWYg4xYZpUZH",
        "colab_type": "code",
        "colab": {}
      },
      "source": [
        "sns.distplot(values, bins=100, color='k')"
      ],
      "execution_count": 0,
      "outputs": []
    },
    {
      "cell_type": "markdown",
      "metadata": {
        "id": "IERv79BWpUZJ",
        "colab_type": "text"
      },
      "source": [
        "## Scatter or Points Plots\n",
        "\n",
        "Point plots or scatter plots can be a useful way of examining the relationship between two one-dimensional data series. "
      ]
    },
    {
      "cell_type": "code",
      "metadata": {
        "ExecuteTime": {
          "end_time": "2019-12-24T22:46:53.690787Z",
          "start_time": "2019-12-24T22:46:53.683809Z"
        },
        "id": "mjEyAqBGpUZJ",
        "colab_type": "code",
        "colab": {}
      },
      "source": [
        "macro = pd.read_csv('https://raw.githubusercontent.com/rafasyafiq/pyda-online/master/Data/macrodata.csv')"
      ],
      "execution_count": 0,
      "outputs": []
    },
    {
      "cell_type": "code",
      "metadata": {
        "ExecuteTime": {
          "end_time": "2019-12-24T22:46:53.825892Z",
          "start_time": "2019-12-24T22:46:53.691744Z"
        },
        "id": "QevXhaW5pUZL",
        "colab_type": "code",
        "colab": {}
      },
      "source": [
        "data = macro[['cpi', 'm1', 'tbilrate', 'unemp']]"
      ],
      "execution_count": 0,
      "outputs": []
    },
    {
      "cell_type": "code",
      "metadata": {
        "ExecuteTime": {
          "end_time": "2019-12-24T22:46:53.967351Z",
          "start_time": "2019-12-24T22:46:53.827629Z"
        },
        "id": "NmPnnBffpUZO",
        "colab_type": "code",
        "colab": {}
      },
      "source": [
        "trans_data = np.log(data).diff().dropna()"
      ],
      "execution_count": 0,
      "outputs": []
    },
    {
      "cell_type": "code",
      "metadata": {
        "ExecuteTime": {
          "end_time": "2019-12-24T22:46:54.141421Z",
          "start_time": "2019-12-24T22:46:53.968348Z"
        },
        "id": "8uIDkRevpUZP",
        "colab_type": "code",
        "colab": {}
      },
      "source": [
        "trans_data[-5:]"
      ],
      "execution_count": 0,
      "outputs": []
    },
    {
      "cell_type": "markdown",
      "metadata": {
        "id": "lRlfa1KHpUZQ",
        "colab_type": "text"
      },
      "source": [
        "***We can then use seaborn’s regplot method, which makes a scatter plot and fits a linear regression line***"
      ]
    },
    {
      "cell_type": "code",
      "metadata": {
        "ExecuteTime": {
          "end_time": "2019-12-24T22:46:54.552572Z",
          "start_time": "2019-12-24T22:46:54.142418Z"
        },
        "id": "TkqHWgXJpUZQ",
        "colab_type": "code",
        "colab": {}
      },
      "source": [
        "sns.regplot('m1', 'unemp', data=trans_data)\n",
        "plt.title(f\"Changes in log {'m1'} versus log {'unemp'}\")"
      ],
      "execution_count": 0,
      "outputs": []
    },
    {
      "cell_type": "markdown",
      "metadata": {
        "id": "403yWfYCpUZS",
        "colab_type": "text"
      },
      "source": [
        "In exploratory data analysis it’s helpful to be able to look at all the scatter plots among a group of variables; this is known as a ***pairs plot*** or ***scatter plot matrix***. Making such a plot from scratch is a bit of work, so seaborn has a convenient **pairplot** function, which supports placing histograms or density estimates of each variable along the diagonal"
      ]
    },
    {
      "cell_type": "code",
      "metadata": {
        "ExecuteTime": {
          "end_time": "2019-12-24T22:46:57.522249Z",
          "start_time": "2019-12-24T22:46:54.553570Z"
        },
        "id": "osFAPrLTpUZS",
        "colab_type": "code",
        "colab": {}
      },
      "source": [
        "sns.pairplot(trans_data, diag_kind='kde', plot_kws={'alpha': 0.7})"
      ],
      "execution_count": 0,
      "outputs": []
    },
    {
      "cell_type": "markdown",
      "metadata": {
        "id": "iv4iDY3opUZU",
        "colab_type": "text"
      },
      "source": [
        "**plot_kws** - enables us to pass down configuration options to the individual plotting calls on the off-diagonal elements."
      ]
    },
    {
      "cell_type": "markdown",
      "metadata": {
        "id": "cGjXe7AtpUZU",
        "colab_type": "text"
      },
      "source": [
        "## Facet Grids and Categorical Data\n",
        "\n",
        "What about datasets where we have additional grouping dimensions? One way to visualize data with many categorical variables is to use a facet grid. Seaborn has a useful built-in function **factorplot** that simplifies making many kinds of faceted plots \n",
        "\n",
        "* renamed to **catplot**"
      ]
    },
    {
      "cell_type": "code",
      "metadata": {
        "ExecuteTime": {
          "end_time": "2019-12-24T22:46:58.051871Z",
          "start_time": "2019-12-24T22:46:57.523246Z"
        },
        "id": "fuf6Ex4RpUZU",
        "colab_type": "code",
        "colab": {}
      },
      "source": [
        "sns.catplot(x='day', y='tip_pct', hue='time', col='smoker',\n",
        "               kind='bar', data=tips[tips.tip_pct < 1])"
      ],
      "execution_count": 0,
      "outputs": []
    },
    {
      "cell_type": "markdown",
      "metadata": {
        "id": "2v2I8omnpUZX",
        "colab_type": "text"
      },
      "source": [
        "Instead of grouping by 'time' by different bar colors within a facet, we can also expand the facet grid by adding one row per time value"
      ]
    },
    {
      "cell_type": "code",
      "metadata": {
        "ExecuteTime": {
          "end_time": "2019-12-24T22:46:58.709121Z",
          "start_time": "2019-12-24T22:46:58.052833Z"
        },
        "id": "WD5hQiogpUZX",
        "colab_type": "code",
        "colab": {}
      },
      "source": [
        "sns.catplot(x='day', y='tip_pct', row='time', col='smoker', kind='bar',\n",
        "            data=tips[tips.tip_pct < 1])"
      ],
      "execution_count": 0,
      "outputs": []
    },
    {
      "cell_type": "markdown",
      "metadata": {
        "id": "JEzQ3s_QpUZY",
        "colab_type": "text"
      },
      "source": [
        "***catplot*** supports other plot types that may be useful depending on what you are trying to display. For example, box plots (which show the median, quartiles, and outliers) can be an effective visualization type"
      ]
    },
    {
      "cell_type": "code",
      "metadata": {
        "ExecuteTime": {
          "end_time": "2019-12-24T22:46:59.738449Z",
          "start_time": "2019-12-24T22:46:58.710079Z"
        },
        "id": "yg4X-Gn_pUZY",
        "colab_type": "code",
        "colab": {}
      },
      "source": [
        "sns.catplot(x='tip_pct', y='day', kind='box', data=tips[tips.tip_pct < 0.5])"
      ],
      "execution_count": 0,
      "outputs": []
    }
  ]
}