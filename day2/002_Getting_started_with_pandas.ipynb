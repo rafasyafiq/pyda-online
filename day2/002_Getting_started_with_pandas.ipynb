{
  "nbformat": 4,
  "nbformat_minor": 0,
  "metadata": {
    "kernelspec": {
      "display_name": "Python 3",
      "language": "python",
      "name": "python3"
    },
    "language_info": {
      "codemirror_mode": {
        "name": "ipython",
        "version": 3
      },
      "file_extension": ".py",
      "mimetype": "text/x-python",
      "name": "python",
      "nbconvert_exporter": "python",
      "pygments_lexer": "ipython3",
      "version": "3.7.1"
    },
    "toc": {
      "base_numbering": 1,
      "nav_menu": {},
      "number_sections": true,
      "sideBar": true,
      "skip_h1_title": false,
      "title_cell": "Table of Contents",
      "title_sidebar": "Contents",
      "toc_cell": true,
      "toc_position": {
        "height": "calc(100% - 180px)",
        "left": "10px",
        "top": "150px",
        "width": "202.837px"
      },
      "toc_section_display": true,
      "toc_window_display": false
    },
    "varInspector": {
      "cols": {
        "lenName": 16,
        "lenType": 16,
        "lenVar": 40
      },
      "kernels_config": {
        "python": {
          "delete_cmd_postfix": "",
          "delete_cmd_prefix": "del ",
          "library": "var_list.py",
          "varRefreshCmd": "print(var_dic_list())"
        },
        "r": {
          "delete_cmd_postfix": ") ",
          "delete_cmd_prefix": "rm(",
          "library": "var_list.r",
          "varRefreshCmd": "cat(var_dic_list()) "
        }
      },
      "types_to_exclude": [
        "module",
        "function",
        "builtin_function_or_method",
        "instance",
        "_Feature"
      ],
      "window_display": false
    },
    "colab": {
      "name": "002_Getting started with pandas.ipynb",
      "provenance": [],
      "include_colab_link": true
    }
  },
  "cells": [
    {
      "cell_type": "markdown",
      "metadata": {
        "id": "view-in-github",
        "colab_type": "text"
      },
      "source": [
        "<a href=\"https://colab.research.google.com/github/rafasyafiq/pyda-online/blob/master/day2/002_Getting_started_with_pandas.ipynb\" target=\"_parent\"><img src=\"https://colab.research.google.com/assets/colab-badge.svg\" alt=\"Open In Colab\"/></a>"
      ]
    },
    {
      "cell_type": "code",
      "metadata": {
        "ExecuteTime": {
          "end_time": "2019-12-24T11:54:01.227037Z",
          "start_time": "2019-12-24T11:54:00.439377Z"
        },
        "id": "qEaz5IzwM144",
        "colab_type": "code",
        "colab": {}
      },
      "source": [
        "import pandas as pd\n",
        "import numpy as np"
      ],
      "execution_count": 0,
      "outputs": []
    },
    {
      "cell_type": "code",
      "metadata": {
        "ExecuteTime": {
          "end_time": "2019-12-24T11:54:01.232635Z",
          "start_time": "2019-12-24T11:54:01.227037Z"
        },
        "id": "vdLRTwQBM147",
        "colab_type": "code",
        "colab": {}
      },
      "source": [
        "import builtins\n",
        "\n",
        "def print(*args, **kwargs):\n",
        "    builtins.print(*args, **kwargs, end='\\n\\n')"
      ],
      "execution_count": 0,
      "outputs": []
    },
    {
      "cell_type": "markdown",
      "metadata": {
        "ExecuteTime": {
          "end_time": "2019-12-22T12:01:19.037222Z",
          "start_time": "2019-12-22T12:01:19.029951Z"
        },
        "id": "1d-W_6EVM14-",
        "colab_type": "text"
      },
      "source": [
        "## Series\n",
        "\n",
        "A Series is a one-dimensional array-like object containing a sequence of values (of similar types to NumPy types) and an associated array of data labels, called its index."
      ]
    },
    {
      "cell_type": "code",
      "metadata": {
        "ExecuteTime": {
          "end_time": "2019-12-24T11:54:02.268631Z",
          "start_time": "2019-12-24T11:54:01.233953Z"
        },
        "id": "NZcJKt9gM14_",
        "colab_type": "code",
        "colab": {}
      },
      "source": [
        "obj = pd.Series([4, 7, -5, 3])\n",
        "print(obj) \n",
        "print(obj.index)\n",
        "print(obj.values)"
      ],
      "execution_count": 0,
      "outputs": []
    },
    {
      "cell_type": "code",
      "metadata": {
        "ExecuteTime": {
          "end_time": "2019-12-24T11:54:02.430806Z",
          "start_time": "2019-12-24T11:54:02.271623Z"
        },
        "id": "dHlXYc9sM15B",
        "colab_type": "code",
        "colab": {}
      },
      "source": [
        "obj2 = pd.Series([4, 7, -5, 3], index=['d', 'a', 'c', 'b'])\n",
        "print(obj2)\n",
        "print(obj2.index)"
      ],
      "execution_count": 0,
      "outputs": []
    },
    {
      "cell_type": "code",
      "metadata": {
        "ExecuteTime": {
          "end_time": "2019-12-24T11:54:02.643902Z",
          "start_time": "2019-12-24T11:54:02.432505Z"
        },
        "id": "9Dm1cY1sM15E",
        "colab_type": "code",
        "colab": {}
      },
      "source": [
        "obj2['a']"
      ],
      "execution_count": 0,
      "outputs": []
    },
    {
      "cell_type": "code",
      "metadata": {
        "ExecuteTime": {
          "end_time": "2019-12-24T11:54:02.812307Z",
          "start_time": "2019-12-24T11:54:02.645897Z"
        },
        "id": "VS4pjCeqM15G",
        "colab_type": "code",
        "colab": {}
      },
      "source": [
        "obj2[['c', 'a', 'd']]"
      ],
      "execution_count": 0,
      "outputs": []
    },
    {
      "cell_type": "code",
      "metadata": {
        "ExecuteTime": {
          "end_time": "2019-12-24T11:54:02.962361Z",
          "start_time": "2019-12-24T11:54:02.814622Z"
        },
        "id": "i3-zh70OM15K",
        "colab_type": "code",
        "colab": {}
      },
      "source": [
        "sdata = {'Ohio': 35000, 'Texas': 71000, 'Oregon': 16000, 'Utah': 5000}\n",
        "obj3 = pd.Series(sdata)\n",
        "print(obj3)"
      ],
      "execution_count": 0,
      "outputs": []
    },
    {
      "cell_type": "code",
      "metadata": {
        "ExecuteTime": {
          "end_time": "2019-12-24T11:54:03.145871Z",
          "start_time": "2019-12-24T11:54:02.964783Z"
        },
        "id": "vp411cQZM15N",
        "colab_type": "code",
        "colab": {}
      },
      "source": [
        "states = ['California', 'Ohio', 'Oregon', 'Texas']\n",
        "obj4 = pd.Series(sdata, index=states)\n",
        "print(obj4)"
      ],
      "execution_count": 0,
      "outputs": []
    },
    {
      "cell_type": "code",
      "metadata": {
        "ExecuteTime": {
          "end_time": "2019-12-24T11:54:03.282293Z",
          "start_time": "2019-12-24T11:54:03.148390Z"
        },
        "id": "2TRaDsxVM15Q",
        "colab_type": "code",
        "colab": {}
      },
      "source": [
        "print(obj4.isnull())\n",
        "print(obj4.notnull())"
      ],
      "execution_count": 0,
      "outputs": []
    },
    {
      "cell_type": "code",
      "metadata": {
        "ExecuteTime": {
          "end_time": "2019-12-24T11:54:03.477576Z",
          "start_time": "2019-12-24T11:54:03.282293Z"
        },
        "id": "jmlCFMBeM15S",
        "colab_type": "code",
        "colab": {}
      },
      "source": [
        "print(obj3)\n",
        "print(obj4)\n",
        "print(obj3 + obj4)"
      ],
      "execution_count": 0,
      "outputs": []
    },
    {
      "cell_type": "code",
      "metadata": {
        "ExecuteTime": {
          "end_time": "2019-12-24T11:54:03.586203Z",
          "start_time": "2019-12-24T11:54:03.480359Z"
        },
        "id": "iY4woL0HM15U",
        "colab_type": "code",
        "colab": {}
      },
      "source": [
        "obj4.name = 'population'\n",
        "obj4.index.name = 'state'\n",
        "print(obj4)"
      ],
      "execution_count": 0,
      "outputs": []
    },
    {
      "cell_type": "code",
      "metadata": {
        "ExecuteTime": {
          "end_time": "2019-12-24T11:54:03.710465Z",
          "start_time": "2019-12-24T11:54:03.588187Z"
        },
        "id": "fxBMna3kM15X",
        "colab_type": "code",
        "colab": {}
      },
      "source": [
        "print(obj)\n",
        "obj.index = ['Bob', 'Steve', 'Jeff', 'Ryan']\n",
        "print(obj)"
      ],
      "execution_count": 0,
      "outputs": []
    },
    {
      "cell_type": "markdown",
      "metadata": {
        "id": "633O0tTtM15a",
        "colab_type": "text"
      },
      "source": [
        "## DataFrame\n",
        "\n",
        "A DataFrame represents a rectangular table of data and contains an ordered collection of columns, each of which can be a different value type (numeric, string, boolean, etc.)."
      ]
    },
    {
      "cell_type": "code",
      "metadata": {
        "ExecuteTime": {
          "end_time": "2019-12-24T11:54:03.884935Z",
          "start_time": "2019-12-24T11:54:03.713457Z"
        },
        "id": "jIf3yIuyM15b",
        "colab_type": "code",
        "colab": {}
      },
      "source": [
        "data = {'state': ['Ohio', 'Ohio', 'Ohio', 'Nevada', 'Nevada', 'Nevada'],\n",
        " 'year': [2000, 2001, 2002, 2001, 2002, 2003],\n",
        " 'pop': [1.5, 1.7, 3.6, 2.4, 2.9, 3.2]}\n",
        "\n",
        "frame = pd.DataFrame(data)\n",
        "print(frame)"
      ],
      "execution_count": 0,
      "outputs": []
    },
    {
      "cell_type": "code",
      "metadata": {
        "ExecuteTime": {
          "end_time": "2019-12-24T11:54:04.041094Z",
          "start_time": "2019-12-24T11:54:03.886930Z"
        },
        "id": "YElWhsm8M15c",
        "colab_type": "code",
        "colab": {}
      },
      "source": [
        "pd.DataFrame(data, columns=['year', 'state', 'pop'])"
      ],
      "execution_count": 0,
      "outputs": []
    },
    {
      "cell_type": "code",
      "metadata": {
        "ExecuteTime": {
          "end_time": "2019-12-24T11:54:04.244915Z",
          "start_time": "2019-12-24T11:54:04.043184Z"
        },
        "id": "WH9HmWfsM15e",
        "colab_type": "code",
        "colab": {}
      },
      "source": [
        "# u pass a column that isn’t contained in the dict, \n",
        "# it will appear with missing values\n",
        "\n",
        "frame2 = pd.DataFrame(data, columns=['year', 'state', 'pop', 'debt'],\n",
        "                     index=['one', 'two', 'three', 'four', 'five', 'six'])\n",
        "\n",
        "print(frame2)\n",
        "print(frame2.columns)"
      ],
      "execution_count": 0,
      "outputs": []
    },
    {
      "cell_type": "code",
      "metadata": {
        "ExecuteTime": {
          "end_time": "2019-12-24T11:54:04.373163Z",
          "start_time": "2019-12-24T11:54:04.244915Z"
        },
        "id": "AL95cBiWM15h",
        "colab_type": "code",
        "colab": {}
      },
      "source": [
        "print(frame['state'])\n",
        "print(frame.year)"
      ],
      "execution_count": 0,
      "outputs": []
    },
    {
      "cell_type": "code",
      "metadata": {
        "ExecuteTime": {
          "end_time": "2019-12-24T11:54:04.502687Z",
          "start_time": "2019-12-24T11:54:04.374158Z"
        },
        "id": "1VrbNVsfM15k",
        "colab_type": "code",
        "colab": {}
      },
      "source": [
        "# Rows can also be retrieved by \n",
        "# position or name with the special loc attribute\n",
        "frame2.loc['three']"
      ],
      "execution_count": 0,
      "outputs": []
    },
    {
      "cell_type": "code",
      "metadata": {
        "ExecuteTime": {
          "end_time": "2019-12-24T11:54:04.699057Z",
          "start_time": "2019-12-24T11:54:04.503681Z"
        },
        "id": "_RAhQypYM15l",
        "colab_type": "code",
        "colab": {}
      },
      "source": [
        "print(frame2)\n",
        "frame2['debt'] = 16.5\n",
        "print(frame2)\n",
        "frame2['debt'] = np.arange(6.)\n",
        "print(frame2)"
      ],
      "execution_count": 0,
      "outputs": []
    },
    {
      "cell_type": "code",
      "metadata": {
        "ExecuteTime": {
          "end_time": "2019-12-24T11:54:04.822895Z",
          "start_time": "2019-12-24T11:54:04.700056Z"
        },
        "scrolled": true,
        "id": "g16YeKcdM15o",
        "colab_type": "code",
        "colab": {}
      },
      "source": [
        "val = pd.Series([-1.2, -1.5, -1.7], index=['two', 'four', 'five'])\n",
        "frame2['debt'] = val\n",
        "print(frame2)"
      ],
      "execution_count": 0,
      "outputs": []
    },
    {
      "cell_type": "code",
      "metadata": {
        "ExecuteTime": {
          "end_time": "2019-12-24T11:54:04.996306Z",
          "start_time": "2019-12-24T11:54:04.825542Z"
        },
        "id": "5U_c7GnGM15r",
        "colab_type": "code",
        "colab": {}
      },
      "source": [
        "# Assigning a column that doesn’t exist will create a new column. \n",
        "# The del keyword will delete columns as with a dict.\n",
        "# As an example of del, I first add a new column of boolean \n",
        "# values where the state column equals 'Ohio':\n",
        "\n",
        "frame2['eastern'] = frame2['state'] == 'Ohio'\n",
        "print(frame2)\n",
        "\n",
        "del frame2['eastern']\n",
        "frame2.columns"
      ],
      "execution_count": 0,
      "outputs": []
    },
    {
      "cell_type": "code",
      "metadata": {
        "ExecuteTime": {
          "end_time": "2019-12-24T11:54:05.121544Z",
          "start_time": "2019-12-24T11:54:04.998624Z"
        },
        "id": "GpmGUguHM15t",
        "colab_type": "code",
        "colab": {}
      },
      "source": [
        "# another way is a nested dict of dicts\n",
        "pop = {'Nevada': {2001: 2.4, 2002: 2.9},\n",
        "       'Ohio': {2000: 1.5, 2001: 1.7, 2002: 3.6}}\n",
        "\n",
        "# If the nested dict is passed to the DataFrame, \n",
        "# pandas will interpret the outer dict keys\n",
        "# as the columns and the inner keys as the row indices\n",
        "\n",
        "frame3 = pd.DataFrame(pop)\n",
        "print(frame3)"
      ],
      "execution_count": 0,
      "outputs": []
    },
    {
      "cell_type": "code",
      "metadata": {
        "ExecuteTime": {
          "end_time": "2019-12-24T11:54:05.295926Z",
          "start_time": "2019-12-24T11:54:05.126331Z"
        },
        "id": "zTpwXodNM15u",
        "colab_type": "code",
        "colab": {}
      },
      "source": [
        "# transpose dataframe\n",
        "frame3.T"
      ],
      "execution_count": 0,
      "outputs": []
    },
    {
      "cell_type": "code",
      "metadata": {
        "ExecuteTime": {
          "end_time": "2019-12-24T11:54:05.432228Z",
          "start_time": "2019-12-24T11:54:05.299058Z"
        },
        "id": "vLwGgkmlM15x",
        "colab_type": "code",
        "colab": {}
      },
      "source": [
        "frame3.index.name = 'year'; frame3.columns.name = 'state'\n",
        "print(frame3)"
      ],
      "execution_count": 0,
      "outputs": []
    },
    {
      "cell_type": "markdown",
      "metadata": {
        "id": "OkUOjnpsM15y",
        "colab_type": "text"
      },
      "source": [
        "## Using the axis parameter \n",
        "\n",
        "1) axis = 0 => row\n",
        "    * Move across/down the row axis\n",
        "    * Direction of operation is down\n",
        "\n",
        "2) axis = 1 => column\n",
        "    * Move along the column axis\n",
        "    * Direction of operation is sideways\n"
      ]
    },
    {
      "cell_type": "code",
      "metadata": {
        "ExecuteTime": {
          "end_time": "2019-12-24T11:54:06.582318Z",
          "start_time": "2019-12-24T11:54:05.434315Z"
        },
        "id": "NkOvSwOPM15z",
        "colab_type": "code",
        "colab": {}
      },
      "source": [
        "drinks = pd.read_csv('http://bit.ly/drinksbycountry')\n",
        "drinks.head()"
      ],
      "execution_count": 0,
      "outputs": []
    },
    {
      "cell_type": "code",
      "metadata": {
        "ExecuteTime": {
          "end_time": "2019-12-24T11:54:06.610698Z",
          "start_time": "2019-12-24T11:54:06.587032Z"
        },
        "id": "LKxEpQLCM151",
        "colab_type": "code",
        "colab": {}
      },
      "source": [
        "# dropping a column\n",
        "\n",
        "drinks.drop('continent', axis=1).head() "
      ],
      "execution_count": 0,
      "outputs": []
    },
    {
      "cell_type": "code",
      "metadata": {
        "ExecuteTime": {
          "end_time": "2019-12-24T11:54:07.987950Z",
          "start_time": "2019-12-24T11:54:06.613218Z"
        },
        "id": "BMYGcggHM154",
        "colab_type": "code",
        "colab": {}
      },
      "source": [
        "# dropping a row\n",
        "\n",
        "drinks.drop(2, axis=0).head()"
      ],
      "execution_count": 0,
      "outputs": []
    },
    {
      "cell_type": "code",
      "metadata": {
        "ExecuteTime": {
          "end_time": "2019-12-24T11:54:08.176714Z",
          "start_time": "2019-12-24T11:54:07.990944Z"
        },
        "scrolled": true,
        "id": "m7viiytVM157",
        "colab_type": "code",
        "colab": {}
      },
      "source": [
        "# default axis=0\n",
        "# mean of each column\n",
        "\n",
        "print(drinks.mean().shape)\n",
        "drinks.mean() "
      ],
      "execution_count": 0,
      "outputs": []
    },
    {
      "cell_type": "code",
      "metadata": {
        "ExecuteTime": {
          "end_time": "2019-12-24T11:54:08.296361Z",
          "start_time": "2019-12-24T11:54:08.178873Z"
        },
        "id": "zFqGB7mPM158",
        "colab_type": "code",
        "colab": {}
      },
      "source": [
        "# mean of each row\n",
        "\n",
        "print(drinks.mean(axis=1).shape)\n",
        "drinks.mean(axis=1)"
      ],
      "execution_count": 0,
      "outputs": []
    },
    {
      "cell_type": "markdown",
      "metadata": {
        "id": "V1waHT0MM15-",
        "colab_type": "text"
      },
      "source": [
        "## Essesntial Functionality"
      ]
    },
    {
      "cell_type": "markdown",
      "metadata": {
        "id": "Ch8nEBySM15-",
        "colab_type": "text"
      },
      "source": [
        "### Reindexing\n",
        "\n",
        "An important method on pandas objects is **reindex**, which means to create a new object with the data conformed to a new index"
      ]
    },
    {
      "cell_type": "code",
      "metadata": {
        "ExecuteTime": {
          "end_time": "2019-12-24T11:54:08.467311Z",
          "start_time": "2019-12-24T11:54:08.296361Z"
        },
        "id": "dIP3BFdyM15_",
        "colab_type": "code",
        "colab": {}
      },
      "source": [
        "obj = pd.Series([4.5, 7.2, -5.3, 3.6], index=['d', 'b', 'a', 'c'])\n",
        "print(obj)\n",
        "\n",
        "obj2 = obj.reindex(['a', 'b', 'c', 'd'])\n",
        "print(obj2)"
      ],
      "execution_count": 0,
      "outputs": []
    },
    {
      "cell_type": "markdown",
      "metadata": {
        "id": "irwW_N9wM16C",
        "colab_type": "text"
      },
      "source": [
        "For ordered data like time series, it may be desirable to do some interpolation or filling of values when reindexing. The **method** option allows us to do this, using a\n",
        "method such as **ffill**, which forward-fills the values"
      ]
    },
    {
      "cell_type": "code",
      "metadata": {
        "ExecuteTime": {
          "end_time": "2019-12-24T11:54:08.580511Z",
          "start_time": "2019-12-24T11:54:08.470651Z"
        },
        "id": "DVVdpJVJM16D",
        "colab_type": "code",
        "colab": {}
      },
      "source": [
        "obj3 = pd.Series(['blue', 'purple', 'yellow'], index=[0, 2, 4])\n",
        "print(obj3)\n",
        "\n",
        "obj3.reindex(range(6), method='ffill')"
      ],
      "execution_count": 0,
      "outputs": []
    },
    {
      "cell_type": "code",
      "metadata": {
        "ExecuteTime": {
          "end_time": "2019-12-24T11:54:08.694431Z",
          "start_time": "2019-12-24T11:54:08.582639Z"
        },
        "id": "3fnGmR3lM16F",
        "colab_type": "code",
        "colab": {}
      },
      "source": [
        "frame = pd.DataFrame(np.arange(9).reshape((3, 3)), index=['a', 'c', 'd'],\n",
        "                     columns=['Ohio', 'Texas', 'California'])\n",
        "frame.index.name = 'letters'\n",
        "frame"
      ],
      "execution_count": 0,
      "outputs": []
    },
    {
      "cell_type": "code",
      "metadata": {
        "ExecuteTime": {
          "end_time": "2019-12-24T11:54:08.812642Z",
          "start_time": "2019-12-24T11:54:08.696663Z"
        },
        "id": "9xHPlm6GM16I",
        "colab_type": "code",
        "colab": {}
      },
      "source": [
        "frame2 = frame.reindex(['a', 'b', 'c', 'd'])\n",
        "frame2"
      ],
      "execution_count": 0,
      "outputs": []
    },
    {
      "cell_type": "code",
      "metadata": {
        "ExecuteTime": {
          "end_time": "2019-12-24T11:54:08.910495Z",
          "start_time": "2019-12-24T11:54:08.814770Z"
        },
        "scrolled": false,
        "id": "01NIST4kM16K",
        "colab_type": "code",
        "colab": {}
      },
      "source": [
        "# The columns can be reindexed with the columns keyword:\n",
        "states = ['Texas', 'Utah', 'California']\n",
        "frame.reindex(columns=states)"
      ],
      "execution_count": 0,
      "outputs": []
    },
    {
      "cell_type": "code",
      "metadata": {
        "ExecuteTime": {
          "end_time": "2019-12-24T11:54:09.024940Z",
          "start_time": "2019-12-24T11:54:08.911493Z"
        },
        "id": "YV1mI77XM16L",
        "colab_type": "code",
        "colab": {}
      },
      "source": [
        "frame.reindex(['a', 'b', 'c', 'd'], columns=states)"
      ],
      "execution_count": 0,
      "outputs": []
    },
    {
      "cell_type": "code",
      "metadata": {
        "ExecuteTime": {
          "end_time": "2019-12-24T11:54:09.141015Z",
          "start_time": "2019-12-24T11:54:09.024940Z"
        },
        "id": "H8sGypPtM16N",
        "colab_type": "code",
        "colab": {}
      },
      "source": [
        "frame.reindex(['a', 'b', 'c', 'd'], columns=states, fill_value=0)"
      ],
      "execution_count": 0,
      "outputs": []
    },
    {
      "cell_type": "markdown",
      "metadata": {
        "id": "Yfg52zLhM16O",
        "colab_type": "text"
      },
      "source": [
        "### Dropping Entries from an axis\n",
        "\n",
        "**drop** method will return a new object with the indicated value or values deleted from an axis"
      ]
    },
    {
      "cell_type": "code",
      "metadata": {
        "ExecuteTime": {
          "end_time": "2019-12-24T11:54:09.250070Z",
          "start_time": "2019-12-24T11:54:09.141015Z"
        },
        "id": "Hgib6slXM16P",
        "colab_type": "code",
        "colab": {}
      },
      "source": [
        "obj = pd.Series(np.arange(5.), index=['a', 'b', 'c', 'd', 'e'])\n",
        "obj"
      ],
      "execution_count": 0,
      "outputs": []
    },
    {
      "cell_type": "code",
      "metadata": {
        "ExecuteTime": {
          "end_time": "2019-12-24T11:54:09.396400Z",
          "start_time": "2019-12-24T11:54:09.251603Z"
        },
        "id": "I5SF8uXeM16S",
        "colab_type": "code",
        "colab": {}
      },
      "source": [
        "new_obj = obj.drop('c')\n",
        "new_obj"
      ],
      "execution_count": 0,
      "outputs": []
    },
    {
      "cell_type": "code",
      "metadata": {
        "ExecuteTime": {
          "end_time": "2019-12-24T11:54:09.598954Z",
          "start_time": "2019-12-24T11:54:09.396400Z"
        },
        "id": "uAuRBC5oM16T",
        "colab_type": "code",
        "colab": {}
      },
      "source": [
        "obj.drop(['d', 'c'])"
      ],
      "execution_count": 0,
      "outputs": []
    },
    {
      "cell_type": "markdown",
      "metadata": {
        "id": "inNx_BNxM16V",
        "colab_type": "text"
      },
      "source": [
        "With DataFrame, index values can be deleted from either axis"
      ]
    },
    {
      "cell_type": "code",
      "metadata": {
        "ExecuteTime": {
          "end_time": "2019-12-24T11:54:09.802608Z",
          "start_time": "2019-12-24T11:54:09.599952Z"
        },
        "id": "9wciYN_oM16V",
        "colab_type": "code",
        "colab": {}
      },
      "source": [
        "data = pd.DataFrame(np.arange(16).reshape((4, 4)), index=['Ohio', 'Colorado', 'Utah', 'New York'],\n",
        "                    columns=['one', 'two', 'three', 'four'])\n",
        "data"
      ],
      "execution_count": 0,
      "outputs": []
    },
    {
      "cell_type": "code",
      "metadata": {
        "ExecuteTime": {
          "end_time": "2019-12-24T11:54:09.966588Z",
          "start_time": "2019-12-24T11:54:09.803605Z"
        },
        "id": "7bgtRFdiM16X",
        "colab_type": "code",
        "colab": {}
      },
      "source": [
        "# Calling drop with a sequence of labels will \n",
        "# drop values from the row labels (axis 0):\n",
        "data.drop(['Colorado', 'Ohio'])"
      ],
      "execution_count": 0,
      "outputs": []
    },
    {
      "cell_type": "code",
      "metadata": {
        "ExecuteTime": {
          "end_time": "2019-12-24T11:54:10.096537Z",
          "start_time": "2019-12-24T11:54:09.966588Z"
        },
        "id": "5-m3CCRLM16a",
        "colab_type": "code",
        "colab": {}
      },
      "source": [
        "# drop values from columns: pass axis=1 or axis='columns'\n",
        "\n",
        "data.drop(['two', 'four'], axis=1)"
      ],
      "execution_count": 0,
      "outputs": []
    },
    {
      "cell_type": "code",
      "metadata": {
        "ExecuteTime": {
          "end_time": "2019-12-24T11:54:10.243523Z",
          "start_time": "2019-12-24T11:54:10.097533Z"
        },
        "id": "HgyrsXFTM16c",
        "colab_type": "code",
        "colab": {}
      },
      "source": [
        "print(obj)\n",
        "obj.drop('c', inplace=True)\n",
        "print(obj)"
      ],
      "execution_count": 0,
      "outputs": []
    },
    {
      "cell_type": "markdown",
      "metadata": {
        "id": "neFHckiaM16g",
        "colab_type": "text"
      },
      "source": [
        "### Indexing, Selection, and Filtering"
      ]
    },
    {
      "cell_type": "markdown",
      "metadata": {
        "id": "X03RQConM16h",
        "colab_type": "text"
      },
      "source": [
        "#### indexing\n",
        "\n",
        "Series indexing (obj[...]) works analogously to NumPy array indexing, except you can use the Series’s index values instead of only integers."
      ]
    },
    {
      "cell_type": "code",
      "metadata": {
        "ExecuteTime": {
          "end_time": "2019-12-24T11:54:10.362801Z",
          "start_time": "2019-12-24T11:54:10.243523Z"
        },
        "id": "jEnLwa8TM16h",
        "colab_type": "code",
        "colab": {}
      },
      "source": [
        "obj = pd.Series(np.arange(4.), index=['a', 'b', 'c', 'd'])\n",
        "obj"
      ],
      "execution_count": 0,
      "outputs": []
    },
    {
      "cell_type": "code",
      "metadata": {
        "ExecuteTime": {
          "end_time": "2019-12-24T11:54:10.493177Z",
          "start_time": "2019-12-24T11:54:10.362801Z"
        },
        "id": "axW2q7BHM16j",
        "colab_type": "code",
        "colab": {}
      },
      "source": [
        "print(obj['b'])\n",
        "print(obj[1])\n",
        "print(obj[2:4])\n",
        "print(obj[['b', 'a', 'd']])\n",
        "print(obj[[1, 3]])"
      ],
      "execution_count": 0,
      "outputs": []
    },
    {
      "cell_type": "code",
      "metadata": {
        "ExecuteTime": {
          "end_time": "2019-12-24T11:54:10.631638Z",
          "start_time": "2019-12-24T11:54:10.494174Z"
        },
        "id": "4owmHhm7M16m",
        "colab_type": "code",
        "colab": {}
      },
      "source": [
        "print(obj[obj < 2])"
      ],
      "execution_count": 0,
      "outputs": []
    },
    {
      "cell_type": "markdown",
      "metadata": {
        "id": "etJlqLX2M16o",
        "colab_type": "text"
      },
      "source": [
        "Slicing with labels behaves differently than normal Python slicing in that the **end‐point is inclusive**"
      ]
    },
    {
      "cell_type": "code",
      "metadata": {
        "ExecuteTime": {
          "end_time": "2019-12-24T11:54:10.937208Z",
          "start_time": "2019-12-24T11:54:10.634638Z"
        },
        "id": "uErC6791M16o",
        "colab_type": "code",
        "colab": {}
      },
      "source": [
        "obj['b': 'c']"
      ],
      "execution_count": 0,
      "outputs": []
    },
    {
      "cell_type": "markdown",
      "metadata": {
        "id": "WVGGTnn5M16q",
        "colab_type": "text"
      },
      "source": [
        "Indexing into a DataFrame is for retrieving one or more columns either with a single value or sequence"
      ]
    },
    {
      "cell_type": "code",
      "metadata": {
        "ExecuteTime": {
          "end_time": "2019-12-24T11:54:11.110423Z",
          "start_time": "2019-12-24T11:54:10.939206Z"
        },
        "id": "K768aWEHM16q",
        "colab_type": "code",
        "colab": {}
      },
      "source": [
        "data = pd.DataFrame(np.arange(16).reshape((4, 4)),\n",
        "                    index=['Ohio', 'Colorado', 'Utah', 'New York'],\n",
        "                    columns=['one', 'two', 'three', 'four'])\n",
        "data"
      ],
      "execution_count": 0,
      "outputs": []
    },
    {
      "cell_type": "code",
      "metadata": {
        "ExecuteTime": {
          "end_time": "2019-12-24T11:54:11.335656Z",
          "start_time": "2019-12-24T11:54:11.111464Z"
        },
        "id": "o9RiTJCvM16s",
        "colab_type": "code",
        "colab": {}
      },
      "source": [
        "print(data['two'])\n",
        "print(data[['three', 'four']])"
      ],
      "execution_count": 0,
      "outputs": []
    },
    {
      "cell_type": "markdown",
      "metadata": {
        "id": "SYYZA2YIM16t",
        "colab_type": "text"
      },
      "source": [
        "The row selection syntax **data[:2]** is provided as a convenience. Passing a single element or a list to the [ ] operator selects columns."
      ]
    },
    {
      "cell_type": "code",
      "metadata": {
        "ExecuteTime": {
          "end_time": "2019-12-24T11:54:11.486571Z",
          "start_time": "2019-12-24T11:54:11.335656Z"
        },
        "id": "Vl5hqG3BM16u",
        "colab_type": "code",
        "colab": {}
      },
      "source": [
        "data[:2]"
      ],
      "execution_count": 0,
      "outputs": []
    },
    {
      "cell_type": "code",
      "metadata": {
        "ExecuteTime": {
          "end_time": "2019-12-24T11:54:11.626605Z",
          "start_time": "2019-12-24T11:54:11.491623Z"
        },
        "id": "By5Qn7mwM16w",
        "colab_type": "code",
        "colab": {}
      },
      "source": [
        "data[data['three'] > 5]"
      ],
      "execution_count": 0,
      "outputs": []
    },
    {
      "cell_type": "code",
      "metadata": {
        "ExecuteTime": {
          "end_time": "2019-12-24T11:54:11.731106Z",
          "start_time": "2019-12-24T11:54:11.626605Z"
        },
        "id": "mlmEegsxM16z",
        "colab_type": "code",
        "colab": {}
      },
      "source": [
        "data < 5"
      ],
      "execution_count": 0,
      "outputs": []
    },
    {
      "cell_type": "markdown",
      "metadata": {
        "ExecuteTime": {
          "end_time": "2019-12-22T16:14:52.753331Z",
          "start_time": "2019-12-22T16:14:52.745801Z"
        },
        "id": "GOH6NDKeM161",
        "colab_type": "text"
      },
      "source": [
        "#### setting\n",
        "Setting using these methods modifies the corresponding section of the Series"
      ]
    },
    {
      "cell_type": "code",
      "metadata": {
        "ExecuteTime": {
          "end_time": "2019-12-24T11:54:11.854456Z",
          "start_time": "2019-12-24T11:54:11.733101Z"
        },
        "id": "iKBlAtdQM161",
        "colab_type": "code",
        "colab": {}
      },
      "source": [
        "obj['b': 'c'] = 5\n",
        "obj"
      ],
      "execution_count": 0,
      "outputs": []
    },
    {
      "cell_type": "code",
      "metadata": {
        "ExecuteTime": {
          "end_time": "2019-12-24T11:54:11.971222Z",
          "start_time": "2019-12-24T11:54:11.855652Z"
        },
        "id": "hiUZFq6wM165",
        "colab_type": "code",
        "colab": {}
      },
      "source": [
        "data = pd.DataFrame(np.arange(16).reshape((4, 4)),\n",
        "                    index=['Ohio', 'Colorado', 'Utah', 'New York'],\n",
        "                    columns=['one', 'two', 'three', 'four'])\n",
        "data"
      ],
      "execution_count": 0,
      "outputs": []
    },
    {
      "cell_type": "code",
      "metadata": {
        "ExecuteTime": {
          "end_time": "2019-12-24T11:54:12.124945Z",
          "start_time": "2019-12-24T11:54:11.972250Z"
        },
        "id": "d1FXcfgbM168",
        "colab_type": "code",
        "colab": {}
      },
      "source": [
        "data[data < 5] = 0\n",
        "data"
      ],
      "execution_count": 0,
      "outputs": []
    },
    {
      "cell_type": "markdown",
      "metadata": {
        "id": "aqfLDADOM16_",
        "colab_type": "text"
      },
      "source": [
        "#### Selection with loc, iloc"
      ]
    },
    {
      "cell_type": "markdown",
      "metadata": {
        "id": "k5dHzEk_M17A",
        "colab_type": "text"
      },
      "source": [
        "For DataFrame label-indexing on the rows, I introduce the special indexing operators loc and iloc. They enable you to select a subset of the rows and columns from a DataFrame with NumPy-like notation using either axis labels (loc) or integers (iloc)."
      ]
    },
    {
      "cell_type": "code",
      "metadata": {
        "ExecuteTime": {
          "end_time": "2019-12-24T11:54:12.244168Z",
          "start_time": "2019-12-24T11:54:12.124945Z"
        },
        "id": "3MA5cnalM17B",
        "colab_type": "code",
        "colab": {}
      },
      "source": [
        "#  select a single row and multiple columns by label\n",
        "# loc[Row, col]\n",
        "data.loc['Colorado', ['two', 'three']]"
      ],
      "execution_count": 0,
      "outputs": []
    },
    {
      "cell_type": "code",
      "metadata": {
        "ExecuteTime": {
          "end_time": "2019-12-24T11:54:12.359593Z",
          "start_time": "2019-12-24T11:54:12.244168Z"
        },
        "id": "_5H9-42EM17D",
        "colab_type": "code",
        "colab": {}
      },
      "source": [
        "# with integers using iloc\n",
        "data.iloc[1, [1, 2]]"
      ],
      "execution_count": 0,
      "outputs": []
    },
    {
      "cell_type": "code",
      "metadata": {
        "ExecuteTime": {
          "end_time": "2019-12-24T11:54:12.517066Z",
          "start_time": "2019-12-24T11:54:12.361868Z"
        },
        "id": "YvjTl8ZkM17E",
        "colab_type": "code",
        "colab": {}
      },
      "source": [
        "print(data.iloc[2])\n",
        "print(data.iloc[[1, 2], [3, 0, 1]])"
      ],
      "execution_count": 0,
      "outputs": []
    },
    {
      "cell_type": "code",
      "metadata": {
        "ExecuteTime": {
          "end_time": "2019-12-24T11:54:12.680750Z",
          "start_time": "2019-12-24T11:54:12.519063Z"
        },
        "id": "BmoGSJGeM17K",
        "colab_type": "code",
        "colab": {}
      },
      "source": [
        "print(data)\n",
        "print(data.loc[:'Utah', 'two'])"
      ],
      "execution_count": 0,
      "outputs": []
    },
    {
      "cell_type": "code",
      "metadata": {
        "ExecuteTime": {
          "end_time": "2019-12-24T11:54:12.840886Z",
          "start_time": "2019-12-24T11:54:12.682744Z"
        },
        "id": "fLaHrfkqM17L",
        "colab_type": "code",
        "colab": {}
      },
      "source": [
        "data.iloc[:, :3][data.three > 5]"
      ],
      "execution_count": 0,
      "outputs": []
    },
    {
      "cell_type": "markdown",
      "metadata": {
        "id": "BWpMtqcHM17M",
        "colab_type": "text"
      },
      "source": [
        "### Arithmetic and Data Alignment"
      ]
    },
    {
      "cell_type": "markdown",
      "metadata": {
        "id": "8hbFayvVM17N",
        "colab_type": "text"
      },
      "source": [
        "An important pandas feature for some applications is the behavior of arithmetic\n",
        "between objects with different indexes. When you are adding together objects, if any index pairs are not the same, \n",
        "the respective index in the result will be the union of the index pairs. \n",
        "For users with database experience, this is similar to an automatic outer join on the index labels."
      ]
    },
    {
      "cell_type": "code",
      "metadata": {
        "ExecuteTime": {
          "end_time": "2019-12-24T11:54:12.950857Z",
          "start_time": "2019-12-24T11:54:12.841887Z"
        },
        "id": "hAPBAT7JM17N",
        "colab_type": "code",
        "colab": {}
      },
      "source": [
        "s1 = pd.Series([7.3, -2.5, 3.4, 1.5], index=['a', 'c', 'd', 'e'])\n",
        "s2 = pd.Series([-2.1, 3.6, -1.5, 4, 3.1], index=['a', 'c', 'e', 'f', 'g'])"
      ],
      "execution_count": 0,
      "outputs": []
    },
    {
      "cell_type": "code",
      "metadata": {
        "ExecuteTime": {
          "end_time": "2019-12-24T11:54:13.066293Z",
          "start_time": "2019-12-24T11:54:12.950857Z"
        },
        "id": "ZYlYWrujM17P",
        "colab_type": "code",
        "colab": {}
      },
      "source": [
        "print(s1)\n",
        "print(s2)"
      ],
      "execution_count": 0,
      "outputs": []
    },
    {
      "cell_type": "code",
      "metadata": {
        "ExecuteTime": {
          "end_time": "2019-12-24T11:54:13.203969Z",
          "start_time": "2019-12-24T11:54:13.068249Z"
        },
        "id": "GBzb6hOiM17Q",
        "colab_type": "code",
        "colab": {}
      },
      "source": [
        "s1 + s2"
      ],
      "execution_count": 0,
      "outputs": []
    },
    {
      "cell_type": "markdown",
      "metadata": {
        "id": "-rPLGfgIM17S",
        "colab_type": "text"
      },
      "source": [
        "In the case of DataFrame, alignment is performed on both the rows and the columns"
      ]
    },
    {
      "cell_type": "code",
      "metadata": {
        "ExecuteTime": {
          "end_time": "2019-12-24T11:54:13.326232Z",
          "start_time": "2019-12-24T11:54:13.205001Z"
        },
        "id": "iyrCzSl0M17S",
        "colab_type": "code",
        "colab": {}
      },
      "source": [
        "df1 = pd.DataFrame(np.arange(9.).reshape((3, 3)), columns=list('bcd'),\n",
        "                   index=['Ohio', 'Texas', 'Colorado'])\n",
        "\n",
        "df2 = pd.DataFrame(np.arange(12.).reshape((4, 3)), columns=list('bde'),\n",
        "                   index=['Utah', 'Ohio', 'Texas', 'Oregon'])"
      ],
      "execution_count": 0,
      "outputs": []
    },
    {
      "cell_type": "code",
      "metadata": {
        "ExecuteTime": {
          "end_time": "2019-12-24T11:54:13.459283Z",
          "start_time": "2019-12-24T11:54:13.326232Z"
        },
        "id": "aHGLy6LWM17T",
        "colab_type": "code",
        "colab": {}
      },
      "source": [
        "print(df1)\n",
        "print(df2)"
      ],
      "execution_count": 0,
      "outputs": []
    },
    {
      "cell_type": "code",
      "metadata": {
        "ExecuteTime": {
          "end_time": "2019-12-24T11:54:13.621405Z",
          "start_time": "2019-12-24T11:54:13.461210Z"
        },
        "id": "M7b8fZJ8M17U",
        "colab_type": "code",
        "colab": {}
      },
      "source": [
        "df1 + df2"
      ],
      "execution_count": 0,
      "outputs": []
    },
    {
      "cell_type": "code",
      "metadata": {
        "ExecuteTime": {
          "end_time": "2019-12-24T11:54:13.778639Z",
          "start_time": "2019-12-24T11:54:13.623331Z"
        },
        "scrolled": true,
        "id": "WtM3GzmbM17V",
        "colab_type": "code",
        "colab": {}
      },
      "source": [
        "df1 = pd.DataFrame({'A': [1, 2]})\n",
        "df2 = pd.DataFrame({'B': [3, 4]})\n",
        "print(df1)\n",
        "print(df2)"
      ],
      "execution_count": 0,
      "outputs": []
    },
    {
      "cell_type": "code",
      "metadata": {
        "ExecuteTime": {
          "end_time": "2019-12-24T11:54:13.907441Z",
          "start_time": "2019-12-24T11:54:13.788272Z"
        },
        "id": "QZwIbKFKM17W",
        "colab_type": "code",
        "colab": {}
      },
      "source": [
        "df1 - df2"
      ],
      "execution_count": 0,
      "outputs": []
    },
    {
      "cell_type": "markdown",
      "metadata": {
        "id": "HR91Nz-gM17Z",
        "colab_type": "text"
      },
      "source": [
        "In arithmetic operations between differently indexed objects, you might want to fill\n",
        "with a special value, like 0, when an axis label is found in one object but not the other"
      ]
    },
    {
      "cell_type": "code",
      "metadata": {
        "ExecuteTime": {
          "end_time": "2019-12-24T11:54:14.021709Z",
          "start_time": "2019-12-24T11:54:13.915170Z"
        },
        "id": "rpij3j7CM17Z",
        "colab_type": "code",
        "colab": {}
      },
      "source": [
        "df1 = pd.DataFrame(np.arange(12.).reshape((3, 4)), columns=list(\"abcd\"))\n",
        "df2 = pd.DataFrame(np.arange(20.).reshape((4, 5)), columns=list('abcde'))"
      ],
      "execution_count": 0,
      "outputs": []
    },
    {
      "cell_type": "code",
      "metadata": {
        "ExecuteTime": {
          "end_time": "2019-12-24T11:54:14.142549Z",
          "start_time": "2019-12-24T11:54:14.021709Z"
        },
        "id": "6W8lijMHM17a",
        "colab_type": "code",
        "colab": {}
      },
      "source": [
        "df2.loc[1, 'b'] = np.nan"
      ],
      "execution_count": 0,
      "outputs": []
    },
    {
      "cell_type": "code",
      "metadata": {
        "ExecuteTime": {
          "end_time": "2019-12-24T11:54:14.273758Z",
          "start_time": "2019-12-24T11:54:14.143900Z"
        },
        "id": "9LwK9zlgM17d",
        "colab_type": "code",
        "colab": {}
      },
      "source": [
        "print(df1)\n",
        "print(df2)"
      ],
      "execution_count": 0,
      "outputs": []
    },
    {
      "cell_type": "code",
      "metadata": {
        "ExecuteTime": {
          "end_time": "2019-12-24T11:54:14.395478Z",
          "start_time": "2019-12-24T11:54:14.273758Z"
        },
        "id": "ClTFNYoFM17f",
        "colab_type": "code",
        "colab": {}
      },
      "source": [
        "# Adding these together results in NA values in the locations that don’t overlap\n",
        "df1 + df2"
      ],
      "execution_count": 0,
      "outputs": []
    },
    {
      "cell_type": "code",
      "metadata": {
        "ExecuteTime": {
          "end_time": "2019-12-24T11:54:14.522987Z",
          "start_time": "2019-12-24T11:54:14.397472Z"
        },
        "id": "k5P2-s4IM17g",
        "colab_type": "code",
        "colab": {}
      },
      "source": [
        "# Using the add method on df1,one pass df2 and an argument to fill_value\n",
        "df1.add(df2, fill_value=0)"
      ],
      "execution_count": 0,
      "outputs": []
    },
    {
      "cell_type": "code",
      "metadata": {
        "ExecuteTime": {
          "end_time": "2019-12-24T11:54:14.645859Z",
          "start_time": "2019-12-24T11:54:14.524282Z"
        },
        "id": "YJcB5XYLM17h",
        "colab_type": "code",
        "colab": {}
      },
      "source": [
        "# 1 / df1\n",
        "# or\n",
        "df1.rdiv(1)"
      ],
      "execution_count": 0,
      "outputs": []
    },
    {
      "cell_type": "code",
      "metadata": {
        "ExecuteTime": {
          "end_time": "2019-12-24T11:54:14.762982Z",
          "start_time": "2019-12-24T11:54:14.648478Z"
        },
        "id": "y-QBeOtvM17j",
        "colab_type": "code",
        "colab": {}
      },
      "source": [
        "# operations between DataFrame and Series\n",
        "frame = pd.DataFrame(np.arange(12.).reshape((4, 3)), columns=list('bde'),\n",
        "                    index=(\"utah\", \"ohio\", \"texas\", \"oregon\"))\n",
        "series = frame.iloc[0]\n",
        "print(frame)\n",
        "print(series)"
      ],
      "execution_count": 0,
      "outputs": []
    },
    {
      "cell_type": "markdown",
      "metadata": {
        "id": "bR4nb29CM17m",
        "colab_type": "text"
      },
      "source": [
        "By default, arithmetic between DataFrame and Series matches the index of the Series\n",
        "on the DataFrame’s columns, broadcasting down the rows"
      ]
    },
    {
      "cell_type": "code",
      "metadata": {
        "ExecuteTime": {
          "end_time": "2019-12-24T11:54:15.272570Z",
          "start_time": "2019-12-24T11:54:14.764980Z"
        },
        "id": "bp7tIRNaM17n",
        "colab_type": "code",
        "colab": {}
      },
      "source": [
        "frame - series"
      ],
      "execution_count": 0,
      "outputs": []
    },
    {
      "cell_type": "markdown",
      "metadata": {
        "id": "tGbP_YRIM17o",
        "colab_type": "text"
      },
      "source": [
        "If an index value is not found in either the DataFrame’s columns or the Series’s index,\n",
        "the objects will be reindexed to form the union"
      ]
    },
    {
      "cell_type": "code",
      "metadata": {
        "ExecuteTime": {
          "end_time": "2019-12-24T11:54:15.785596Z",
          "start_time": "2019-12-24T11:54:15.274639Z"
        },
        "id": "3BoEBWU1M17o",
        "colab_type": "code",
        "colab": {}
      },
      "source": [
        "series2 = pd.Series(range(3), index=list('bef'))"
      ],
      "execution_count": 0,
      "outputs": []
    },
    {
      "cell_type": "code",
      "metadata": {
        "ExecuteTime": {
          "end_time": "2019-12-24T11:54:15.975844Z",
          "start_time": "2019-12-24T11:54:15.789282Z"
        },
        "id": "_pot2fOGM17p",
        "colab_type": "code",
        "colab": {}
      },
      "source": [
        "frame + series2"
      ],
      "execution_count": 0,
      "outputs": []
    },
    {
      "cell_type": "code",
      "metadata": {
        "ExecuteTime": {
          "end_time": "2019-12-24T11:54:16.113109Z",
          "start_time": "2019-12-24T11:54:15.978953Z"
        },
        "id": "NiwAPP7nM17r",
        "colab_type": "code",
        "colab": {}
      },
      "source": [
        "# broadcasting over columns\n",
        "series3 = frame['d']\n",
        "series3"
      ],
      "execution_count": 0,
      "outputs": []
    },
    {
      "cell_type": "code",
      "metadata": {
        "ExecuteTime": {
          "end_time": "2019-12-24T11:54:16.261347Z",
          "start_time": "2019-12-24T11:54:16.115103Z"
        },
        "id": "VrSgFDL2M17t",
        "colab_type": "code",
        "colab": {}
      },
      "source": [
        "frame.sub(series3, axis='index')"
      ],
      "execution_count": 0,
      "outputs": []
    },
    {
      "cell_type": "markdown",
      "metadata": {
        "id": "WDVgUpSeM17x",
        "colab_type": "text"
      },
      "source": [
        "The axis number that you pass is the axis to match on. In this case we mean to match\n",
        "on the DataFrame’s row index (axis='index' or axis=0) and broadcast across."
      ]
    },
    {
      "cell_type": "markdown",
      "metadata": {
        "id": "QqnwLwv3M17x",
        "colab_type": "text"
      },
      "source": [
        "### Function Application and Mapping"
      ]
    },
    {
      "cell_type": "code",
      "metadata": {
        "ExecuteTime": {
          "end_time": "2019-12-24T11:54:16.578884Z",
          "start_time": "2019-12-24T11:54:16.263428Z"
        },
        "id": "FitfKt58M17x",
        "colab_type": "code",
        "colab": {}
      },
      "source": [
        "frame = pd.DataFrame(np.random.randn(4, 3), columns=list('bde'),\n",
        "                    index=['Utah', 'Ohio', 'Texas', 'Oregon'])\n",
        "frame"
      ],
      "execution_count": 0,
      "outputs": []
    },
    {
      "cell_type": "code",
      "metadata": {
        "ExecuteTime": {
          "end_time": "2019-12-24T11:54:16.763901Z",
          "start_time": "2019-12-24T11:54:16.581885Z"
        },
        "id": "dlgUIBBfM17z",
        "colab_type": "code",
        "colab": {}
      },
      "source": [
        "np.abs(frame)"
      ],
      "execution_count": 0,
      "outputs": []
    },
    {
      "cell_type": "code",
      "metadata": {
        "ExecuteTime": {
          "end_time": "2019-12-24T11:54:16.884947Z",
          "start_time": "2019-12-24T11:54:16.766103Z"
        },
        "id": "CjTp2FdKM171",
        "colab_type": "code",
        "colab": {}
      },
      "source": [
        "# Another frequent operation is applying a function on \n",
        "# one-dimensional arrays to each column or row. \n",
        "# DataFrame’s apply method does exactly this\n",
        "\n",
        "f = lambda x: x.max() - x.min()\n",
        "frame.apply(f)"
      ],
      "execution_count": 0,
      "outputs": []
    },
    {
      "cell_type": "markdown",
      "metadata": {
        "id": "vghJb6jvM172",
        "colab_type": "text"
      },
      "source": [
        "Here the function f, which computes the difference between the maximum and minimum of a Series, is **invoked once on each column** in frame. The result is a Series having the columns of frame as its index."
      ]
    },
    {
      "cell_type": "code",
      "metadata": {
        "ExecuteTime": {
          "end_time": "2019-12-24T11:54:17.003427Z",
          "start_time": "2019-12-24T11:54:16.887837Z"
        },
        "id": "PafWw0e4M172",
        "colab_type": "code",
        "colab": {}
      },
      "source": [
        "# If you pass axis='columns' to apply, \n",
        "# the function will be invoked once per row\n",
        "\n",
        "frame.apply(f, axis='columns')"
      ],
      "execution_count": 0,
      "outputs": []
    },
    {
      "cell_type": "code",
      "metadata": {
        "ExecuteTime": {
          "end_time": "2019-12-24T11:54:17.152859Z",
          "start_time": "2019-12-24T11:54:17.003427Z"
        },
        "id": "9T8war0hM174",
        "colab_type": "code",
        "colab": {}
      },
      "source": [
        "# returning a Series with multiple values\n",
        "\n",
        "def f(x):\n",
        "    return pd.Series([x.min(), x.max()], index=['min', 'max'])\n",
        "\n",
        "frame.apply(f)"
      ],
      "execution_count": 0,
      "outputs": []
    },
    {
      "cell_type": "markdown",
      "metadata": {
        "id": "fpoTc3JZM176",
        "colab_type": "text"
      },
      "source": [
        "Element-wise Python functions can be used, too. Suppose you wanted to compute a\n",
        "formatted string from each floating-point value in frame. You can do this with \n",
        "**applymap**"
      ]
    },
    {
      "cell_type": "code",
      "metadata": {
        "ExecuteTime": {
          "end_time": "2019-12-24T11:54:17.261634Z",
          "start_time": "2019-12-24T11:54:17.155897Z"
        },
        "id": "F5xf8c96M177",
        "colab_type": "code",
        "colab": {}
      },
      "source": [
        "format = lambda x: f'{x:.2f}'"
      ],
      "execution_count": 0,
      "outputs": []
    },
    {
      "cell_type": "code",
      "metadata": {
        "ExecuteTime": {
          "end_time": "2019-12-24T11:54:17.398915Z",
          "start_time": "2019-12-24T11:54:17.263630Z"
        },
        "id": "mKwMxtaRM178",
        "colab_type": "code",
        "colab": {}
      },
      "source": [
        "print(frame)\n",
        "frame.applymap(format)"
      ],
      "execution_count": 0,
      "outputs": []
    },
    {
      "cell_type": "markdown",
      "metadata": {
        "id": "SlQChSVbM179",
        "colab_type": "text"
      },
      "source": [
        "The reason for the name applymap is that Series has a **map** method for applying an\n",
        "element-wise function"
      ]
    },
    {
      "cell_type": "code",
      "metadata": {
        "ExecuteTime": {
          "end_time": "2019-12-24T11:54:17.518935Z",
          "start_time": "2019-12-24T11:54:17.400935Z"
        },
        "id": "3VvvIXPAM17-",
        "colab_type": "code",
        "colab": {}
      },
      "source": [
        "frame['e'].map(format)"
      ],
      "execution_count": 0,
      "outputs": []
    },
    {
      "cell_type": "markdown",
      "metadata": {
        "id": "G_c5eH32M17_",
        "colab_type": "text"
      },
      "source": [
        "### Sorting and Ranking"
      ]
    },
    {
      "cell_type": "markdown",
      "metadata": {
        "id": "NmpnmaoUM17_",
        "colab_type": "text"
      },
      "source": [
        "#### Sorting\n",
        "\n",
        "Sorting a dataset by some criterion is another important built-in operation. To sort\n",
        "lexicographically by row or column index, use the **sort_index** method, which returns\n",
        "a new, sorted object"
      ]
    },
    {
      "cell_type": "code",
      "metadata": {
        "ExecuteTime": {
          "end_time": "2019-12-24T11:54:17.662604Z",
          "start_time": "2019-12-24T11:54:17.522098Z"
        },
        "id": "725JWF3xM18A",
        "colab_type": "code",
        "colab": {}
      },
      "source": [
        "obj = pd.Series(range(4), index=['b', 'd', 'a', 'c'])\n",
        "obj"
      ],
      "execution_count": 0,
      "outputs": []
    },
    {
      "cell_type": "code",
      "metadata": {
        "ExecuteTime": {
          "end_time": "2019-12-24T11:54:17.793647Z",
          "start_time": "2019-12-24T11:54:17.664561Z"
        },
        "id": "UacCXGe7M18B",
        "colab_type": "code",
        "colab": {}
      },
      "source": [
        "obj.sort_index()"
      ],
      "execution_count": 0,
      "outputs": []
    },
    {
      "cell_type": "code",
      "metadata": {
        "ExecuteTime": {
          "end_time": "2019-12-24T11:54:17.984142Z",
          "start_time": "2019-12-24T11:54:17.795974Z"
        },
        "id": "-V6vzgddM18C",
        "colab_type": "code",
        "colab": {}
      },
      "source": [
        "frame = pd.DataFrame(np.arange(8).reshape((2, 4)), index=['three', 'one'],\n",
        "                     columns=['d', 'a', 'b', 'c'])\n",
        "frame.sort_index()"
      ],
      "execution_count": 0,
      "outputs": []
    },
    {
      "cell_type": "code",
      "metadata": {
        "ExecuteTime": {
          "end_time": "2019-12-24T11:54:18.202334Z",
          "start_time": "2019-12-24T11:54:17.985140Z"
        },
        "id": "mZmAHW4FM18E",
        "colab_type": "code",
        "colab": {}
      },
      "source": [
        "frame.sort_index(axis=1)"
      ],
      "execution_count": 0,
      "outputs": []
    },
    {
      "cell_type": "code",
      "metadata": {
        "ExecuteTime": {
          "end_time": "2019-12-24T11:54:18.322544Z",
          "start_time": "2019-12-24T11:54:18.205743Z"
        },
        "id": "QOALNbHxM18F",
        "colab_type": "code",
        "colab": {}
      },
      "source": [
        "frame.sort_index(axis=1, ascending=False)"
      ],
      "execution_count": 0,
      "outputs": []
    },
    {
      "cell_type": "markdown",
      "metadata": {
        "id": "NyYD3UAcM18H",
        "colab_type": "text"
      },
      "source": [
        "To sort a Series by its values, use its **sort_values** method.\n",
        "Any missing values are sorted to the end of the Series by default"
      ]
    },
    {
      "cell_type": "code",
      "metadata": {
        "ExecuteTime": {
          "end_time": "2019-12-24T11:54:18.444610Z",
          "start_time": "2019-12-24T11:54:18.323543Z"
        },
        "id": "u-l7oSjdM18I",
        "colab_type": "code",
        "colab": {}
      },
      "source": [
        "obj = pd.Series([-4, 7, 3, 2])\n",
        "obj.sort_values()"
      ],
      "execution_count": 0,
      "outputs": []
    },
    {
      "cell_type": "code",
      "metadata": {
        "ExecuteTime": {
          "end_time": "2019-12-24T11:54:18.561066Z",
          "start_time": "2019-12-24T11:54:18.448348Z"
        },
        "id": "6cpsIlbrM18J",
        "colab_type": "code",
        "colab": {}
      },
      "source": [
        "obj = pd.Series([4, np.nan, 7, np.nan, -3, 2])\n",
        "obj.sort_values()"
      ],
      "execution_count": 0,
      "outputs": []
    },
    {
      "cell_type": "markdown",
      "metadata": {
        "id": "FSCnMx-dM18L",
        "colab_type": "text"
      },
      "source": [
        "When sorting a DataFrame, you can use the data in one or more columns as the sort\n",
        "keys. To do so, pass one or more column names to the by option of sort_values"
      ]
    },
    {
      "cell_type": "code",
      "metadata": {
        "ExecuteTime": {
          "end_time": "2019-12-24T11:54:18.674098Z",
          "start_time": "2019-12-24T11:54:18.562063Z"
        },
        "id": "YKUmaH_jM18M",
        "colab_type": "code",
        "colab": {}
      },
      "source": [
        "frame = pd.DataFrame({'b': [4, 7, -3, 2], 'a': [0, 1, 0, 1]})\n",
        "frame"
      ],
      "execution_count": 0,
      "outputs": []
    },
    {
      "cell_type": "code",
      "metadata": {
        "ExecuteTime": {
          "end_time": "2019-12-24T11:54:18.782844Z",
          "start_time": "2019-12-24T11:54:18.675129Z"
        },
        "id": "P0yrHLHfM18N",
        "colab_type": "code",
        "colab": {}
      },
      "source": [
        "frame.sort_values(by='b')"
      ],
      "execution_count": 0,
      "outputs": []
    },
    {
      "cell_type": "code",
      "metadata": {
        "ExecuteTime": {
          "end_time": "2019-12-24T11:54:18.885242Z",
          "start_time": "2019-12-24T11:54:18.783879Z"
        },
        "id": "65eU1hZ9M18O",
        "colab_type": "code",
        "colab": {}
      },
      "source": [
        "frame.sort_values(by=['a', 'b'])"
      ],
      "execution_count": 0,
      "outputs": []
    },
    {
      "cell_type": "markdown",
      "metadata": {
        "id": "LUvkMZP0M18P",
        "colab_type": "text"
      },
      "source": [
        "#### Ranking\n",
        "\n",
        "*Ranking* assigns ranks from one through the number of valid data points in an array.\n",
        "The rank methods for Series and DataFrame are the place to look; by default rank\n",
        "breaks ties by assigning each group the mean rank"
      ]
    },
    {
      "cell_type": "code",
      "metadata": {
        "ExecuteTime": {
          "end_time": "2019-12-24T11:54:19.058017Z",
          "start_time": "2019-12-24T11:54:18.887690Z"
        },
        "id": "SdHAvD0IM18P",
        "colab_type": "code",
        "colab": {}
      },
      "source": [
        "obj = pd.Series([7, -5, 7, 4, 2, 0, 4])\n",
        "obj.rank()"
      ],
      "execution_count": 0,
      "outputs": []
    },
    {
      "cell_type": "code",
      "metadata": {
        "ExecuteTime": {
          "end_time": "2019-12-24T11:54:19.209466Z",
          "start_time": "2019-12-24T11:54:19.059022Z"
        },
        "id": "FBvep15xM18Q",
        "colab_type": "code",
        "colab": {}
      },
      "source": [
        "# assigning rank according to the order they're observed first in the data\n",
        "obj.rank(method='first')"
      ],
      "execution_count": 0,
      "outputs": []
    },
    {
      "cell_type": "code",
      "metadata": {
        "ExecuteTime": {
          "end_time": "2019-12-24T11:54:19.352734Z",
          "start_time": "2019-12-24T11:54:19.211753Z"
        },
        "id": "0vy4AcFTM18S",
        "colab_type": "code",
        "colab": {}
      },
      "source": [
        "obj.rank(ascending=False, method='max')"
      ],
      "execution_count": 0,
      "outputs": []
    },
    {
      "cell_type": "code",
      "metadata": {
        "ExecuteTime": {
          "end_time": "2019-12-24T11:54:19.499605Z",
          "start_time": "2019-12-24T11:54:19.352734Z"
        },
        "id": "DG9qOMWZM18T",
        "colab_type": "code",
        "colab": {}
      },
      "source": [
        "frame = pd.DataFrame({'b': [4.3, 7, -3, 2], 'a': [0, 1, 0, 1], 'c': [-2, 5, 8, -2.5]})\n",
        "frame"
      ],
      "execution_count": 0,
      "outputs": []
    },
    {
      "cell_type": "code",
      "metadata": {
        "ExecuteTime": {
          "end_time": "2019-12-24T11:54:19.644123Z",
          "start_time": "2019-12-24T11:54:19.502600Z"
        },
        "id": "jmfxHOYQM18U",
        "colab_type": "code",
        "colab": {}
      },
      "source": [
        "frame.rank(axis='columns')"
      ],
      "execution_count": 0,
      "outputs": []
    },
    {
      "cell_type": "markdown",
      "metadata": {
        "id": "emC264X6M18V",
        "colab_type": "text"
      },
      "source": [
        "### Axis Indexes with Duplicate Labels"
      ]
    },
    {
      "cell_type": "code",
      "metadata": {
        "ExecuteTime": {
          "end_time": "2019-12-24T11:54:19.825688Z",
          "start_time": "2019-12-24T11:54:19.646865Z"
        },
        "id": "dmS1B_y7M18V",
        "colab_type": "code",
        "colab": {}
      },
      "source": [
        "obj = pd.Series(range(5), index=['a', 'a', 'b', 'b', 'c'])\n",
        "obj"
      ],
      "execution_count": 0,
      "outputs": []
    },
    {
      "cell_type": "code",
      "metadata": {
        "ExecuteTime": {
          "end_time": "2019-12-24T11:54:19.978965Z",
          "start_time": "2019-12-24T11:54:19.828121Z"
        },
        "id": "e4uN82XsM18W",
        "colab_type": "code",
        "colab": {}
      },
      "source": [
        "obj.index.is_unique"
      ],
      "execution_count": 0,
      "outputs": []
    },
    {
      "cell_type": "code",
      "metadata": {
        "ExecuteTime": {
          "end_time": "2019-12-24T11:54:20.122066Z",
          "start_time": "2019-12-24T11:54:19.980367Z"
        },
        "id": "5wET4zEHM18Y",
        "colab_type": "code",
        "colab": {}
      },
      "source": [
        "obj.a"
      ],
      "execution_count": 0,
      "outputs": []
    },
    {
      "cell_type": "code",
      "metadata": {
        "ExecuteTime": {
          "end_time": "2019-12-24T11:54:20.293573Z",
          "start_time": "2019-12-24T11:54:20.124045Z"
        },
        "id": "B535x8-VM18a",
        "colab_type": "code",
        "colab": {}
      },
      "source": [
        "df = pd.DataFrame(np.random.randn(4, 3), index=['a', 'a', 'b', 'b'])\n",
        "df"
      ],
      "execution_count": 0,
      "outputs": []
    },
    {
      "cell_type": "code",
      "metadata": {
        "ExecuteTime": {
          "end_time": "2019-12-24T11:54:20.444163Z",
          "start_time": "2019-12-24T11:54:20.295569Z"
        },
        "id": "xK7sKuycM18b",
        "colab_type": "code",
        "colab": {}
      },
      "source": [
        "df.loc['a']"
      ],
      "execution_count": 0,
      "outputs": []
    },
    {
      "cell_type": "markdown",
      "metadata": {
        "id": "scEZM5ZkM18e",
        "colab_type": "text"
      },
      "source": [
        "##  Summarizing and Computing Descriptive Statistics"
      ]
    },
    {
      "cell_type": "code",
      "metadata": {
        "ExecuteTime": {
          "end_time": "2019-12-24T11:54:20.549520Z",
          "start_time": "2019-12-24T11:54:20.446595Z"
        },
        "id": "GmrAphFjM18e",
        "colab_type": "code",
        "colab": {}
      },
      "source": [
        "df = pd.DataFrame([[1.4, np.nan], [7.1, -4.5], [np.nan, np.nan],\n",
        "                   [0.75, -1.43]],\n",
        "                  index=['a', 'b', 'c', 'd'],\n",
        "                  columns=['one', 'two'])\n",
        "df"
      ],
      "execution_count": 0,
      "outputs": []
    },
    {
      "cell_type": "code",
      "metadata": {
        "ExecuteTime": {
          "end_time": "2019-12-24T11:54:20.684771Z",
          "start_time": "2019-12-24T11:54:20.549520Z"
        },
        "id": "I5RDjqxYM18g",
        "colab_type": "code",
        "colab": {}
      },
      "source": [
        "df.sum()"
      ],
      "execution_count": 0,
      "outputs": []
    },
    {
      "cell_type": "code",
      "metadata": {
        "ExecuteTime": {
          "end_time": "2019-12-24T11:54:20.818099Z",
          "start_time": "2019-12-24T11:54:20.687422Z"
        },
        "id": "CVkH2vhuM18h",
        "colab_type": "code",
        "colab": {}
      },
      "source": [
        "df.sum(axis='columns')"
      ],
      "execution_count": 0,
      "outputs": []
    },
    {
      "cell_type": "code",
      "metadata": {
        "ExecuteTime": {
          "end_time": "2019-12-24T11:54:20.936482Z",
          "start_time": "2019-12-24T11:54:20.818099Z"
        },
        "id": "W0E_Z-YLM18i",
        "colab_type": "code",
        "colab": {}
      },
      "source": [
        "df.sum(axis='columns', skipna=False)"
      ],
      "execution_count": 0,
      "outputs": []
    },
    {
      "cell_type": "markdown",
      "metadata": {
        "id": "ix4vl5frM18l",
        "colab_type": "text"
      },
      "source": [
        "Some methods, like idxmin and idxmax, return indirect statistics like the index value\n",
        "where the minimum or maximum values are attained"
      ]
    },
    {
      "cell_type": "code",
      "metadata": {
        "ExecuteTime": {
          "end_time": "2019-12-24T11:54:21.074783Z",
          "start_time": "2019-12-24T11:54:20.937480Z"
        },
        "id": "-4KVDEpIM18l",
        "colab_type": "code",
        "colab": {}
      },
      "source": [
        "print(df.idxmax())\n",
        "print(df.idxmin())"
      ],
      "execution_count": 0,
      "outputs": []
    },
    {
      "cell_type": "code",
      "metadata": {
        "ExecuteTime": {
          "end_time": "2019-12-24T11:54:21.194122Z",
          "start_time": "2019-12-24T11:54:21.076618Z"
        },
        "id": "n1iArMcwM18m",
        "colab_type": "code",
        "colab": {}
      },
      "source": [
        "# accmulation\n",
        "df.cumsum()"
      ],
      "execution_count": 0,
      "outputs": []
    },
    {
      "cell_type": "markdown",
      "metadata": {
        "ExecuteTime": {
          "end_time": "2019-12-22T20:42:48.976671Z",
          "start_time": "2019-12-22T20:42:48.961382Z"
        },
        "id": "Q2Um36HdM18m",
        "colab_type": "text"
      },
      "source": [
        "Another type of method is neither a reduction nor an accumulation. **describe** is one\n",
        "such example, producing multiple summary statistics in one shot"
      ]
    },
    {
      "cell_type": "code",
      "metadata": {
        "ExecuteTime": {
          "end_time": "2019-12-24T11:54:21.344016Z",
          "start_time": "2019-12-24T11:54:21.195119Z"
        },
        "id": "tTtVnsPmM18n",
        "colab_type": "code",
        "colab": {}
      },
      "source": [
        "df.describe()"
      ],
      "execution_count": 0,
      "outputs": []
    },
    {
      "cell_type": "code",
      "metadata": {
        "ExecuteTime": {
          "end_time": "2019-12-24T11:54:21.511393Z",
          "start_time": "2019-12-24T11:54:21.344016Z"
        },
        "id": "hhp3rbckM18n",
        "colab_type": "code",
        "colab": {}
      },
      "source": [
        "# On non-numeric data, describe produces alternative summary statistics:\n",
        "\n",
        "obj = pd.Series(['a', 'a', 'b', 'c'] * 4)\n",
        "obj.describe()"
      ],
      "execution_count": 0,
      "outputs": []
    },
    {
      "cell_type": "code",
      "metadata": {
        "ExecuteTime": {
          "end_time": "2019-12-24T11:54:21.653404Z",
          "start_time": "2019-12-24T11:54:21.515120Z"
        },
        "id": "iH64KlbgM18p",
        "colab_type": "code",
        "colab": {}
      },
      "source": [
        "df"
      ],
      "execution_count": 0,
      "outputs": []
    },
    {
      "cell_type": "markdown",
      "metadata": {
        "ExecuteTime": {
          "end_time": "2019-12-22T20:47:42.840846Z",
          "start_time": "2019-12-22T20:47:42.833552Z"
        },
        "id": "jLTvpm_QM18q",
        "colab_type": "text"
      },
      "source": [
        "### Correlation and Covariance"
      ]
    },
    {
      "cell_type": "code",
      "metadata": {
        "ExecuteTime": {
          "end_time": "2019-12-24T11:54:23.076066Z",
          "start_time": "2019-12-24T11:54:21.655517Z"
        },
        "id": "nCUFalrgM18q",
        "colab_type": "code",
        "colab": {}
      },
      "source": [
        "import pandas_datareader as  web"
      ],
      "execution_count": 0,
      "outputs": []
    },
    {
      "cell_type": "code",
      "metadata": {
        "ExecuteTime": {
          "end_time": "2019-12-24T11:54:27.953329Z",
          "start_time": "2019-12-24T11:54:23.079097Z"
        },
        "id": "9PmDqG1ZM18r",
        "colab_type": "code",
        "colab": {}
      },
      "source": [
        "all_data = {ticker: web.get_data_yahoo(ticker) for ticker in ['AAPL', 'IBM', 'MSFT', 'GOOG']}"
      ],
      "execution_count": 0,
      "outputs": []
    },
    {
      "cell_type": "code",
      "metadata": {
        "ExecuteTime": {
          "end_time": "2019-12-24T11:54:28.701569Z",
          "start_time": "2019-12-24T11:54:27.953329Z"
        },
        "id": "aHLpW7a7M18t",
        "colab_type": "code",
        "colab": {}
      },
      "source": [
        "price = pd.DataFrame({ticker: data['Adj Close']\n",
        "                      for ticker, data in all_data.items()})\n",
        "volume = pd.DataFrame({ticker: data['Volume']\n",
        "                       for ticker, data in all_data.items()})"
      ],
      "execution_count": 0,
      "outputs": []
    },
    {
      "cell_type": "code",
      "metadata": {
        "ExecuteTime": {
          "end_time": "2019-12-24T11:54:28.944129Z",
          "start_time": "2019-12-24T11:54:28.701569Z"
        },
        "id": "amcrsIIVM18t",
        "colab_type": "code",
        "colab": {}
      },
      "source": [
        "returns = price.pct_change()"
      ],
      "execution_count": 0,
      "outputs": []
    },
    {
      "cell_type": "code",
      "metadata": {
        "ExecuteTime": {
          "end_time": "2019-12-24T11:54:29.202785Z",
          "start_time": "2019-12-24T11:54:28.944129Z"
        },
        "id": "0OjccJisM18u",
        "colab_type": "code",
        "colab": {}
      },
      "source": [
        "returns.tail()"
      ],
      "execution_count": 0,
      "outputs": []
    },
    {
      "cell_type": "markdown",
      "metadata": {
        "id": "p2JWhSayM18v",
        "colab_type": "text"
      },
      "source": [
        "The **corr** method of Series computes the correlation of the overlapping, non-NA,\n",
        "aligned-by-index values in two Series. Relatedly, **cov** computes the covariance"
      ]
    },
    {
      "cell_type": "code",
      "metadata": {
        "ExecuteTime": {
          "end_time": "2019-12-24T11:54:30.201205Z",
          "start_time": "2019-12-24T11:54:29.206950Z"
        },
        "id": "b6Zg5o8hM18v",
        "colab_type": "code",
        "colab": {}
      },
      "source": [
        "print(returns['MSFT'].cov(returns['IBM']))\n",
        "print(returns['MSFT'].corr(returns['IBM']))"
      ],
      "execution_count": 0,
      "outputs": []
    },
    {
      "cell_type": "code",
      "metadata": {
        "ExecuteTime": {
          "end_time": "2019-12-24T11:54:30.217210Z",
          "start_time": "2019-12-24T11:54:30.204759Z"
        },
        "id": "kNj5H0YcM18x",
        "colab_type": "code",
        "colab": {}
      },
      "source": [
        "returns.MSFT.corr(returns.IBM)"
      ],
      "execution_count": 0,
      "outputs": []
    },
    {
      "cell_type": "code",
      "metadata": {
        "ExecuteTime": {
          "end_time": "2019-12-24T11:54:30.398635Z",
          "start_time": "2019-12-24T11:54:30.219543Z"
        },
        "id": "qE1v2PPvM18y",
        "colab_type": "code",
        "colab": {}
      },
      "source": [
        "returns.corr()"
      ],
      "execution_count": 0,
      "outputs": []
    },
    {
      "cell_type": "code",
      "metadata": {
        "ExecuteTime": {
          "end_time": "2019-12-24T11:54:30.569188Z",
          "start_time": "2019-12-24T11:54:30.400959Z"
        },
        "id": "SlN_ghpNM18y",
        "colab_type": "code",
        "colab": {}
      },
      "source": [
        "returns.cov()"
      ],
      "execution_count": 0,
      "outputs": []
    },
    {
      "cell_type": "code",
      "metadata": {
        "ExecuteTime": {
          "end_time": "2019-12-24T11:54:30.727892Z",
          "start_time": "2019-12-24T11:54:30.572979Z"
        },
        "id": "WLEHiv5cM180",
        "colab_type": "code",
        "colab": {}
      },
      "source": [
        "# corrwith method - compute pairwise correlations\n",
        "# between a DataFrame’s columns or rows with another Series oDataFrame’sme\n",
        "returns.corrwith(returns.IBM)"
      ],
      "execution_count": 0,
      "outputs": []
    },
    {
      "cell_type": "markdown",
      "metadata": {
        "id": "B9BvFrK8M182",
        "colab_type": "text"
      },
      "source": [
        "### Unique Values, Value Counts, and Membership\n"
      ]
    },
    {
      "cell_type": "code",
      "metadata": {
        "ExecuteTime": {
          "end_time": "2019-12-24T11:54:30.844787Z",
          "start_time": "2019-12-24T11:54:30.727892Z"
        },
        "id": "UvH8ddDFM182",
        "colab_type": "code",
        "colab": {}
      },
      "source": [
        "# unique - gives you an array of the unique values in a Series\n",
        "\n",
        "obj = pd.Series(['c', 'a', 'd', 'a', 'a', 'b', 'b', 'c', 'c'])\n",
        "obj.unique()"
      ],
      "execution_count": 0,
      "outputs": []
    },
    {
      "cell_type": "code",
      "metadata": {
        "ExecuteTime": {
          "end_time": "2019-12-24T11:54:30.977262Z",
          "start_time": "2019-12-24T11:54:30.846938Z"
        },
        "id": "ZaPm3bWxM183",
        "colab_type": "code",
        "colab": {}
      },
      "source": [
        "# value_counts - computes a Series containing value frequencies\n",
        "\n",
        "pd.value_counts(obj.values, sort=True)\n"
      ],
      "execution_count": 0,
      "outputs": []
    },
    {
      "cell_type": "code",
      "metadata": {
        "ExecuteTime": {
          "end_time": "2019-12-24T11:54:31.112737Z",
          "start_time": "2019-12-24T11:54:30.978817Z"
        },
        "id": "QbxVhsQ6M185",
        "colab_type": "code",
        "colab": {}
      },
      "source": [
        "# isin - performs a vectorized set membership check and can be useful in filtering a\n",
        "# dataset down to a subset of values in a Series or column in a DataFrame\n",
        "\n",
        "obj"
      ],
      "execution_count": 0,
      "outputs": []
    },
    {
      "cell_type": "code",
      "metadata": {
        "ExecuteTime": {
          "end_time": "2019-12-24T11:54:31.299318Z",
          "start_time": "2019-12-24T11:54:31.114761Z"
        },
        "id": "zuqrJgsQM186",
        "colab_type": "code",
        "colab": {}
      },
      "source": [
        "mask = obj.isin(['b', 'c'])\n",
        "mask"
      ],
      "execution_count": 0,
      "outputs": []
    },
    {
      "cell_type": "code",
      "metadata": {
        "ExecuteTime": {
          "end_time": "2019-12-24T11:54:31.517280Z",
          "start_time": "2019-12-24T11:54:31.300318Z"
        },
        "id": "tT5HixJzM187",
        "colab_type": "code",
        "colab": {}
      },
      "source": [
        "obj[mask]"
      ],
      "execution_count": 0,
      "outputs": []
    },
    {
      "cell_type": "code",
      "metadata": {
        "ExecuteTime": {
          "end_time": "2019-12-24T11:54:31.801449Z",
          "start_time": "2019-12-24T11:54:31.520294Z"
        },
        "id": "gONvrheAM188",
        "colab_type": "code",
        "colab": {}
      },
      "source": [
        "data = pd.DataFrame({'Qu1': [1, 3, 4, 3, 4],\n",
        "                     'Qu2': [2, 3, 1, 2, 3],\n",
        "                     'Qu3': [1, 5, 2, 4, 4]})\n",
        "data"
      ],
      "execution_count": 0,
      "outputs": []
    },
    {
      "cell_type": "code",
      "metadata": {
        "ExecuteTime": {
          "end_time": "2019-12-24T11:54:32.315990Z",
          "start_time": "2019-12-24T11:54:31.804884Z"
        },
        "id": "YqpC6M6YM189",
        "colab_type": "code",
        "colab": {}
      },
      "source": [
        "print(pd.value_counts(data.Qu1))\n",
        "print(pd.value_counts(data.Qu2))\n",
        "print(pd.value_counts(data.Qu3))\n",
        "print(data.apply(pd.value_counts).fillna(0))\n",
        "# index - distinct values in the df\n",
        "# column values - how many times the distinct value occur in that column"
      ],
      "execution_count": 0,
      "outputs": []
    }
  ]
}