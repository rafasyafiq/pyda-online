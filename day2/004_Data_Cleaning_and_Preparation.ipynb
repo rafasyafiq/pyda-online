{
  "nbformat": 4,
  "nbformat_minor": 0,
  "metadata": {
    "kernelspec": {
      "display_name": "Python 3",
      "language": "python",
      "name": "python3"
    },
    "language_info": {
      "codemirror_mode": {
        "name": "ipython",
        "version": 3
      },
      "file_extension": ".py",
      "mimetype": "text/x-python",
      "name": "python",
      "nbconvert_exporter": "python",
      "pygments_lexer": "ipython3",
      "version": "3.7.1"
    },
    "toc": {
      "base_numbering": 1,
      "nav_menu": {},
      "number_sections": true,
      "sideBar": true,
      "skip_h1_title": false,
      "title_cell": "Table of Contents",
      "title_sidebar": "Contents",
      "toc_cell": true,
      "toc_position": {},
      "toc_section_display": true,
      "toc_window_display": false
    },
    "varInspector": {
      "cols": {
        "lenName": 16,
        "lenType": 16,
        "lenVar": 40
      },
      "kernels_config": {
        "python": {
          "delete_cmd_postfix": "",
          "delete_cmd_prefix": "del ",
          "library": "var_list.py",
          "varRefreshCmd": "print(var_dic_list())"
        },
        "r": {
          "delete_cmd_postfix": ") ",
          "delete_cmd_prefix": "rm(",
          "library": "var_list.r",
          "varRefreshCmd": "cat(var_dic_list()) "
        }
      },
      "types_to_exclude": [
        "module",
        "function",
        "builtin_function_or_method",
        "instance",
        "_Feature"
      ],
      "window_display": false
    },
    "colab": {
      "name": "004_Data Cleaning and Preparation.ipynb",
      "provenance": [],
      "include_colab_link": true
    }
  },
  "cells": [
    {
      "cell_type": "markdown",
      "metadata": {
        "id": "view-in-github",
        "colab_type": "text"
      },
      "source": [
        "<a href=\"https://colab.research.google.com/github/rafasyafiq/pyda-online/blob/master/day2/004_Data_Cleaning_and_Preparation.ipynb\" target=\"_parent\"><img src=\"https://colab.research.google.com/assets/colab-badge.svg\" alt=\"Open In Colab\"/></a>"
      ]
    },
    {
      "cell_type": "code",
      "metadata": {
        "ExecuteTime": {
          "end_time": "2019-12-24T17:42:50.844074Z",
          "start_time": "2019-12-24T17:42:50.026363Z"
        },
        "id": "HhaRgxzfOGak",
        "colab_type": "code",
        "colab": {}
      },
      "source": [
        "import pandas as pd\n",
        "import numpy as np"
      ],
      "execution_count": 0,
      "outputs": []
    },
    {
      "cell_type": "code",
      "metadata": {
        "ExecuteTime": {
          "end_time": "2019-12-24T17:42:50.856824Z",
          "start_time": "2019-12-24T17:42:50.848076Z"
        },
        "id": "t8-obYs6OGao",
        "colab_type": "code",
        "colab": {}
      },
      "source": [
        "import builtins\n",
        "\n",
        "def print(*args, **kwargs):\n",
        "    builtins.print(*args, **kwargs, end='\\n\\n')\n"
      ],
      "execution_count": 0,
      "outputs": []
    },
    {
      "cell_type": "markdown",
      "metadata": {
        "id": "22xyviakOGaq",
        "colab_type": "text"
      },
      "source": [
        "## Handling Missing Data"
      ]
    },
    {
      "cell_type": "markdown",
      "metadata": {
        "id": "33sl1U3sOGar",
        "colab_type": "text"
      },
      "source": [
        "The way that missing data is represented in pandas objects is somewhat imperfect, but it is functional for a lot of users. For numeric data, pandas uses the floating-point value **NaN** (Not a Number) to represent missing data. We call this a **sentinel value** that can be easily detected"
      ]
    },
    {
      "cell_type": "code",
      "metadata": {
        "ExecuteTime": {
          "end_time": "2019-12-24T17:42:51.015075Z",
          "start_time": "2019-12-24T17:42:50.858430Z"
        },
        "id": "ym3nqlnlOGas",
        "colab_type": "code",
        "colab": {}
      },
      "source": [
        "string_data = pd.Series(['aardvark', 'artichoke', np.nan, 'avocado'])\n",
        "string_data"
      ],
      "execution_count": 0,
      "outputs": []
    },
    {
      "cell_type": "code",
      "metadata": {
        "ExecuteTime": {
          "end_time": "2019-12-24T17:42:51.161311Z",
          "start_time": "2019-12-24T17:42:51.016109Z"
        },
        "id": "RtaQ5OU6OGau",
        "colab_type": "code",
        "colab": {}
      },
      "source": [
        "string_data.isnull()"
      ],
      "execution_count": 0,
      "outputs": []
    },
    {
      "cell_type": "code",
      "metadata": {
        "ExecuteTime": {
          "end_time": "2019-12-24T17:42:51.295057Z",
          "start_time": "2019-12-24T17:42:51.164353Z"
        },
        "hide_input": false,
        "id": "Do4nBO2NOGaw",
        "colab_type": "code",
        "colab": {}
      },
      "source": [
        "string_data.isnull().sum()"
      ],
      "execution_count": 0,
      "outputs": []
    },
    {
      "cell_type": "code",
      "metadata": {
        "ExecuteTime": {
          "end_time": "2019-12-24T17:42:51.437478Z",
          "start_time": "2019-12-24T17:42:51.297653Z"
        },
        "id": "zIWkdgsYOGaz",
        "colab_type": "code",
        "colab": {}
      },
      "source": [
        "# The built-in Python None value is also treated as NA in object arrays\n",
        "\n",
        "string_data[0] = None\n",
        "string_data.isnull()"
      ],
      "execution_count": 0,
      "outputs": []
    },
    {
      "cell_type": "code",
      "metadata": {
        "ExecuteTime": {
          "end_time": "2019-12-24T17:42:51.605133Z",
          "start_time": "2019-12-24T17:42:51.438477Z"
        },
        "id": "cf-TP94TOGa1",
        "colab_type": "code",
        "colab": {}
      },
      "source": [
        "pd.options.display.max_colwidth = 500\n",
        "df = pd.read_csv('https://raw.githubusercontent.com/rafasyafiq/pyda-online/master/Data/NA_handling_methods.csv', names=['Description'], sep='\\n')\n",
        "df.index = list(range(1, 5))\n",
        "\n",
        "def f1(x):\n",
        "    x = x.split(' ')\n",
        "    return x.pop(0)\n",
        "\n",
        "\n",
        "df['Argument'] = df['Description'].map(f1) # get the first word\n",
        "\n",
        "def f2(x):\n",
        "    x = x.split(' ')\n",
        "    return \" \".join(x[1:])\n",
        "\n",
        "df['Description'] = df['Description'].map(f2) # remove the first word\n",
        "\n",
        "df = df.reindex(columns=['Argument', 'Description'])\n",
        "print(\"NA handling methods\")\n",
        "df"
      ],
      "execution_count": 0,
      "outputs": []
    },
    {
      "cell_type": "markdown",
      "metadata": {
        "id": "k89PMSV0OGa3",
        "colab_type": "text"
      },
      "source": [
        "### Filtering Out Missing Data\n",
        "\n",
        "There are a few ways to filter out missing data. While you always have the option to do it by hand using **pandas.isnull** and **boolean indexing**, the **dropna** can be helpful."
      ]
    },
    {
      "cell_type": "code",
      "metadata": {
        "ExecuteTime": {
          "end_time": "2019-12-24T17:42:51.746687Z",
          "start_time": "2019-12-24T17:42:51.607016Z"
        },
        "id": "ROd7bDfXOGa4",
        "colab_type": "code",
        "colab": {}
      },
      "source": [
        "# On a Series, it returns the Series with only the non-null data and index values\n",
        "\n",
        "from numpy import nan as NA"
      ],
      "execution_count": 0,
      "outputs": []
    },
    {
      "cell_type": "code",
      "metadata": {
        "ExecuteTime": {
          "end_time": "2019-12-24T17:42:51.894072Z",
          "start_time": "2019-12-24T17:42:51.750247Z"
        },
        "id": "zqrRF6O0OGa6",
        "colab_type": "code",
        "colab": {}
      },
      "source": [
        "data = pd.Series([1, NA, 3.5, NA, 7])"
      ],
      "execution_count": 0,
      "outputs": []
    },
    {
      "cell_type": "code",
      "metadata": {
        "ExecuteTime": {
          "end_time": "2019-12-24T17:42:52.036025Z",
          "start_time": "2019-12-24T17:42:51.896067Z"
        },
        "id": "fHesk1reOGa8",
        "colab_type": "code",
        "colab": {}
      },
      "source": [
        "data.dropna()\n",
        "# data[data.notnull()]"
      ],
      "execution_count": 0,
      "outputs": []
    },
    {
      "cell_type": "markdown",
      "metadata": {
        "id": "hkl-_8BgOGa-",
        "colab_type": "text"
      },
      "source": [
        "With DataFrame objects, things are a bit more complex. You may want to drop rows or columns that are all NA or only those containing any NAs. dropna by **default drops any row containing a missing value**"
      ]
    },
    {
      "cell_type": "code",
      "metadata": {
        "ExecuteTime": {
          "end_time": "2019-12-24T17:42:52.179002Z",
          "start_time": "2019-12-24T17:42:52.037987Z"
        },
        "id": "TAW8vFAsOGa-",
        "colab_type": "code",
        "colab": {}
      },
      "source": [
        "data = pd.DataFrame([[1., 6.5, 3.], [1., NA, NA],\n",
        "                     [NA, NA, NA], [NA, 6.5, 3.]])\n",
        "data"
      ],
      "execution_count": 0,
      "outputs": []
    },
    {
      "cell_type": "code",
      "metadata": {
        "ExecuteTime": {
          "end_time": "2019-12-24T17:42:52.326562Z",
          "start_time": "2019-12-24T17:42:52.179002Z"
        },
        "id": "PUInqE8sOGbB",
        "colab_type": "code",
        "colab": {}
      },
      "source": [
        "cleaned = data.dropna()\n",
        "cleaned"
      ],
      "execution_count": 0,
      "outputs": []
    },
    {
      "cell_type": "code",
      "metadata": {
        "ExecuteTime": {
          "end_time": "2019-12-24T17:42:52.492974Z",
          "start_time": "2019-12-24T17:42:52.328730Z"
        },
        "id": "2ipjPCQvOGbD",
        "colab_type": "code",
        "colab": {}
      },
      "source": [
        "# Passing how='all' will only drop rows that are all NA\n",
        "\n",
        "data.dropna(how='all')\n",
        "# data.dropna(how='any')"
      ],
      "execution_count": 0,
      "outputs": []
    },
    {
      "cell_type": "code",
      "metadata": {
        "ExecuteTime": {
          "end_time": "2019-12-24T17:42:52.663286Z",
          "start_time": "2019-12-24T17:42:52.493950Z"
        },
        "id": "NsCOLRONOGbE",
        "colab_type": "code",
        "colab": {}
      },
      "source": [
        "# To drop columns in the same way, pass axis=1\n",
        "\n",
        "data[4] = NA\n",
        "data"
      ],
      "execution_count": 0,
      "outputs": []
    },
    {
      "cell_type": "code",
      "metadata": {
        "ExecuteTime": {
          "end_time": "2019-12-24T17:42:52.828878Z",
          "start_time": "2019-12-24T17:42:52.665142Z"
        },
        "id": "WLjCFasrOGbG",
        "colab_type": "code",
        "colab": {}
      },
      "source": [
        "data.dropna(axis=1, how='all')"
      ],
      "execution_count": 0,
      "outputs": []
    },
    {
      "cell_type": "markdown",
      "metadata": {
        "id": "e-dX-K7jOGbI",
        "colab_type": "text"
      },
      "source": [
        "A related way to filter out DataFrame rows tends to concern time series data. **Suppose you want to keep only rows containing a certain number of observations**. You can indicate this with the **thresh** argument"
      ]
    },
    {
      "cell_type": "code",
      "metadata": {
        "ExecuteTime": {
          "end_time": "2019-12-24T17:42:52.964051Z",
          "start_time": "2019-12-24T17:42:52.834105Z"
        },
        "id": "krCh9p21OGbJ",
        "colab_type": "code",
        "colab": {}
      },
      "source": [
        "df = pd.DataFrame(np.random.randn(7, 3))\n",
        "df.iloc[:4, 1] = NA\n",
        "df.iloc[:2, 2] = NA\n",
        "df"
      ],
      "execution_count": 0,
      "outputs": []
    },
    {
      "cell_type": "code",
      "metadata": {
        "ExecuteTime": {
          "end_time": "2019-12-24T17:42:53.139880Z",
          "start_time": "2019-12-24T17:42:52.967617Z"
        },
        "id": "ZWokaXcuOGbM",
        "colab_type": "code",
        "colab": {}
      },
      "source": [
        "print(df.dropna())\n",
        "print(df.dropna(thresh=2))"
      ],
      "execution_count": 0,
      "outputs": []
    },
    {
      "cell_type": "code",
      "metadata": {
        "ExecuteTime": {
          "end_time": "2019-12-24T17:42:53.321362Z",
          "start_time": "2019-12-24T17:42:53.141874Z"
        },
        "id": "xE95By9nOGbN",
        "colab_type": "code",
        "colab": {}
      },
      "source": [
        "df"
      ],
      "execution_count": 0,
      "outputs": []
    },
    {
      "cell_type": "code",
      "metadata": {
        "ExecuteTime": {
          "end_time": "2019-12-24T17:42:53.477978Z",
          "start_time": "2019-12-24T17:42:53.324143Z"
        },
        "id": "ApLbfTZROGbP",
        "colab_type": "code",
        "colab": {}
      },
      "source": [
        "print(df.dropna(subset=[1, 2], how='any').shape)\n",
        "print(df.dropna(subset=[1, 2], how='all').shape)"
      ],
      "execution_count": 0,
      "outputs": []
    },
    {
      "cell_type": "markdown",
      "metadata": {
        "id": "NTn7cQYhOGbR",
        "colab_type": "text"
      },
      "source": [
        "### Filling In Missing Data"
      ]
    },
    {
      "cell_type": "code",
      "metadata": {
        "ExecuteTime": {
          "end_time": "2019-12-24T17:42:53.630300Z",
          "start_time": "2019-12-24T17:42:53.480393Z"
        },
        "id": "LPx3-E1_OGbS",
        "colab_type": "code",
        "colab": {}
      },
      "source": [
        "df.fillna(0)"
      ],
      "execution_count": 0,
      "outputs": []
    },
    {
      "cell_type": "code",
      "metadata": {
        "ExecuteTime": {
          "end_time": "2019-12-24T17:42:53.795600Z",
          "start_time": "2019-12-24T17:42:53.632354Z"
        },
        "id": "IEdSUSuhOGbU",
        "colab_type": "code",
        "colab": {}
      },
      "source": [
        "# Calling fillna with a dict, you can use a different fill value for each column\n",
        "\n",
        "df.fillna({1: 0.5, 2: 0})"
      ],
      "execution_count": 0,
      "outputs": []
    },
    {
      "cell_type": "code",
      "metadata": {
        "ExecuteTime": {
          "end_time": "2019-12-24T17:42:53.971110Z",
          "start_time": "2019-12-24T17:42:53.798627Z"
        },
        "id": "wyiHlVtvOGbW",
        "colab_type": "code",
        "colab": {}
      },
      "source": [
        "# fillna returns a new object, but you can modify the existing object in-place\n",
        "_ = df.fillna(0, inplace=True)\n",
        "df"
      ],
      "execution_count": 0,
      "outputs": []
    },
    {
      "cell_type": "code",
      "metadata": {
        "ExecuteTime": {
          "end_time": "2019-12-24T17:42:54.119327Z",
          "start_time": "2019-12-24T17:42:53.972107Z"
        },
        "id": "Ip6OI-EtOGbY",
        "colab_type": "code",
        "colab": {}
      },
      "source": [
        "df = pd.DataFrame(np.random.randn(6, 3))"
      ],
      "execution_count": 0,
      "outputs": []
    },
    {
      "cell_type": "code",
      "metadata": {
        "ExecuteTime": {
          "end_time": "2019-12-24T17:42:54.585826Z",
          "start_time": "2019-12-24T17:42:54.119327Z"
        },
        "id": "HwVsxlj9OGba",
        "colab_type": "code",
        "colab": {}
      },
      "source": [
        "df.iloc[2:, 1] = NA\n",
        "df.iloc[4:, 2] = NA\n",
        "df"
      ],
      "execution_count": 0,
      "outputs": []
    },
    {
      "cell_type": "code",
      "metadata": {
        "ExecuteTime": {
          "end_time": "2019-12-24T17:42:54.843584Z",
          "start_time": "2019-12-24T17:42:54.586856Z"
        },
        "id": "g8ttV7c9OGbc",
        "colab_type": "code",
        "colab": {}
      },
      "source": [
        "df.fillna(method='ffill')"
      ],
      "execution_count": 0,
      "outputs": []
    },
    {
      "cell_type": "code",
      "metadata": {
        "ExecuteTime": {
          "end_time": "2019-12-24T17:42:54.997314Z",
          "start_time": "2019-12-24T17:42:54.846361Z"
        },
        "id": "dZnb0SGLOGbe",
        "colab_type": "code",
        "colab": {}
      },
      "source": [
        "df.fillna(method='ffill', limit=2)"
      ],
      "execution_count": 0,
      "outputs": []
    },
    {
      "cell_type": "code",
      "metadata": {
        "ExecuteTime": {
          "end_time": "2019-12-24T17:42:55.162941Z",
          "start_time": "2019-12-24T17:42:54.998307Z"
        },
        "id": "QNzbfAnIOGbg",
        "colab_type": "code",
        "colab": {}
      },
      "source": [
        "# we might pass mean or median of a series\n",
        "\n",
        "data = pd.Series([1., NA, 3.5, NA, 7])"
      ],
      "execution_count": 0,
      "outputs": []
    },
    {
      "cell_type": "code",
      "metadata": {
        "ExecuteTime": {
          "end_time": "2019-12-24T17:42:55.325659Z",
          "start_time": "2019-12-24T17:42:55.165933Z"
        },
        "id": "PQ4oi8HrOGbi",
        "colab_type": "code",
        "colab": {}
      },
      "source": [
        "data.fillna(data.mean())"
      ],
      "execution_count": 0,
      "outputs": []
    },
    {
      "cell_type": "markdown",
      "metadata": {
        "ExecuteTime": {
          "end_time": "2019-12-23T17:37:04.279897Z",
          "start_time": "2019-12-23T17:37:04.272219Z"
        },
        "id": "6K-hhznlOGbk",
        "colab_type": "text"
      },
      "source": [
        "**Arguments** - **Description** for fillna\n",
        "\n",
        "**value** - Scalar value or dict-like object to use to fill missing values\n",
        "\n",
        "**method** - Interpolation; by default 'ffill' if function called with no other arguments\n",
        "\n",
        "**axis** - Axis to fill on; default axis=0\n",
        "\n",
        "**inplace** - Modify the calling object without producing a copy\n",
        "\n",
        "**limit** - For forward and backward filling, maximum number of consecutive periods to fill"
      ]
    },
    {
      "cell_type": "markdown",
      "metadata": {
        "id": "_hRQ2w9VOGbk",
        "colab_type": "text"
      },
      "source": [
        "## Data Transformation\n",
        "\n",
        "### Removing Duplicates"
      ]
    },
    {
      "cell_type": "code",
      "metadata": {
        "ExecuteTime": {
          "end_time": "2019-12-24T17:42:55.494690Z",
          "start_time": "2019-12-24T17:42:55.328594Z"
        },
        "id": "qdPNkUn5OGbk",
        "colab_type": "code",
        "colab": {}
      },
      "source": [
        "data = pd.DataFrame({'k1': ['one', 'two'] * 3 + ['two'],\n",
        "                    'k2': [1, 1, 2, 3, 3, 4, 4]})\n",
        "data"
      ],
      "execution_count": 0,
      "outputs": []
    },
    {
      "cell_type": "markdown",
      "metadata": {
        "id": "0957LnEDOGbo",
        "colab_type": "text"
      },
      "source": [
        "The DataFrame method **duplicated** returns a boolean Series indicating whether each row is a duplicate (has been observed in a previous row) or not."
      ]
    },
    {
      "cell_type": "code",
      "metadata": {
        "ExecuteTime": {
          "end_time": "2019-12-24T17:42:55.649465Z",
          "start_time": "2019-12-24T17:42:55.498032Z"
        },
        "id": "QR7tl0TgOGbo",
        "colab_type": "code",
        "colab": {}
      },
      "source": [
        "data.duplicated()"
      ],
      "execution_count": 0,
      "outputs": []
    },
    {
      "cell_type": "code",
      "metadata": {
        "ExecuteTime": {
          "end_time": "2019-12-24T17:42:55.804370Z",
          "start_time": "2019-12-24T17:42:55.652247Z"
        },
        "id": "Gp5WfaenOGbr",
        "colab_type": "code",
        "colab": {}
      },
      "source": [
        "# drop_duplicates returns a DataFrame where the duplicated array is False\n",
        "\n",
        "data.drop_duplicates()"
      ],
      "execution_count": 0,
      "outputs": []
    },
    {
      "cell_type": "code",
      "metadata": {
        "ExecuteTime": {
          "end_time": "2019-12-24T17:42:55.962564Z",
          "start_time": "2019-12-24T17:42:55.805368Z"
        },
        "id": "JlWljEkQOGbs",
        "colab_type": "code",
        "colab": {}
      },
      "source": [
        "# Suppose we had an additional column of values and wanted to \n",
        "# filter duplicates only based on the 'k1' column\n",
        "\n",
        "data['v1'] = range(7)\n",
        "data"
      ],
      "execution_count": 0,
      "outputs": []
    },
    {
      "cell_type": "code",
      "metadata": {
        "ExecuteTime": {
          "end_time": "2019-12-24T17:42:56.114393Z",
          "start_time": "2019-12-24T17:42:55.964622Z"
        },
        "id": "1qxMzr9tOGbu",
        "colab_type": "code",
        "colab": {}
      },
      "source": [
        "data.drop_duplicates(['k1'])"
      ],
      "execution_count": 0,
      "outputs": []
    },
    {
      "cell_type": "markdown",
      "metadata": {
        "id": "ph9oAY2qOGbw",
        "colab_type": "text"
      },
      "source": [
        "### Transforming Data Using a Function or Mapping\n",
        "\n",
        "For many datasets, you may wish to perform some transformation based on the values in an array, Series, or column in a DataFrame."
      ]
    },
    {
      "cell_type": "code",
      "metadata": {
        "ExecuteTime": {
          "end_time": "2019-12-24T17:42:56.277029Z",
          "start_time": "2019-12-24T17:42:56.116562Z"
        },
        "id": "v6Q-MMDqOGbw",
        "colab_type": "code",
        "colab": {}
      },
      "source": [
        "data = pd.DataFrame({'food': ['bacon', 'pulled pork', 'bacon',\n",
        "                              'Pastrami', 'corned beef', 'Bacon',\n",
        "                              'pastrami', 'honey ham', 'nova lox'],\n",
        "                     'ounces': [4, 3, 12, 6, 7.5, 8, 3, 5, 6]})\n",
        "data"
      ],
      "execution_count": 0,
      "outputs": []
    },
    {
      "cell_type": "code",
      "metadata": {
        "ExecuteTime": {
          "end_time": "2019-12-24T17:42:56.417657Z",
          "start_time": "2019-12-24T17:42:56.278980Z"
        },
        "id": "zI_poG58OGby",
        "colab_type": "code",
        "colab": {}
      },
      "source": [
        "# Suppose you wanted to add a column indicating the \n",
        "# type of animal that each food came from\n",
        "\n",
        "meat_to_animal = {\n",
        " 'bacon': 'pig',\n",
        " 'pulled pork': 'pig',\n",
        " 'pastrami': 'cow',\n",
        " 'corned beef': 'cow',\n",
        " 'honey ham': 'pig',\n",
        " 'nova lox': 'salmon'\n",
        "}"
      ],
      "execution_count": 0,
      "outputs": []
    },
    {
      "cell_type": "code",
      "metadata": {
        "ExecuteTime": {
          "end_time": "2019-12-24T17:42:56.595457Z",
          "start_time": "2019-12-24T17:42:56.419812Z"
        },
        "id": "nsWwVkTsOGb0",
        "colab_type": "code",
        "colab": {}
      },
      "source": [
        "lowercased = data['food'].str.lower()\n",
        "lowercased"
      ],
      "execution_count": 0,
      "outputs": []
    },
    {
      "cell_type": "code",
      "metadata": {
        "ExecuteTime": {
          "end_time": "2019-12-24T17:42:56.767759Z",
          "start_time": "2019-12-24T17:42:56.597643Z"
        },
        "id": "DJ_tyqPROGb2",
        "colab_type": "code",
        "colab": {}
      },
      "source": [
        "data['animal'] = lowercased.map(meat_to_animal)\n",
        "# or\n",
        "# data['food'].map(lambda x: meat_to_animal[x.lower()])\n",
        "data"
      ],
      "execution_count": 0,
      "outputs": []
    },
    {
      "cell_type": "markdown",
      "metadata": {
        "ExecuteTime": {
          "end_time": "2019-12-23T17:56:05.001259Z",
          "start_time": "2019-12-23T17:56:04.992428Z"
        },
        "id": "yCDjX3puOGb4",
        "colab_type": "text"
      },
      "source": [
        "### Replacing Values\n",
        "\n",
        "Filling in missing data with the fillna method is a special case of more general value replacement. As you’ve already seen, map can be used to modify a subset of values in an object but **replace** provides a simpler and more flexible way to do so"
      ]
    },
    {
      "cell_type": "code",
      "metadata": {
        "ExecuteTime": {
          "end_time": "2019-12-24T17:42:56.900004Z",
          "start_time": "2019-12-24T17:42:56.768790Z"
        },
        "id": "tSdwpq8hOGb4",
        "colab_type": "code",
        "colab": {}
      },
      "source": [
        "data = pd.Series([1., -999., 2., -999., -1000., 3.])"
      ],
      "execution_count": 0,
      "outputs": []
    },
    {
      "cell_type": "code",
      "metadata": {
        "ExecuteTime": {
          "end_time": "2019-12-24T17:42:57.091197Z",
          "start_time": "2019-12-24T17:42:56.900004Z"
        },
        "id": "bXThG6YNOGb7",
        "colab_type": "code",
        "colab": {}
      },
      "source": [
        "data"
      ],
      "execution_count": 0,
      "outputs": []
    },
    {
      "cell_type": "code",
      "metadata": {
        "ExecuteTime": {
          "end_time": "2019-12-24T17:42:57.234609Z",
          "start_time": "2019-12-24T17:42:57.092227Z"
        },
        "id": "L6DjclMvOGb-",
        "colab_type": "code",
        "colab": {}
      },
      "source": [
        "print(data.replace(-999, np.nan))\n",
        "print(data.replace([-999, -1000], np.nan))\n",
        "print(data.replace([-999, -1000], [np.nan, 0]))\n",
        "print(data.replace({-999: np.nan, -1000: 0}, inplace=True))"
      ],
      "execution_count": 0,
      "outputs": []
    },
    {
      "cell_type": "markdown",
      "metadata": {
        "id": "qou_wJapOGcB",
        "colab_type": "text"
      },
      "source": [
        "### Renaming Axis Indexes\n",
        "\n",
        "axis labels can be transformed by a function or mapping of some form to produce new, differently labeled objects. "
      ]
    },
    {
      "cell_type": "code",
      "metadata": {
        "ExecuteTime": {
          "end_time": "2019-12-24T17:42:57.347390Z",
          "start_time": "2019-12-24T17:42:57.234609Z"
        },
        "id": "f2DpSo2iOGcB",
        "colab_type": "code",
        "colab": {}
      },
      "source": [
        "data = pd.DataFrame(np.arange(12).reshape((3, 4)),\n",
        "                    index=['Ohio', 'Colorado', 'New York'],\n",
        "                    columns=['one', 'two', 'three', 'four'])"
      ],
      "execution_count": 0,
      "outputs": []
    },
    {
      "cell_type": "code",
      "metadata": {
        "ExecuteTime": {
          "end_time": "2019-12-24T17:42:57.486408Z",
          "start_time": "2019-12-24T17:42:57.349987Z"
        },
        "id": "Iii3IRXQOGcD",
        "colab_type": "code",
        "colab": {}
      },
      "source": [
        "transform = lambda x: x[:4].upper()\n",
        "\n",
        "# Like a Series, the axis indexes have a map method\n",
        "\n",
        "print(data.index.map(transform))\n",
        "\n",
        "# -----------\n",
        "trans = lambda x: x[:2].upper()\n",
        "print(data.index.map(trans))"
      ],
      "execution_count": 0,
      "outputs": []
    },
    {
      "cell_type": "code",
      "metadata": {
        "ExecuteTime": {
          "end_time": "2019-12-24T17:42:57.630459Z",
          "start_time": "2019-12-24T17:42:57.488063Z"
        },
        "id": "neueHPmDOGcF",
        "colab_type": "code",
        "colab": {}
      },
      "source": [
        "data.index = data.index.map(transform)\n",
        "data"
      ],
      "execution_count": 0,
      "outputs": []
    },
    {
      "cell_type": "markdown",
      "metadata": {
        "id": "R5O2PVVxOGcJ",
        "colab_type": "text"
      },
      "source": [
        "If you want to create a transformed version of a dataset without modifying the original, a useful method is **rename**"
      ]
    },
    {
      "cell_type": "code",
      "metadata": {
        "ExecuteTime": {
          "end_time": "2019-12-24T17:42:57.779949Z",
          "start_time": "2019-12-24T17:42:57.631489Z"
        },
        "id": "XbjSDGxxOGcJ",
        "colab_type": "code",
        "colab": {}
      },
      "source": [
        "data.rename(index=str.title, columns=str.upper)"
      ],
      "execution_count": 0,
      "outputs": []
    },
    {
      "cell_type": "code",
      "metadata": {
        "ExecuteTime": {
          "end_time": "2019-12-24T17:42:57.934232Z",
          "start_time": "2019-12-24T17:42:57.782092Z"
        },
        "id": "XcwIW7SdOGcK",
        "colab_type": "code",
        "colab": {}
      },
      "source": [
        "# rename can be used in conjunction with a dict-like object\n",
        "# providing new values for a subset of the axis labels\n",
        "\n",
        "data.rename(index={'OHIO': 'INDIANA'},\n",
        "            columns={'three': 'peekaboo'}, inplace=True)\n",
        "data"
      ],
      "execution_count": 0,
      "outputs": []
    },
    {
      "cell_type": "code",
      "metadata": {
        "ExecuteTime": {
          "end_time": "2019-12-24T17:42:58.052890Z",
          "start_time": "2019-12-24T17:42:57.934232Z"
        },
        "id": "WJtCGjMkOGcM",
        "colab_type": "code",
        "colab": {}
      },
      "source": [
        "# ToD: Discretization and Binning"
      ],
      "execution_count": 0,
      "outputs": []
    },
    {
      "cell_type": "markdown",
      "metadata": {
        "id": "YLP90fX1OGcO",
        "colab_type": "text"
      },
      "source": [
        "### Detecting and Filtering Outliers\n",
        "\n",
        "Filtering or transforming outliers is largely a matter of applying array operations."
      ]
    },
    {
      "cell_type": "code",
      "metadata": {
        "ExecuteTime": {
          "end_time": "2019-12-24T17:42:58.224509Z",
          "start_time": "2019-12-24T17:42:58.052890Z"
        },
        "id": "Noh7cSEuOGcO",
        "colab_type": "code",
        "colab": {}
      },
      "source": [
        "data = pd.DataFrame(np.random.randn(1000, 4))\n",
        "data.describe()"
      ],
      "execution_count": 0,
      "outputs": []
    },
    {
      "cell_type": "code",
      "metadata": {
        "ExecuteTime": {
          "end_time": "2019-12-24T17:42:58.337732Z",
          "start_time": "2019-12-24T17:42:58.225600Z"
        },
        "id": "UDQFcLFhOGcQ",
        "colab_type": "code",
        "colab": {}
      },
      "source": [
        "col = data[0]"
      ],
      "execution_count": 0,
      "outputs": []
    },
    {
      "cell_type": "code",
      "metadata": {
        "ExecuteTime": {
          "end_time": "2019-12-24T17:42:58.470172Z",
          "start_time": "2019-12-24T17:42:58.345580Z"
        },
        "id": "-V1pDBgkOGcS",
        "colab_type": "code",
        "colab": {}
      },
      "source": [
        "col[np.abs(col) > 3]"
      ],
      "execution_count": 0,
      "outputs": []
    },
    {
      "cell_type": "markdown",
      "metadata": {
        "id": "Se2Bbp-4OGcU",
        "colab_type": "text"
      },
      "source": [
        "To select all rows having a value exceeding 3 or –3, you can use the any method on a boolean DataFrame"
      ]
    },
    {
      "cell_type": "code",
      "metadata": {
        "ExecuteTime": {
          "end_time": "2019-12-24T17:42:58.634225Z",
          "start_time": "2019-12-24T17:42:58.473682Z"
        },
        "id": "Kp4fruZQOGcU",
        "colab_type": "code",
        "colab": {}
      },
      "source": [
        "data[(np.abs(data) > 3).any(axis=1)]"
      ],
      "execution_count": 0,
      "outputs": []
    },
    {
      "cell_type": "markdown",
      "metadata": {
        "id": "5lAo0A6bOGcX",
        "colab_type": "text"
      },
      "source": [
        "Values can be set based on these criteria. Here is code to cap values outside the interval –3 to 3"
      ]
    },
    {
      "cell_type": "code",
      "metadata": {
        "ExecuteTime": {
          "end_time": "2019-12-24T17:42:58.768926Z",
          "start_time": "2019-12-24T17:42:58.635223Z"
        },
        "id": "R1ObqotxOGcX",
        "colab_type": "code",
        "colab": {}
      },
      "source": [
        "data[np.abs(data) > 3] = np.sign(data) * 3"
      ],
      "execution_count": 0,
      "outputs": []
    },
    {
      "cell_type": "code",
      "metadata": {
        "ExecuteTime": {
          "end_time": "2019-12-24T17:42:58.935675Z",
          "start_time": "2019-12-24T17:42:58.768926Z"
        },
        "id": "B7YkK2VDOGcb",
        "colab_type": "code",
        "colab": {}
      },
      "source": [
        "data.describe()"
      ],
      "execution_count": 0,
      "outputs": []
    },
    {
      "cell_type": "code",
      "metadata": {
        "ExecuteTime": {
          "end_time": "2019-12-24T17:42:59.066787Z",
          "start_time": "2019-12-24T17:42:58.936677Z"
        },
        "id": "45jSIz2qOGcd",
        "colab_type": "code",
        "colab": {}
      },
      "source": [
        "# The statement np.sign(data) produces 1 and –1 values based on \n",
        "# whether the values in data are positive or negative\n",
        "\n",
        "np.sign(data).head()"
      ],
      "execution_count": 0,
      "outputs": []
    },
    {
      "cell_type": "markdown",
      "metadata": {
        "id": "AmJBDkpdOGcg",
        "colab_type": "text"
      },
      "source": [
        "### Permutation and Random Sampling\n"
      ]
    },
    {
      "cell_type": "markdown",
      "metadata": {
        "id": "ZERQN9IVOGcg",
        "colab_type": "text"
      },
      "source": [
        "Permuting (randomly reordering) a Series or the rows in a DataFrame is easy to do using the numpy.random.permutation function. Calling permutation with the length of the axis you want to permute produces an array of integers indicating the new ordering"
      ]
    },
    {
      "cell_type": "code",
      "metadata": {
        "ExecuteTime": {
          "end_time": "2019-12-24T17:42:59.221723Z",
          "start_time": "2019-12-24T17:42:59.067821Z"
        },
        "id": "TDb5Go64OGci",
        "colab_type": "code",
        "colab": {}
      },
      "source": [
        "df = pd.DataFrame(np.arange(20).reshape((5, 4)))"
      ],
      "execution_count": 0,
      "outputs": []
    },
    {
      "cell_type": "code",
      "metadata": {
        "ExecuteTime": {
          "end_time": "2019-12-24T17:42:59.370484Z",
          "start_time": "2019-12-24T17:42:59.222721Z"
        },
        "id": "CZwWdAGvOGcj",
        "colab_type": "code",
        "colab": {}
      },
      "source": [
        "sampler = np.random.permutation(5)\n",
        "sampler"
      ],
      "execution_count": 0,
      "outputs": []
    },
    {
      "cell_type": "markdown",
      "metadata": {
        "id": "tyRYPy-FOGcl",
        "colab_type": "text"
      },
      "source": [
        "That array can then be used in iloc-based indexing or the equivalent **take** function"
      ]
    },
    {
      "cell_type": "code",
      "metadata": {
        "ExecuteTime": {
          "end_time": "2019-12-24T17:42:59.559900Z",
          "start_time": "2019-12-24T17:42:59.374481Z"
        },
        "id": "VOWA3b9cOGcl",
        "colab_type": "code",
        "colab": {}
      },
      "source": [
        "df"
      ],
      "execution_count": 0,
      "outputs": []
    },
    {
      "cell_type": "code",
      "metadata": {
        "ExecuteTime": {
          "end_time": "2019-12-24T17:42:59.714703Z",
          "start_time": "2019-12-24T17:42:59.562894Z"
        },
        "id": "2AelEqWnOGco",
        "colab_type": "code",
        "colab": {}
      },
      "source": [
        "df.take(sampler)"
      ],
      "execution_count": 0,
      "outputs": []
    },
    {
      "cell_type": "markdown",
      "metadata": {
        "id": "-xXAFTxEOGcq",
        "colab_type": "text"
      },
      "source": [
        "To select a random subset **without replacement**, you can use the **sample** method on Series and DataFrame"
      ]
    },
    {
      "cell_type": "code",
      "metadata": {
        "ExecuteTime": {
          "end_time": "2019-12-24T17:42:59.877470Z",
          "start_time": "2019-12-24T17:42:59.717464Z"
        },
        "id": "wYIvMnUPOGcq",
        "colab_type": "code",
        "colab": {}
      },
      "source": [
        "df.sample(n=3)"
      ],
      "execution_count": 0,
      "outputs": []
    },
    {
      "cell_type": "code",
      "metadata": {
        "ExecuteTime": {
          "end_time": "2019-12-24T17:43:00.022827Z",
          "start_time": "2019-12-24T17:42:59.880463Z"
        },
        "id": "AnA4aOzrOGcs",
        "colab_type": "code",
        "colab": {}
      },
      "source": [
        "#  sample with replacement\n",
        "\n",
        "choices = pd.Series([5, 7, -1, 6, 4])\n",
        "draws = choices.sample(n=10, replace=True)\n",
        "draws"
      ],
      "execution_count": 0,
      "outputs": []
    },
    {
      "cell_type": "markdown",
      "metadata": {
        "id": "oooz49eFOGct",
        "colab_type": "text"
      },
      "source": [
        "### Computing Indicator/Dummy Variables\n"
      ]
    },
    {
      "cell_type": "code",
      "metadata": {
        "ExecuteTime": {
          "end_time": "2019-12-24T17:43:01.237733Z",
          "start_time": "2019-12-24T17:43:00.025854Z"
        },
        "id": "LEDzG0rZOGct",
        "colab_type": "code",
        "colab": {}
      },
      "source": [
        "train = pd.read_csv('http://bit.ly/kaggletrain')\n",
        "train.head()"
      ],
      "execution_count": 0,
      "outputs": []
    },
    {
      "cell_type": "code",
      "metadata": {
        "ExecuteTime": {
          "end_time": "2019-12-24T17:43:01.266505Z",
          "start_time": "2019-12-24T17:43:01.239975Z"
        },
        "id": "eVqcsYezOGcv",
        "colab_type": "code",
        "colab": {}
      },
      "source": [
        "# create a dummy column for Sex column\n",
        "\n",
        "# using map method\n",
        "train['Sex_male'] = train.Sex.map({'female': 0, 'male': 1})\n",
        "train.head()"
      ],
      "execution_count": 0,
      "outputs": []
    },
    {
      "cell_type": "code",
      "metadata": {
        "ExecuteTime": {
          "end_time": "2019-12-24T17:43:01.411456Z",
          "start_time": "2019-12-24T17:43:01.268780Z"
        },
        "id": "a50wDSg6OGcw",
        "colab_type": "code",
        "colab": {}
      },
      "source": [
        "# using get_dummies\n",
        "  \n",
        "pd.get_dummies(train.Sex)"
      ],
      "execution_count": 0,
      "outputs": []
    },
    {
      "cell_type": "markdown",
      "metadata": {
        "id": "9_Ol9FcXOGcx",
        "colab_type": "text"
      },
      "source": [
        "Generally, **k** categorical values, then use **k-1** dummy variables to represent it.\n",
        "\n",
        "for Sex, we have to categorical values so we need only 1 variable to encode all the given information. So we drop the first column."
      ]
    },
    {
      "cell_type": "code",
      "metadata": {
        "ExecuteTime": {
          "end_time": "2019-12-24T17:43:01.573467Z",
          "start_time": "2019-12-24T17:43:01.414109Z"
        },
        "id": "DXvRy6rhOGcy",
        "colab_type": "code",
        "colab": {}
      },
      "source": [
        "pd.get_dummies(train.Sex, prefix='Sex').iloc[:, 1:]"
      ],
      "execution_count": 0,
      "outputs": []
    },
    {
      "cell_type": "code",
      "metadata": {
        "ExecuteTime": {
          "end_time": "2019-12-24T17:43:01.712385Z",
          "start_time": "2019-12-24T17:43:01.577414Z"
        },
        "id": "cQxlWkdBOGcz",
        "colab_type": "code",
        "colab": {}
      },
      "source": [
        "train.Embarked.value_counts()"
      ],
      "execution_count": 0,
      "outputs": []
    },
    {
      "cell_type": "code",
      "metadata": {
        "ExecuteTime": {
          "end_time": "2019-12-24T17:43:01.845962Z",
          "start_time": "2019-12-24T17:43:01.712385Z"
        },
        "id": "Zx--k1ezOGc2",
        "colab_type": "code",
        "colab": {}
      },
      "source": [
        "embarked_dummies = pd.get_dummies(train.Embarked, prefix='Embarked').iloc[:, 1:]"
      ],
      "execution_count": 0,
      "outputs": []
    },
    {
      "cell_type": "code",
      "metadata": {
        "ExecuteTime": {
          "end_time": "2019-12-24T17:43:02.023567Z",
          "start_time": "2019-12-24T17:43:01.845962Z"
        },
        "id": "yD7w-rYOOGc3",
        "colab_type": "code",
        "colab": {}
      },
      "source": [
        "train = pd.concat([train, embarked_dummies], axis=1)\n",
        "train.head()"
      ],
      "execution_count": 0,
      "outputs": []
    },
    {
      "cell_type": "code",
      "metadata": {
        "ExecuteTime": {
          "end_time": "2019-12-24T17:43:02.754062Z",
          "start_time": "2019-12-24T17:43:02.024777Z"
        },
        "id": "ybLlvgWTOGc4",
        "colab_type": "code",
        "colab": {}
      },
      "source": [
        "# pass columns to get_dummies makes it more easy\n",
        "\n",
        "train = pd.read_csv('http://bit.ly/kaggletrain')\n",
        "\n",
        "pd.get_dummies(train, columns=['Sex', 'Embarked'])"
      ],
      "execution_count": 0,
      "outputs": []
    },
    {
      "cell_type": "code",
      "metadata": {
        "ExecuteTime": {
          "end_time": "2019-12-24T17:43:02.783417Z",
          "start_time": "2019-12-24T17:43:02.756504Z"
        },
        "id": "bNVUPsA1OGc7",
        "colab_type": "code",
        "colab": {}
      },
      "source": [
        "# drop the first column after get_dummies\n",
        "\n",
        "pd.get_dummies(train, columns=['Sex', 'Embarked'], drop_first=True)"
      ],
      "execution_count": 0,
      "outputs": []
    },
    {
      "cell_type": "code",
      "metadata": {
        "ExecuteTime": {
          "end_time": "2019-12-24T17:43:02.991607Z",
          "start_time": "2019-12-24T17:43:02.784456Z"
        },
        "id": "isjmYhtWOGc8",
        "colab_type": "code",
        "colab": {}
      },
      "source": [
        "# example of MovieLens 1M dataset\n",
        "\n",
        "mnames = ['movieid', 'title', 'genres']"
      ],
      "execution_count": 0,
      "outputs": []
    },
    {
      "cell_type": "code",
      "metadata": {
        "ExecuteTime": {
          "end_time": "2019-12-24T17:43:03.179736Z",
          "start_time": "2019-12-24T17:43:02.993603Z"
        },
        "id": "NH3B0gryOGc-",
        "colab_type": "code",
        "colab": {}
      },
      "source": [
        "movies = pd.read_table(r'MovieLens-1M/movies.dat', sep='::', header=None,\n",
        "                       names=mnames, engine='python')"
      ],
      "execution_count": 0,
      "outputs": []
    },
    {
      "cell_type": "code",
      "metadata": {
        "ExecuteTime": {
          "end_time": "2019-12-24T17:43:03.445851Z",
          "start_time": "2019-12-24T17:43:03.182662Z"
        },
        "id": "FWtRhwmCOGc_",
        "colab_type": "code",
        "colab": {}
      },
      "source": [
        "movies.head()"
      ],
      "execution_count": 0,
      "outputs": []
    },
    {
      "cell_type": "code",
      "metadata": {
        "ExecuteTime": {
          "end_time": "2019-12-24T17:43:03.606208Z",
          "start_time": "2019-12-24T17:43:03.447874Z"
        },
        "id": "5gq_Iz3EOGdA",
        "colab_type": "code",
        "colab": {}
      },
      "source": [
        "all_genres = []\n",
        "\n",
        "for x in movies.genres:\n",
        "    all_genres.extend(x.split('|'))"
      ],
      "execution_count": 0,
      "outputs": []
    },
    {
      "cell_type": "code",
      "metadata": {
        "ExecuteTime": {
          "end_time": "2019-12-24T17:43:03.741670Z",
          "start_time": "2019-12-24T17:43:03.609697Z"
        },
        "id": "IT-4MCkqOGdB",
        "colab_type": "code",
        "colab": {}
      },
      "source": [
        "genres = pd.unique(all_genres)\n",
        "genres"
      ],
      "execution_count": 0,
      "outputs": []
    },
    {
      "cell_type": "code",
      "metadata": {
        "ExecuteTime": {
          "end_time": "2019-12-24T17:43:03.877471Z",
          "start_time": "2019-12-24T17:43:03.745292Z"
        },
        "id": "hLs1z7WROGdD",
        "colab_type": "code",
        "colab": {}
      },
      "source": [
        "# One way to construct the indicator DataFrame is to start with a\n",
        "# DataFrame of allzeros\n",
        "\n",
        "zero_matrix = np.zeros((len(movies), len(genres)))"
      ],
      "execution_count": 0,
      "outputs": []
    },
    {
      "cell_type": "code",
      "metadata": {
        "ExecuteTime": {
          "end_time": "2019-12-24T17:43:04.014237Z",
          "start_time": "2019-12-24T17:43:03.881359Z"
        },
        "id": "WbvgLkqSOGdF",
        "colab_type": "code",
        "colab": {}
      },
      "source": [
        "dummies = pd.DataFrame(zero_matrix, columns=genres)"
      ],
      "execution_count": 0,
      "outputs": []
    },
    {
      "cell_type": "markdown",
      "metadata": {
        "id": "n_KTOlxhOGdH",
        "colab_type": "text"
      },
      "source": [
        "Now, iterate through each movie and set entries in each row of dummies to 1. To do this, we use the dummies.columns to compute the column indices for each genre"
      ]
    },
    {
      "cell_type": "code",
      "metadata": {
        "ExecuteTime": {
          "end_time": "2019-12-24T17:43:04.141318Z",
          "start_time": "2019-12-24T17:43:04.016094Z"
        },
        "id": "DD1s4zu8OGdH",
        "colab_type": "code",
        "colab": {}
      },
      "source": [
        "gen = movies.genres[0]\n",
        "print(gen.split('|'))\n",
        "dummies.columns.get_indexer(gen.split('|'))"
      ],
      "execution_count": 0,
      "outputs": []
    },
    {
      "cell_type": "markdown",
      "metadata": {
        "id": "jnZ7riLjOGdJ",
        "colab_type": "text"
      },
      "source": [
        "Then, we can use .iloc to set values based on these indices"
      ]
    },
    {
      "cell_type": "code",
      "metadata": {
        "ExecuteTime": {
          "end_time": "2019-12-24T17:43:06.917275Z",
          "start_time": "2019-12-24T17:43:04.144485Z"
        },
        "id": "QGS0SOrOOGdJ",
        "colab_type": "code",
        "colab": {}
      },
      "source": [
        "for i, gen in enumerate(movies.genres):\n",
        "    indices = dummies.columns.get_indexer(gen.split('|'))\n",
        "    dummies.iloc[i, indices] = 1"
      ],
      "execution_count": 0,
      "outputs": []
    },
    {
      "cell_type": "code",
      "metadata": {
        "ExecuteTime": {
          "end_time": "2019-12-24T17:43:06.932929Z",
          "start_time": "2019-12-24T17:43:06.917275Z"
        },
        "id": "3xLBpvnYOGdL",
        "colab_type": "code",
        "colab": {}
      },
      "source": [
        "# join with movies\n",
        "\n",
        "movies_windic = movies.join(dummies.add_prefix('Genre_'))"
      ],
      "execution_count": 0,
      "outputs": []
    },
    {
      "cell_type": "code",
      "metadata": {
        "ExecuteTime": {
          "end_time": "2019-12-24T17:43:07.061469Z",
          "start_time": "2019-12-24T17:43:06.935434Z"
        },
        "id": "lA-pXFK1OGdO",
        "colab_type": "code",
        "colab": {}
      },
      "source": [
        "movies_windic.iloc[0]"
      ],
      "execution_count": 0,
      "outputs": []
    },
    {
      "cell_type": "markdown",
      "metadata": {
        "id": "sJk6tEtPOGdP",
        "colab_type": "text"
      },
      "source": [
        "## String Manipulation\n",
        "### Basic String methods"
      ]
    },
    {
      "cell_type": "code",
      "metadata": {
        "ExecuteTime": {
          "end_time": "2019-12-24T17:43:07.209653Z",
          "start_time": "2019-12-24T17:43:07.063739Z"
        },
        "id": "haWA47tbOGdP",
        "colab_type": "code",
        "colab": {}
      },
      "source": [
        "val = 'a,b, guido'\n",
        "\n",
        "pieces = [x.strip() for x in val.split(',')]\n",
        "pieces"
      ],
      "execution_count": 0,
      "outputs": []
    },
    {
      "cell_type": "code",
      "metadata": {
        "ExecuteTime": {
          "end_time": "2019-12-24T17:43:07.361358Z",
          "start_time": "2019-12-24T17:43:07.210654Z"
        },
        "id": "Hy6v-qeNOGdR",
        "colab_type": "code",
        "colab": {}
      },
      "source": [
        "\"::\".join(pieces)"
      ],
      "execution_count": 0,
      "outputs": []
    },
    {
      "cell_type": "markdown",
      "metadata": {
        "id": "EodiZFzkOGdT",
        "colab_type": "text"
      },
      "source": [
        "**built-in String methods**\n",
        "\n",
        "|Argument | Description    |\n",
        "|---|---|\n",
        "|count|Return the number of non-overlapping occurrences of substring in the string.     |\n",
        "|endswith|Returns True if string ends with suffix.     |\n",
        "|startswith|Returns True if string starts with prefix.    |\n",
        "|join|Use string as delimiter for concatenating a sequence of other strings. |\n",
        "|index|Return position of first character in substring if found in the string; raises ValueError if not found.  |\n",
        "|find|Return position of first character of rst occurrence of substring in the string; like index, but returns –1  if          not found.|\n",
        "|rfind|Return position of first character of last occurrence of substring in the string; returns –1 if not found.   |\n",
        "|replace|Replace occurrences of string with another string.|\n",
        "|strip, rstrip, lstrip|Trim whitespace, including newlines; equivalent to x.strip() (and rstrip, lstrip, respectively)\n",
        "                      for each element|\n",
        "|split|Break string into list of substrings using passed delimiter.    |\n",
        "|lower|Convert alphabet characters to lowercase.    |\n",
        "|upper|Convert alphabet characters to uppercase.   |\n",
        "|casefold|Convert characters to lowercase, and convert any region-specific variable character combinations to a common comparable form.   \n",
        "|ljust, rjust|Left justify or right justify, respectively; pad opposite side of string with spaces (or some other fill character) to return a string with a minimum width   |"
      ]
    },
    {
      "cell_type": "markdown",
      "metadata": {
        "id": "TKkCZ3hmOGdT",
        "colab_type": "text"
      },
      "source": [
        "### Regular Expressions"
      ]
    },
    {
      "cell_type": "markdown",
      "metadata": {
        "ExecuteTime": {
          "end_time": "2019-12-24T13:32:20.008167Z",
          "start_time": "2019-12-24T13:32:19.995045Z"
        },
        "id": "7J9PuZeYOGdT",
        "colab_type": "text"
      },
      "source": [
        "The re module functions fall into three categories: pattern matching, substitution,\n",
        "and splitting. Naturally these are all related; a regex describes a pattern to locate in the\n",
        "text, which can then be used for many purposes."
      ]
    },
    {
      "cell_type": "code",
      "metadata": {
        "ExecuteTime": {
          "end_time": "2019-12-24T17:43:07.495362Z",
          "start_time": "2019-12-24T17:43:07.367465Z"
        },
        "id": "mQgEKiyVOGdT",
        "colab_type": "code",
        "colab": {}
      },
      "source": [
        "import re"
      ],
      "execution_count": 0,
      "outputs": []
    },
    {
      "cell_type": "code",
      "metadata": {
        "ExecuteTime": {
          "end_time": "2019-12-24T17:43:07.637104Z",
          "start_time": "2019-12-24T17:43:07.495362Z"
        },
        "id": "bt1oD8zlOGdV",
        "colab_type": "code",
        "colab": {}
      },
      "source": [
        "text = \"foo    bar\\tbaz   \\tqux\"\n",
        "text"
      ],
      "execution_count": 0,
      "outputs": []
    },
    {
      "cell_type": "code",
      "metadata": {
        "ExecuteTime": {
          "end_time": "2019-12-24T17:43:07.780343Z",
          "start_time": "2019-12-24T17:43:07.638102Z"
        },
        "id": "OE-NCFB6OGdW",
        "colab_type": "code",
        "colab": {}
      },
      "source": [
        "re.split('\\s+', text)"
      ],
      "execution_count": 0,
      "outputs": []
    },
    {
      "cell_type": "markdown",
      "metadata": {
        "id": "Qu7IvD4GOGdX",
        "colab_type": "text"
      },
      "source": [
        "When you call re.split('\\s+', text), the regular expression is first compiled, and then its split method is called on the passed text. You can compile the regex yourself with **re.compile**, forming a reusable regex object"
      ]
    },
    {
      "cell_type": "markdown",
      "metadata": {
        "id": "Vt3DlSLbOGdX",
        "colab_type": "text"
      },
      "source": [
        "Creating a regex object with re.compile is highly recommended if you intend to\n",
        "apply the same expression to many strings; doing so will save CPU cycles"
      ]
    },
    {
      "cell_type": "code",
      "metadata": {
        "ExecuteTime": {
          "end_time": "2019-12-24T17:43:07.916446Z",
          "start_time": "2019-12-24T17:43:07.785420Z"
        },
        "id": "--XfGknJOGdY",
        "colab_type": "code",
        "colab": {}
      },
      "source": [
        "regex = re.compile('\\s+')"
      ],
      "execution_count": 0,
      "outputs": []
    },
    {
      "cell_type": "code",
      "metadata": {
        "ExecuteTime": {
          "end_time": "2019-12-24T17:43:08.056820Z",
          "start_time": "2019-12-24T17:43:07.920407Z"
        },
        "id": "4SPSSASdOGdZ",
        "colab_type": "code",
        "colab": {}
      },
      "source": [
        "regex.split(text)"
      ],
      "execution_count": 0,
      "outputs": []
    },
    {
      "cell_type": "code",
      "metadata": {
        "ExecuteTime": {
          "end_time": "2019-12-24T17:43:08.205267Z",
          "start_time": "2019-12-24T17:43:08.058813Z"
        },
        "id": "nve6mdqdOGda",
        "colab_type": "code",
        "colab": {}
      },
      "source": [
        "text = \"\"\"Dave dave@google.com\n",
        "Steve steve@gmail.com\n",
        "Rob rob@gmail.com\n",
        "Ryan ryan@yahoo.com\n",
        "\"\"\"\n",
        "pattern = r'[A-Z0-9._%+-]+@[A-Z0-9.-]+\\.[A-Z]{2,4}'\n",
        "\n",
        "# re.IGNORECASE makes the regex case-insensitive\n",
        "regex = re.compile(pattern, flags=re.IGNORECASE)"
      ],
      "execution_count": 0,
      "outputs": []
    },
    {
      "cell_type": "code",
      "metadata": {
        "ExecuteTime": {
          "end_time": "2019-12-24T17:43:08.365332Z",
          "start_time": "2019-12-24T17:43:08.212747Z"
        },
        "id": "kDMYjNRzOGdc",
        "colab_type": "code",
        "colab": {}
      },
      "source": [
        "regex.findall(text)"
      ],
      "execution_count": 0,
      "outputs": []
    },
    {
      "cell_type": "markdown",
      "metadata": {
        "id": "xYKkVRL3OGdd",
        "colab_type": "text"
      },
      "source": [
        "**match** and **search** are closely related to findall. While findall returns all matches\n",
        "in a string, search returns only the first match. More rigidly, match only matches at\n",
        "the beginning of the string"
      ]
    },
    {
      "cell_type": "markdown",
      "metadata": {
        "id": "bFG-QnMpOGdd",
        "colab_type": "text"
      },
      "source": [
        "**search** returns a special match object for the first email address in the text. For the\n",
        "preceding regex, the match object can only tell us the start and end position of the\n",
        "pattern in the string"
      ]
    },
    {
      "cell_type": "code",
      "metadata": {
        "ExecuteTime": {
          "end_time": "2019-12-24T17:43:08.529015Z",
          "start_time": "2019-12-24T17:43:08.366332Z"
        },
        "id": "ei_efZoGOGdd",
        "colab_type": "code",
        "colab": {}
      },
      "source": [
        "m = regex.search(text)"
      ],
      "execution_count": 0,
      "outputs": []
    },
    {
      "cell_type": "code",
      "metadata": {
        "ExecuteTime": {
          "end_time": "2019-12-24T17:43:08.991732Z",
          "start_time": "2019-12-24T17:43:08.529015Z"
        },
        "id": "q_VQKR5tOGdf",
        "colab_type": "code",
        "colab": {}
      },
      "source": [
        "m"
      ],
      "execution_count": 0,
      "outputs": []
    },
    {
      "cell_type": "code",
      "metadata": {
        "ExecuteTime": {
          "end_time": "2019-12-24T17:43:09.132275Z",
          "start_time": "2019-12-24T17:43:08.994110Z"
        },
        "id": "i6rrF4SeOGdg",
        "colab_type": "code",
        "colab": {}
      },
      "source": [
        "text[m.start(): m.end()]"
      ],
      "execution_count": 0,
      "outputs": []
    },
    {
      "cell_type": "code",
      "metadata": {
        "ExecuteTime": {
          "end_time": "2019-12-24T17:43:09.248262Z",
          "start_time": "2019-12-24T17:43:09.133848Z"
        },
        "id": "w5kHA812OGdk",
        "colab_type": "code",
        "colab": {}
      },
      "source": [
        "print(regex.match(text))"
      ],
      "execution_count": 0,
      "outputs": []
    },
    {
      "cell_type": "code",
      "metadata": {
        "ExecuteTime": {
          "end_time": "2019-12-24T17:43:09.404466Z",
          "start_time": "2019-12-24T17:43:09.253311Z"
        },
        "id": "3rFEolz5OGdl",
        "colab_type": "code",
        "colab": {}
      },
      "source": [
        "print(regex.sub('REDACTED', text))"
      ],
      "execution_count": 0,
      "outputs": []
    },
    {
      "cell_type": "markdown",
      "metadata": {
        "id": "ODZWEyDWOGdn",
        "colab_type": "text"
      },
      "source": [
        " segment each address into its three components: username, domain name, and domain suffix"
      ]
    },
    {
      "cell_type": "code",
      "metadata": {
        "ExecuteTime": {
          "end_time": "2019-12-24T17:43:09.547000Z",
          "start_time": "2019-12-24T17:43:09.407943Z"
        },
        "id": "mZwe6JByOGdn",
        "colab_type": "code",
        "colab": {}
      },
      "source": [
        "pattern = r'([A-Z0-9._%+-]+)@([A-Z0-9.-]+)\\.([A-Z]{2,4})'"
      ],
      "execution_count": 0,
      "outputs": []
    },
    {
      "cell_type": "code",
      "metadata": {
        "ExecuteTime": {
          "end_time": "2019-12-24T17:43:09.688577Z",
          "start_time": "2019-12-24T17:43:09.548001Z"
        },
        "id": "bQ9Y6uvsOGdp",
        "colab_type": "code",
        "colab": {}
      },
      "source": [
        "regex = re.compile(pattern, flags=re.IGNORECASE)"
      ],
      "execution_count": 0,
      "outputs": []
    },
    {
      "cell_type": "code",
      "metadata": {
        "ExecuteTime": {
          "end_time": "2019-12-24T17:43:09.805024Z",
          "start_time": "2019-12-24T17:43:09.692210Z"
        },
        "id": "4Dzqvg_fOGdr",
        "colab_type": "code",
        "colab": {}
      },
      "source": [
        "m = regex.match('wesm@bright.net')\n",
        "m.groups()"
      ],
      "execution_count": 0,
      "outputs": []
    },
    {
      "cell_type": "code",
      "metadata": {
        "ExecuteTime": {
          "end_time": "2019-12-24T17:43:09.942973Z",
          "start_time": "2019-12-24T17:43:09.811263Z"
        },
        "id": "a4c0B8s0OGds",
        "colab_type": "code",
        "colab": {}
      },
      "source": [
        "regex.findall(text)"
      ],
      "execution_count": 0,
      "outputs": []
    },
    {
      "cell_type": "code",
      "metadata": {
        "ExecuteTime": {
          "end_time": "2019-12-24T17:43:10.101665Z",
          "start_time": "2019-12-24T17:43:09.947203Z"
        },
        "id": "hf4Acn1hOGdt",
        "colab_type": "code",
        "colab": {}
      },
      "source": [
        "print(regex.sub(r'Username: \\1, Domain: \\2, Suffix: \\3', text))"
      ],
      "execution_count": 0,
      "outputs": []
    },
    {
      "cell_type": "markdown",
      "metadata": {
        "id": "wC0vpZlcOGdu",
        "colab_type": "text"
      },
      "source": [
        "**Regular expression methods**\n",
        "\n",
        "|Argument| Description|\n",
        "|-|-|\n",
        "|findall| Return all non-overlapping matching patterns in a string as a list|\n",
        "|finditer| Like findall, but returns an iterator|\n",
        "|match |Match pattern at start of string and optionally segment pattern components into groups; if the pattern matches, returns a match object, and otherwise None|\n",
        "|search| Scan string for match to pattern; returning a match object if so; unlike match, the match can be anywhere in the string as opposed to only at the beginning|\n",
        "|split| Break string into pieces at each occurrence of pattern|\n",
        "|sub, subn|Replace all (sub) or first n occurrences (subn) of pattern in string with replacement expression; use symbols \\1, \\2, ... to refer to match group elements in the replacement string|"
      ]
    },
    {
      "cell_type": "markdown",
      "metadata": {
        "id": "3figb7f6OGdv",
        "colab_type": "text"
      },
      "source": [
        "### Vectorized String Functions in pandas"
      ]
    },
    {
      "cell_type": "code",
      "metadata": {
        "ExecuteTime": {
          "end_time": "2019-12-24T17:43:10.245311Z",
          "start_time": "2019-12-24T17:43:10.105666Z"
        },
        "id": "Saoe6qvqOGdv",
        "colab_type": "code",
        "colab": {}
      },
      "source": [
        "data = {'Dave': 'dave@google.com', 'Steve': 'steve@gmail.com',\n",
        "        'Rob': 'rob@gmail.com', 'Wes': np.nan}\n",
        "\n",
        "data = pd.Series(data)\n",
        "data"
      ],
      "execution_count": 0,
      "outputs": []
    },
    {
      "cell_type": "code",
      "metadata": {
        "ExecuteTime": {
          "end_time": "2019-12-24T17:43:10.380107Z",
          "start_time": "2019-12-24T17:43:10.246309Z"
        },
        "id": "ZN1uOx03OGdw",
        "colab_type": "code",
        "colab": {}
      },
      "source": [
        "data.isnull()"
      ],
      "execution_count": 0,
      "outputs": []
    },
    {
      "cell_type": "markdown",
      "metadata": {
        "id": "6X2pvQfXOGdx",
        "colab_type": "text"
      },
      "source": [
        "You can apply string and regular expression methods can be applied (passing a lambda or other function) to each value using data.map, but it will fail on the NA (null) values. To cope with this, Series has array-oriented methods for string operations that skip NA values. These are accessed through Series’s str attribute; for example,"
      ]
    },
    {
      "cell_type": "code",
      "metadata": {
        "ExecuteTime": {
          "end_time": "2019-12-24T17:43:10.532755Z",
          "start_time": "2019-12-24T17:43:10.381108Z"
        },
        "id": "Smm9jBN5OGdx",
        "colab_type": "code",
        "colab": {}
      },
      "source": [
        "data.str.contains('gmail')"
      ],
      "execution_count": 0,
      "outputs": []
    },
    {
      "cell_type": "markdown",
      "metadata": {
        "id": "SBibjtnbOGdy",
        "colab_type": "text"
      },
      "source": [
        "Regular expressions can be used, too, along with any re options like IGNORECASE"
      ]
    },
    {
      "cell_type": "code",
      "metadata": {
        "ExecuteTime": {
          "end_time": "2019-12-24T17:43:10.680071Z",
          "start_time": "2019-12-24T17:43:10.536520Z"
        },
        "id": "CTqvbvpwOGdy",
        "colab_type": "code",
        "colab": {}
      },
      "source": [
        "pattern"
      ],
      "execution_count": 0,
      "outputs": []
    },
    {
      "cell_type": "code",
      "metadata": {
        "ExecuteTime": {
          "end_time": "2019-12-24T17:43:10.819319Z",
          "start_time": "2019-12-24T17:43:10.684214Z"
        },
        "id": "TcNMrMYTOGdz",
        "colab_type": "code",
        "colab": {}
      },
      "source": [
        "data.str.findall(pattern, flags=re.IGNORECASE)"
      ],
      "execution_count": 0,
      "outputs": []
    },
    {
      "cell_type": "code",
      "metadata": {
        "ExecuteTime": {
          "end_time": "2019-12-24T17:43:10.964110Z",
          "start_time": "2019-12-24T17:43:10.824320Z"
        },
        "id": "N8Ni_XQSOGd2",
        "colab_type": "code",
        "colab": {}
      },
      "source": [
        " matches = data.str.match(pattern, flags=re.IGNORECASE)"
      ],
      "execution_count": 0,
      "outputs": []
    },
    {
      "cell_type": "markdown",
      "metadata": {
        "id": "PwVJ-2HQOGd3",
        "colab_type": "text"
      },
      "source": [
        "There are a couple of ways to do vectorized element retrieval. Either use **str.get** or index into the str attribute"
      ]
    },
    {
      "cell_type": "code",
      "metadata": {
        "ExecuteTime": {
          "end_time": "2019-12-24T17:43:11.118070Z",
          "start_time": "2019-12-24T17:43:10.965112Z"
        },
        "id": "9dUB7NFxOGd3",
        "colab_type": "code",
        "colab": {}
      },
      "source": [
        "matches"
      ],
      "execution_count": 0,
      "outputs": []
    }
  ]
}