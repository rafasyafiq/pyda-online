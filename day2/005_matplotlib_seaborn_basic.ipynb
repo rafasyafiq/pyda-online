{
  "nbformat": 4,
  "nbformat_minor": 0,
  "metadata": {
    "kernelspec": {
      "display_name": "Python 3",
      "language": "python",
      "name": "python3"
    },
    "language_info": {
      "codemirror_mode": {
        "name": "ipython",
        "version": 3
      },
      "file_extension": ".py",
      "mimetype": "text/x-python",
      "name": "python",
      "nbconvert_exporter": "python",
      "pygments_lexer": "ipython3",
      "version": "3.7.1"
    },
    "toc": {
      "base_numbering": 1,
      "nav_menu": {},
      "number_sections": true,
      "sideBar": true,
      "skip_h1_title": false,
      "title_cell": "Table of Contents",
      "title_sidebar": "Contents",
      "toc_cell": true,
      "toc_position": {},
      "toc_section_display": true,
      "toc_window_display": false
    },
    "varInspector": {
      "cols": {
        "lenName": 16,
        "lenType": 16,
        "lenVar": 40
      },
      "kernels_config": {
        "python": {
          "delete_cmd_postfix": "",
          "delete_cmd_prefix": "del ",
          "library": "var_list.py",
          "varRefreshCmd": "print(var_dic_list())"
        },
        "r": {
          "delete_cmd_postfix": ") ",
          "delete_cmd_prefix": "rm(",
          "library": "var_list.r",
          "varRefreshCmd": "cat(var_dic_list()) "
        }
      },
      "types_to_exclude": [
        "module",
        "function",
        "builtin_function_or_method",
        "instance",
        "_Feature"
      ],
      "window_display": false
    },
    "colab": {
      "name": "005_matplotlib-seaborn-basic.ipynb",
      "provenance": [],
      "include_colab_link": true
    }
  },
  "cells": [
    {
      "cell_type": "markdown",
      "metadata": {
        "id": "view-in-github",
        "colab_type": "text"
      },
      "source": [
        "<a href=\"https://colab.research.google.com/github/rafasyafiq/pyda-online/blob/master/day2/005_matplotlib_seaborn_basic.ipynb\" target=\"_parent\"><img src=\"https://colab.research.google.com/assets/colab-badge.svg\" alt=\"Open In Colab\"/></a>"
      ]
    },
    {
      "cell_type": "code",
      "metadata": {
        "id": "x5VZgUfyjzPz",
        "colab_type": "code",
        "colab": {}
      },
      "source": [
        "import seaborn as sns\n",
        "import numpy as np\n",
        "import matplotlib.pyplot as plt\n",
        "import pandas as pd"
      ],
      "execution_count": 0,
      "outputs": []
    },
    {
      "cell_type": "markdown",
      "metadata": {
        "id": "QkoekvtLjzP2",
        "colab_type": "text"
      },
      "source": [
        "# Basic Plots"
      ]
    },
    {
      "cell_type": "code",
      "metadata": {
        "id": "nVKDZPXejzP3",
        "colab_type": "code",
        "colab": {}
      },
      "source": [
        "x = np.linspace(0, 10, 50)\n",
        "sines = np.sin(x)\n",
        "\n",
        "plt.plot(x, sines)\n",
        "plt.show()"
      ],
      "execution_count": 0,
      "outputs": []
    },
    {
      "cell_type": "code",
      "metadata": {
        "id": "sPevfg-YjzP6",
        "colab_type": "code",
        "colab": {}
      },
      "source": [
        "plt.plot(x, sines, \"o\")\n",
        "plt.show()\n",
        "# use plt.plot to get color / marker abbreviations"
      ],
      "execution_count": 0,
      "outputs": []
    },
    {
      "cell_type": "code",
      "metadata": {
        "id": "2409lfF-jzP8",
        "colab_type": "code",
        "colab": {}
      },
      "source": [
        "# Rapid multiplot\n",
        "cosines = np.cos(x)\n",
        "plt.plot(x, sines, \"-b\", x, sines, \"ob\", x, cosines, \"-r\", x, cosines, \"or\")\n",
        "plt.xlabel(\"This is X\")\n",
        "plt.ylabel(\"This is Y\")\n",
        "plt.title(\"Sin and Cosine plot\")\n",
        "plt.show()"
      ],
      "execution_count": 0,
      "outputs": []
    },
    {
      "cell_type": "code",
      "metadata": {
        "id": "a2p-bHiNjzP_",
        "colab_type": "code",
        "colab": {}
      },
      "source": [
        "# Step by step\n",
        "plt.plot(x, sines, label='sinus', color='blue',             linestyle='--', linewidth=2)\n",
        "\n",
        "plt.plot(x, cosines, label='cosinus', color='red', linestyle='-', linewidth=2)\n",
        "plt.legend()\n",
        "plt.show()\n"
      ],
      "execution_count": 0,
      "outputs": []
    },
    {
      "cell_type": "markdown",
      "metadata": {
        "id": "-WdY_h4CjzQB",
        "colab_type": "text"
      },
      "source": [
        "# Scatter (2D) plots"
      ]
    },
    {
      "cell_type": "code",
      "metadata": {
        "id": "waoy_d6yjzQB",
        "colab_type": "code",
        "colab": {}
      },
      "source": [
        "url = 'https://raw.githubusercontent.com/rafasyafiq/pyda-online/master/Data/salary_table.csv'\n",
        "\n",
        "salary = pd.read_csv(url)\n",
        "df = salary"
      ],
      "execution_count": 0,
      "outputs": []
    },
    {
      "cell_type": "markdown",
      "metadata": {
        "id": "6GItILxxjzQD",
        "colab_type": "text"
      },
      "source": [
        "## Simple scatter with colors"
      ]
    },
    {
      "cell_type": "code",
      "metadata": {
        "id": "JNUSqAlgjzQE",
        "colab_type": "code",
        "colab": {}
      },
      "source": [
        "colors = colors_edu = {\"Bachelor\": \"r\",'Master':'g', 'Ph.D':'blue'}\n",
        "plt.scatter(df['experience'], df['salary'], c=df['education'].apply(lambda x: colors[x]), s=100)\n",
        "plt.show()"
      ],
      "execution_count": 0,
      "outputs": []
    },
    {
      "cell_type": "markdown",
      "metadata": {
        "id": "tMax3_I6jzQG",
        "colab_type": "text"
      },
      "source": [
        "## Scatter plot with colors and symbols"
      ]
    },
    {
      "cell_type": "code",
      "metadata": {
        "id": "U4V09l18jzQH",
        "colab_type": "code",
        "colab": {}
      },
      "source": [
        "# list(salary.groupby(['education', 'management']))"
      ],
      "execution_count": 0,
      "outputs": []
    },
    {
      "cell_type": "code",
      "metadata": {
        "id": "y4pLb-UzjzQJ",
        "colab_type": "code",
        "colab": {}
      },
      "source": [
        "plt.figure(figsize=(6, 5))\n",
        "\n",
        "symbols_manag = dict(Y=\"*\", N=\".\")\n",
        "colors_edu = {'Bachelor':'r', 'Master':'g', 'Ph.D':'b'}\n",
        "\n",
        "## group by education x management => 6 groups\n",
        "for values, d in salary.groupby(['education', 'management']):\n",
        "    edu, manager = values\n",
        "    # print(values, d)\n",
        "    plt.scatter(d['experience'], d['salary'], marker=symbols_manag[manager], color=colors_edu[edu], s=150,  label=manager+\"/\"+edu)\n",
        "\n",
        "\n",
        "## Set labels\n",
        "plt.xlabel('Experience')\n",
        "plt.ylabel('Salary')\n",
        "plt.legend(loc=4) # lower right\n",
        "plt.show()"
      ],
      "execution_count": 0,
      "outputs": []
    },
    {
      "cell_type": "markdown",
      "metadata": {
        "id": "mZJ2qJILjzQL",
        "colab_type": "text"
      },
      "source": [
        "## Boxplot\n",
        "\n",
        "Box plots are non-parametric: they display variation in samples of a statistical population without making any assumptions of the underlying statistical distribution\n"
      ]
    },
    {
      "cell_type": "code",
      "metadata": {
        "id": "-KJL2_h5jzQM",
        "colab_type": "code",
        "colab": {}
      },
      "source": [
        "sns.boxplot(x='education', y='salary', hue='management', data=salary)\n",
        "plt.show()\n",
        "\n",
        "# https://datascience.stackexchange.com/questions/46117/meaning-of-hue-in-seaborn-barplot"
      ],
      "execution_count": 0,
      "outputs": []
    },
    {
      "cell_type": "code",
      "metadata": {
        "id": "C2sWJSzrjzQO",
        "colab_type": "code",
        "colab": {}
      },
      "source": [
        "sns.boxplot(x=\"management\", y=\"salary\", hue=\"education\", data=salary)\n",
        "sns.stripplot(x=\"management\", y=\"salary\", hue=\"education\", data=salary, jitter=True, dodge=True, linewidth=1)\n",
        "plt.show()"
      ],
      "execution_count": 0,
      "outputs": []
    },
    {
      "cell_type": "markdown",
      "metadata": {
        "id": "YcY2Of8IjzQR",
        "colab_type": "text"
      },
      "source": [
        "## Density Plots"
      ]
    },
    {
      "cell_type": "code",
      "metadata": {
        "id": "v-DNrKqsjzQS",
        "colab_type": "code",
        "colab": {}
      },
      "source": [
        "# list(salary.groupby(['education']))\n",
        "\n",
        "f, axes = plt.subplots(3, 1, figsize=(9, 9), sharex=True)\n",
        "\n",
        "i = 0\n",
        "\n",
        "for edu, d in salary.groupby(['education']):\n",
        "    sns.distplot(d.salary[d.management == 'Y'], color='b', bins=10, label=\"Manager\", ax=axes[i])\n",
        "    sns.distplot(d.salary[d.management == \"N\"], color='r', bins=10, label=\"Employee\", ax=axes[i])\n",
        "    axes[i].set_title(edu)\n",
        "    axes[i].set_ylabel(\"Density\")\n",
        "    i += 1\n",
        "\n",
        "plt.tight_layout(pad=2.0)\n",
        "ax = plt.legend()\n",
        "plt.show()"
      ],
      "execution_count": 0,
      "outputs": []
    },
    {
      "cell_type": "markdown",
      "metadata": {
        "id": "Sb1Cd2pCjzQU",
        "colab_type": "text"
      },
      "source": [
        "## Violin plot(distribution)\n",
        "\n",
        "Combines a boxplot with the kernel density estimation procedure"
      ]
    },
    {
      "cell_type": "code",
      "metadata": {
        "id": "BU6GUfeCjzQU",
        "colab_type": "code",
        "colab": {}
      },
      "source": [
        "ax = sns.violinplot(x=\"salary\", data=salary)\n",
        "# https://www.geeksforgeeks.org/violin-plot-for-data-analysis"
      ],
      "execution_count": 0,
      "outputs": []
    },
    {
      "cell_type": "code",
      "metadata": {
        "id": "xHquCMFqjzQW",
        "colab_type": "code",
        "colab": {}
      },
      "source": [
        "ax = sns.violinplot(x=\"salary\", data=salary, bw=.15)"
      ],
      "execution_count": 0,
      "outputs": []
    },
    {
      "cell_type": "code",
      "metadata": {
        "id": "7U7H6c3cjzQY",
        "colab_type": "code",
        "colab": {}
      },
      "source": [
        "ax = sns.violinplot(x=\"management\", y=\"salary\", hue=\"education\", data=salary)"
      ],
      "execution_count": 0,
      "outputs": []
    },
    {
      "cell_type": "code",
      "metadata": {
        "id": "0ghhx7-vjzQa",
        "colab_type": "code",
        "colab": {}
      },
      "source": [
        "# tips dataset"
      ],
      "execution_count": 0,
      "outputs": []
    },
    {
      "cell_type": "code",
      "metadata": {
        "id": "B9oHNnUXjzQc",
        "colab_type": "code",
        "colab": {}
      },
      "source": [
        "tips = sns.load_dataset(\"tips\")\n",
        "tips.head()"
      ],
      "execution_count": 0,
      "outputs": []
    },
    {
      "cell_type": "code",
      "metadata": {
        "id": "E5CY8CYejzQe",
        "colab_type": "code",
        "colab": {}
      },
      "source": [
        "ax = sns.violinplot(x=tips[\"total_bill\"], bw=.2)"
      ],
      "execution_count": 0,
      "outputs": []
    },
    {
      "cell_type": "code",
      "metadata": {
        "id": "qTAzqQZ9jzQg",
        "colab_type": "code",
        "colab": {}
      },
      "source": [
        "# group by day\n",
        "\n",
        "ax = sns.violinplot(x=\"day\", y=\"total_bill\", data=tips, palette=\"muted\")"
      ],
      "execution_count": 0,
      "outputs": []
    },
    {
      "cell_type": "code",
      "metadata": {
        "id": "2vzHwK6jjzQh",
        "colab_type": "code",
        "colab": {}
      },
      "source": [
        "# Group by day and color by time (lunch vs dinner)\n",
        "\n",
        "ax = sns.violinplot(x=\"day\", y=\"total_bill\", hue=\"time\", data=tips, palette=\"muted\", split=True)\n"
      ],
      "execution_count": 0,
      "outputs": []
    },
    {
      "cell_type": "markdown",
      "metadata": {
        "id": "l4Hw6Ea4jzQj",
        "colab_type": "text"
      },
      "source": [
        "## Pairwise scatter plots"
      ]
    },
    {
      "cell_type": "code",
      "metadata": {
        "id": "WkAVgrT7jzQk",
        "colab_type": "code",
        "colab": {}
      },
      "source": [
        "g = sns.PairGrid(salary, hue='management')\n",
        "g.map_diag(plt.hist)\n",
        "g.map_offdiag(plt.scatter)\n",
        "ax = g.add_legend()"
      ],
      "execution_count": 0,
      "outputs": []
    }
  ]
}