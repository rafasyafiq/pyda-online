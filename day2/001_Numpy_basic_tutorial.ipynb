{
  "nbformat": 4,
  "nbformat_minor": 0,
  "metadata": {
    "kernelspec": {
      "display_name": "Python 3",
      "language": "python",
      "name": "python3"
    },
    "language_info": {
      "codemirror_mode": {
        "name": "ipython",
        "version": 3
      },
      "file_extension": ".py",
      "mimetype": "text/x-python",
      "name": "python",
      "nbconvert_exporter": "python",
      "pygments_lexer": "ipython3",
      "version": "3.7.1"
    },
    "toc": {
      "base_numbering": 1,
      "nav_menu": {},
      "number_sections": true,
      "sideBar": true,
      "skip_h1_title": false,
      "title_cell": "Table of Contents",
      "title_sidebar": "Contents",
      "toc_cell": true,
      "toc_position": {
        "height": "calc(100% - 180px)",
        "left": "10px",
        "top": "150px",
        "width": "165px"
      },
      "toc_section_display": true,
      "toc_window_display": false
    },
    "varInspector": {
      "cols": {
        "lenName": 16,
        "lenType": 16,
        "lenVar": 40
      },
      "kernels_config": {
        "python": {
          "delete_cmd_postfix": "",
          "delete_cmd_prefix": "del ",
          "library": "var_list.py",
          "varRefreshCmd": "print(var_dic_list())"
        },
        "r": {
          "delete_cmd_postfix": ") ",
          "delete_cmd_prefix": "rm(",
          "library": "var_list.r",
          "varRefreshCmd": "cat(var_dic_list()) "
        }
      },
      "types_to_exclude": [
        "module",
        "function",
        "builtin_function_or_method",
        "instance",
        "_Feature"
      ],
      "window_display": false
    },
    "colab": {
      "name": "001_Numpy basic tutorial.ipynb",
      "provenance": [],
      "include_colab_link": true
    }
  },
  "cells": [
    {
      "cell_type": "markdown",
      "metadata": {
        "id": "view-in-github",
        "colab_type": "text"
      },
      "source": [
        "<a href=\"https://colab.research.google.com/github/rafasyafiq/pyda-online/blob/master/day2/001_Numpy_basic_tutorial.ipynb\" target=\"_parent\"><img src=\"https://colab.research.google.com/assets/colab-badge.svg\" alt=\"Open In Colab\"/></a>"
      ]
    },
    {
      "cell_type": "code",
      "metadata": {
        "ExecuteTime": {
          "end_time": "2019-12-21T18:02:02.633521Z",
          "start_time": "2019-12-21T18:02:02.629546Z"
        },
        "id": "knTtpyLGNbI4",
        "colab_type": "code",
        "colab": {}
      },
      "source": [
        "#Installing numpy package\n",
        "import numpy as np"
      ],
      "execution_count": 0,
      "outputs": []
    },
    {
      "cell_type": "markdown",
      "metadata": {
        "id": "WU2qit1PNbI8",
        "colab_type": "text"
      },
      "source": [
        "## BASICS"
      ]
    },
    {
      "cell_type": "code",
      "metadata": {
        "ExecuteTime": {
          "end_time": "2019-12-21T18:02:03.170854Z",
          "start_time": "2019-12-21T18:02:02.637485Z"
        },
        "id": "kE1d8wElNbI8",
        "colab_type": "code",
        "colab": {}
      },
      "source": [
        "#Creating first array\n",
        "a = np.array([1, 2, 3])\n",
        "\n",
        "b = np.array([\n",
        "    [1., 1.],\n",
        "    [1., 1.]\n",
        "])\n",
        "\n",
        "c = np.array([1,2, 3], dtype=\"int16\")"
      ],
      "execution_count": 0,
      "outputs": []
    },
    {
      "cell_type": "code",
      "metadata": {
        "ExecuteTime": {
          "end_time": "2019-12-21T18:02:03.410214Z",
          "start_time": "2019-12-21T18:02:03.172848Z"
        },
        "id": "fi30l2BNNbI-",
        "colab_type": "code",
        "colab": {}
      },
      "source": [
        "#See the results\n",
        "print(a)\n",
        "print(b)\n",
        "print(c)\n",
        "print('-------')\n",
        "print(a.ndim)\n",
        "print(b.ndim)\n",
        "print(c.ndim)\n",
        "print('-------')\n",
        "print(a.shape)\n",
        "print(b.shape)\n",
        "print(c.shape)"
      ],
      "execution_count": 0,
      "outputs": []
    },
    {
      "cell_type": "markdown",
      "metadata": {
        "id": "pYFsGwY6NbJB",
        "colab_type": "text"
      },
      "source": [
        "* **Numpy Benefits**\n",
        "\n",
        "    1) Fixed Type\n",
        "    \n",
        "    2) Contigious memory\n"
      ]
    },
    {
      "cell_type": "code",
      "metadata": {
        "ExecuteTime": {
          "end_time": "2019-12-21T18:02:03.550195Z",
          "start_time": "2019-12-21T18:02:03.411211Z"
        },
        "id": "pDOduL4yNbJB",
        "colab_type": "code",
        "colab": {}
      },
      "source": [
        "# get data type\n",
        "print(a.dtype)\n",
        "print(b.dtype)\n",
        "print(c.dtype)"
      ],
      "execution_count": 0,
      "outputs": []
    },
    {
      "cell_type": "code",
      "metadata": {
        "ExecuteTime": {
          "end_time": "2019-12-21T18:02:03.690975Z",
          "start_time": "2019-12-21T18:02:03.552190Z"
        },
        "id": "I1h_kv2cNbJD",
        "colab_type": "code",
        "colab": {}
      },
      "source": [
        "# get size - size of each item (B)\n",
        "print(a.itemsize)\n",
        "print(b.itemsize)\n",
        "print(c.itemsize)"
      ],
      "execution_count": 0,
      "outputs": []
    },
    {
      "cell_type": "code",
      "metadata": {
        "ExecuteTime": {
          "end_time": "2019-12-21T18:02:03.988276Z",
          "start_time": "2019-12-21T18:02:03.819731Z"
        },
        "id": "oyEjvR8sNbJF",
        "colab_type": "code",
        "colab": {}
      },
      "source": [
        "#Create array and convert to list\n",
        "arr = [range(1, 5), range(5, 9)] # list of lists\n",
        "e = np.array(arr) # 2d array\n",
        "print(e)\n",
        "print('------')\n",
        "x = e.tolist() # convert array back to list\n",
        "print(type(x))\n",
        "print (x)"
      ],
      "execution_count": 0,
      "outputs": []
    },
    {
      "cell_type": "markdown",
      "metadata": {
        "ExecuteTime": {
          "end_time": "2019-12-20T20:21:51.591844Z",
          "start_time": "2019-12-20T20:21:51.586531Z"
        },
        "id": "Ec6_pqReNbJI",
        "colab_type": "text"
      },
      "source": [
        "## Adding and removing elements from numpy arrays"
      ]
    },
    {
      "cell_type": "code",
      "metadata": {
        "ExecuteTime": {
          "end_time": "2019-12-21T18:02:04.136119Z",
          "start_time": "2019-12-21T18:02:03.989219Z"
        },
        "id": "2LD--S1dNbJI",
        "colab_type": "code",
        "colab": {}
      },
      "source": [
        "#Creating and array of 24\n",
        "a = np.array(np.arange(24))\n",
        "a"
      ],
      "execution_count": 0,
      "outputs": []
    },
    {
      "cell_type": "code",
      "metadata": {
        "ExecuteTime": {
          "end_time": "2019-12-21T18:02:04.277857Z",
          "start_time": "2019-12-21T18:02:04.138058Z"
        },
        "id": "0Vphl6JZNbJL",
        "colab_type": "code",
        "colab": {}
      },
      "source": [
        "#Adding new elemets\n",
        "b = np.append(a, [5, 6, 7, 8])\n",
        "b"
      ],
      "execution_count": 0,
      "outputs": []
    },
    {
      "cell_type": "code",
      "metadata": {
        "ExecuteTime": {
          "end_time": "2019-12-21T18:02:04.470884Z",
          "start_time": "2019-12-21T18:02:04.280799Z"
        },
        "id": "XkQHAGpgNbJN",
        "colab_type": "code",
        "colab": {}
      },
      "source": [
        "#get the array shape\n",
        "b.shape"
      ],
      "execution_count": 0,
      "outputs": []
    },
    {
      "cell_type": "code",
      "metadata": {
        "ExecuteTime": {
          "end_time": "2019-12-21T18:02:04.742265Z",
          "start_time": "2019-12-21T18:02:04.471877Z"
        },
        "id": "7pPT2ysLNbJP",
        "colab_type": "code",
        "colab": {}
      },
      "source": [
        "#reshape the array\n",
        "b.reshape((7, 4))"
      ],
      "execution_count": 0,
      "outputs": []
    },
    {
      "cell_type": "code",
      "metadata": {
        "ExecuteTime": {
          "end_time": "2019-12-21T18:02:04.877858Z",
          "start_time": "2019-12-21T18:02:04.743261Z"
        },
        "id": "ZvEBtvlUNbJS",
        "colab_type": "code",
        "colab": {}
      },
      "source": [
        "#reshape the a array\n",
        "a = a.reshape((2, 3, 4))\n",
        "a"
      ],
      "execution_count": 0,
      "outputs": []
    },
    {
      "cell_type": "code",
      "metadata": {
        "ExecuteTime": {
          "end_time": "2019-12-21T18:02:05.058452Z",
          "start_time": "2019-12-21T18:02:04.878856Z"
        },
        "id": "fKTl53wvNbJV",
        "colab_type": "code",
        "colab": {}
      },
      "source": [
        "c = np.array(np.arange(24)).reshape((2, 3, 4)) * 10 + 3\n",
        "c"
      ],
      "execution_count": 0,
      "outputs": []
    },
    {
      "cell_type": "code",
      "metadata": {
        "ExecuteTime": {
          "end_time": "2019-12-21T18:02:05.202247Z",
          "start_time": "2019-12-21T18:02:05.059412Z"
        },
        "id": "6XbCGYWWNbJX",
        "colab_type": "code",
        "colab": {}
      },
      "source": [
        "#merging the c array to the a array in along in axis 0\n",
        "np.append(a, c, axis=0)"
      ],
      "execution_count": 0,
      "outputs": []
    },
    {
      "cell_type": "code",
      "metadata": {
        "ExecuteTime": {
          "end_time": "2019-12-21T18:02:05.375704Z",
          "start_time": "2019-12-21T18:02:05.203209Z"
        },
        "id": "M02lKxbaNbJb",
        "colab_type": "code",
        "colab": {}
      },
      "source": [
        "#get the shape\n",
        "np.append(a, c, axis=0).shape"
      ],
      "execution_count": 0,
      "outputs": []
    },
    {
      "cell_type": "code",
      "metadata": {
        "ExecuteTime": {
          "end_time": "2019-12-21T18:02:05.566037Z",
          "start_time": "2019-12-21T18:02:05.376720Z"
        },
        "id": "SVzBjUTMNbJd",
        "colab_type": "code",
        "colab": {}
      },
      "source": [
        "##merging the c array to the a array along in axis 1\n",
        "np.append(a, c, axis=1)"
      ],
      "execution_count": 0,
      "outputs": []
    },
    {
      "cell_type": "code",
      "metadata": {
        "ExecuteTime": {
          "end_time": "2019-12-21T18:02:05.703614Z",
          "start_time": "2019-12-21T18:02:05.567034Z"
        },
        "id": "FWI2KMRyNbJf",
        "colab_type": "code",
        "colab": {}
      },
      "source": [
        "#get the shape\n",
        "np.append(a, c, axis=1).shape"
      ],
      "execution_count": 0,
      "outputs": []
    },
    {
      "cell_type": "code",
      "metadata": {
        "ExecuteTime": {
          "end_time": "2019-12-21T18:02:05.842509Z",
          "start_time": "2019-12-21T18:02:05.704609Z"
        },
        "id": "ycTYjKRxNbJg",
        "colab_type": "code",
        "colab": {}
      },
      "source": [
        "#merging the c arrat to the a array along in axis 2\n",
        "np.append(a, c, axis=2)"
      ],
      "execution_count": 0,
      "outputs": []
    },
    {
      "cell_type": "code",
      "metadata": {
        "ExecuteTime": {
          "end_time": "2019-12-21T18:02:05.993644Z",
          "start_time": "2019-12-21T18:02:05.843506Z"
        },
        "id": "dMzUK1e4NbJj",
        "colab_type": "code",
        "colab": {}
      },
      "source": [
        "#get the shape\n",
        "np.append(a, c, axis=2).shape"
      ],
      "execution_count": 0,
      "outputs": []
    },
    {
      "cell_type": "code",
      "metadata": {
        "ExecuteTime": {
          "end_time": "2019-12-21T18:02:06.133108Z",
          "start_time": "2019-12-21T18:02:05.995641Z"
        },
        "id": "lUkE06HmNbJk",
        "colab_type": "code",
        "colab": {}
      },
      "source": [
        "#insert new array along in axis 0\n",
        "after_insert_array = np.insert(c, 1, 444, axis=0)\n",
        "after_insert_array"
      ],
      "execution_count": 0,
      "outputs": []
    },
    {
      "cell_type": "code",
      "metadata": {
        "ExecuteTime": {
          "end_time": "2019-12-21T18:02:06.278042Z",
          "start_time": "2019-12-21T18:02:06.134090Z"
        },
        "id": "1ca-8G38NbJm",
        "colab_type": "code",
        "colab": {}
      },
      "source": [
        "#insert new array along in axis 1\n",
        "after_insert_array = np.insert(c, 1, 444, axis=1)\n",
        "after_insert_array"
      ],
      "execution_count": 0,
      "outputs": []
    },
    {
      "cell_type": "code",
      "metadata": {
        "ExecuteTime": {
          "end_time": "2019-12-21T18:02:06.453763Z",
          "start_time": "2019-12-21T18:02:06.281050Z"
        },
        "id": "UUlN9LaRNbJo",
        "colab_type": "code",
        "colab": {}
      },
      "source": [
        "#insert new array along in axis 2\n",
        "after_insert_array = np.insert(c, 1, 444, axis=2)\n",
        "after_insert_array"
      ],
      "execution_count": 0,
      "outputs": []
    },
    {
      "cell_type": "code",
      "metadata": {
        "ExecuteTime": {
          "end_time": "2019-12-21T18:02:06.638027Z",
          "start_time": "2019-12-21T18:02:06.454724Z"
        },
        "id": "7w_XXrzeNbJq",
        "colab_type": "code",
        "colab": {}
      },
      "source": [
        "#Create empty array with c shape and copy c entries in the new array\n",
        "d = np.empty(c.shape)\n",
        "np.copyto(d, c)\n",
        "d"
      ],
      "execution_count": 0,
      "outputs": []
    },
    {
      "cell_type": "code",
      "metadata": {
        "ExecuteTime": {
          "end_time": "2019-12-21T18:02:06.811997Z",
          "start_time": "2019-12-21T18:02:06.642017Z"
        },
        "id": "V34XTrZMNbJs",
        "colab_type": "code",
        "colab": {}
      },
      "source": [
        "#delete data along axis 0\n",
        "np.delete(d, 1, axis=0)"
      ],
      "execution_count": 0,
      "outputs": []
    },
    {
      "cell_type": "code",
      "metadata": {
        "ExecuteTime": {
          "end_time": "2019-12-21T18:02:06.949593Z",
          "start_time": "2019-12-21T18:02:06.817940Z"
        },
        "id": "j76ZmB_pNbJt",
        "colab_type": "code",
        "colab": {}
      },
      "source": [
        "#delete data along axis 1\n",
        "np.delete(d, 1, axis=1)"
      ],
      "execution_count": 0,
      "outputs": []
    },
    {
      "cell_type": "code",
      "metadata": {
        "ExecuteTime": {
          "end_time": "2019-12-21T18:02:07.106290Z",
          "start_time": "2019-12-21T18:02:06.950629Z"
        },
        "id": "ScIV03IfNbJv",
        "colab_type": "code",
        "colab": {}
      },
      "source": [
        "#delete data along axis 2\n",
        "np.delete(d, 1, axis=2)"
      ],
      "execution_count": 0,
      "outputs": []
    },
    {
      "cell_type": "markdown",
      "metadata": {
        "id": "d3TtEV4oNbJy",
        "colab_type": "text"
      },
      "source": [
        "## Accessing/Changing specific elements, rows, columns, etc"
      ]
    },
    {
      "cell_type": "code",
      "metadata": {
        "ExecuteTime": {
          "end_time": "2019-12-21T18:02:07.260785Z",
          "start_time": "2019-12-21T18:02:07.111222Z"
        },
        "id": "6-2p_iOXNbJy",
        "colab_type": "code",
        "colab": {}
      },
      "source": [
        "#Create new array\n",
        "a = np.array([[1,2, 3, 4, 5, 6, 7], [8, 9, 10, 11, 12, 13, 14]])\n",
        "print(a)\n",
        "print(a.shape)"
      ],
      "execution_count": 0,
      "outputs": []
    },
    {
      "cell_type": "code",
      "metadata": {
        "ExecuteTime": {
          "end_time": "2019-12-21T18:02:07.385959Z",
          "start_time": "2019-12-21T18:02:07.264201Z"
        },
        "id": "XW0XW1UQNbJ0",
        "colab_type": "code",
        "colab": {}
      },
      "source": [
        "# get a specific element [r, c]\n",
        "print(a[1, 5])\n",
        "print(a[1][5])\n",
        "print(a[1][-2])"
      ],
      "execution_count": 0,
      "outputs": []
    },
    {
      "cell_type": "code",
      "metadata": {
        "ExecuteTime": {
          "end_time": "2019-12-21T18:02:07.516199Z",
          "start_time": "2019-12-21T18:02:07.386955Z"
        },
        "id": "e-YA5N4PNbJ2",
        "colab_type": "code",
        "colab": {}
      },
      "source": [
        "#  get a specific row\n",
        "a[0, :]"
      ],
      "execution_count": 0,
      "outputs": []
    },
    {
      "cell_type": "code",
      "metadata": {
        "ExecuteTime": {
          "end_time": "2019-12-21T18:02:07.657736Z",
          "start_time": "2019-12-21T18:02:07.517200Z"
        },
        "id": "VQQM4K7gNbJ3",
        "colab_type": "code",
        "colab": {}
      },
      "source": [
        "# get a specific col\n",
        "a[:, 2]"
      ],
      "execution_count": 0,
      "outputs": []
    },
    {
      "cell_type": "code",
      "metadata": {
        "ExecuteTime": {
          "end_time": "2019-12-21T18:02:07.793423Z",
          "start_time": "2019-12-21T18:02:07.660726Z"
        },
        "id": "LQiZbXS6NbJ5",
        "colab_type": "code",
        "colab": {}
      },
      "source": [
        "# getting fancy [startindex: endindex: stepsize]\n",
        "print(a[0, 1:6:2])"
      ],
      "execution_count": 0,
      "outputs": []
    },
    {
      "cell_type": "code",
      "metadata": {
        "ExecuteTime": {
          "end_time": "2019-12-21T18:02:07.950546Z",
          "start_time": "2019-12-21T18:02:07.795403Z"
        },
        "id": "yjSCzACkNbJ8",
        "colab_type": "code",
        "colab": {}
      },
      "source": [
        "# changing element(s)\n",
        "a [1, 5] = 20\n",
        "print(a)\n",
        "print('-----')\n",
        "a[:, 2] = 5\n",
        "print(a)\n",
        "print('-----')\n",
        "a[:, 2] = [1, 2]\n",
        "print(a)"
      ],
      "execution_count": 0,
      "outputs": []
    },
    {
      "cell_type": "code",
      "metadata": {
        "ExecuteTime": {
          "end_time": "2019-12-21T18:02:08.126714Z",
          "start_time": "2019-12-21T18:02:07.951544Z"
        },
        "id": "cCokMiqPNbJ-",
        "colab_type": "code",
        "colab": {}
      },
      "source": [
        "# Creating new 3-d array\n",
        "a = np.array([[[1, 2], [3, 4]], [[5, 6], [7, 8]]])\n",
        "print(a)\n",
        "print('------')\n",
        "print(a.shape)\n",
        "\n",
        "# think of number of rows as original number of rows\n",
        "# inside each box columns become rows and depth becomes columns\n",
        "# think of it as [1, 2] at at position a[0, 0]\n",
        "\n",
        "# NumPy’s order for printing n-dimensional arrays is that the last axis\n",
        "# is looped over the fastest, while the first is the slowest"
      ],
      "execution_count": 0,
      "outputs": []
    },
    {
      "cell_type": "code",
      "metadata": {
        "ExecuteTime": {
          "end_time": "2019-12-21T18:02:08.310885Z",
          "start_time": "2019-12-21T18:02:08.127711Z"
        },
        "id": "IFt8LSblNbKA",
        "colab_type": "code",
        "colab": {}
      },
      "source": [
        "#get element\n",
        "print(a[0, 0])\n",
        "print(a[0, 1])\n",
        "print(a[1, 0])\n",
        "print(a[1, 1])\n",
        "\n",
        "# get specific element\n",
        "print(a[0,1,1])"
      ],
      "execution_count": 0,
      "outputs": []
    },
    {
      "cell_type": "code",
      "metadata": {
        "ExecuteTime": {
          "end_time": "2019-12-21T18:02:08.492602Z",
          "start_time": "2019-12-21T18:02:08.313845Z"
        },
        "id": "4JgwcGESNbKB",
        "colab_type": "code",
        "colab": {}
      },
      "source": [
        "# replacing the data\n",
        "\n",
        "a[:, 1, :] = [[10, 11], [12, 13]]\n",
        "print(a)\n",
        "print('-----')\n",
        "\n",
        "a[0, 1, :] = [99, 98]\n",
        "print(a)"
      ],
      "execution_count": 0,
      "outputs": []
    },
    {
      "cell_type": "markdown",
      "metadata": {
        "ExecuteTime": {
          "end_time": "2019-12-20T14:39:58.976557Z",
          "start_time": "2019-12-20T14:39:58.971570Z"
        },
        "id": "GzfhY9QvNbKD",
        "colab_type": "text"
      },
      "source": [
        "## Initializing different type of arrays"
      ]
    },
    {
      "cell_type": "code",
      "metadata": {
        "ExecuteTime": {
          "end_time": "2019-12-21T18:02:08.637216Z",
          "start_time": "2019-12-21T18:02:08.496631Z"
        },
        "id": "ENB6QSavNbKE",
        "colab_type": "code",
        "colab": {}
      },
      "source": [
        "# all 0's matrix\n",
        "np.zeros(shape=(2, 3))"
      ],
      "execution_count": 0,
      "outputs": []
    },
    {
      "cell_type": "code",
      "metadata": {
        "ExecuteTime": {
          "end_time": "2019-12-21T18:02:08.771011Z",
          "start_time": "2019-12-21T18:02:08.639209Z"
        },
        "id": "BE13O45NNbKH",
        "colab_type": "code",
        "colab": {}
      },
      "source": [
        "# all 1's matrix\n",
        "np.ones((4, 2, 2), dtype='int32')"
      ],
      "execution_count": 0,
      "outputs": []
    },
    {
      "cell_type": "code",
      "metadata": {
        "ExecuteTime": {
          "end_time": "2019-12-21T18:02:08.898448Z",
          "start_time": "2019-12-21T18:02:08.772009Z"
        },
        "id": "ZEB4bja1NbKK",
        "colab_type": "code",
        "colab": {}
      },
      "source": [
        "# any other number\n",
        "np.full((2, 2), 99)"
      ],
      "execution_count": 0,
      "outputs": []
    },
    {
      "cell_type": "code",
      "metadata": {
        "ExecuteTime": {
          "end_time": "2019-12-21T18:02:09.038073Z",
          "start_time": "2019-12-21T18:02:08.899445Z"
        },
        "id": "iZVHkXZiNbKL",
        "colab_type": "code",
        "colab": {}
      },
      "source": [
        "# any other number (full_like)\n",
        "a = np.array([[1,2, 3, 4, 5, 6, 7], [8, 9, 10, 11, 12, 13, 14]])\n",
        "np.full_like(a, 8)"
      ],
      "execution_count": 0,
      "outputs": []
    },
    {
      "cell_type": "code",
      "metadata": {
        "ExecuteTime": {
          "end_time": "2019-12-21T18:02:09.181410Z",
          "start_time": "2019-12-21T18:02:09.039071Z"
        },
        "id": "FizgMnf3NbKO",
        "colab_type": "code",
        "colab": {}
      },
      "source": [
        "# random decimal numbers\n",
        "np.random.rand(4, 2, 3)"
      ],
      "execution_count": 0,
      "outputs": []
    },
    {
      "cell_type": "code",
      "metadata": {
        "ExecuteTime": {
          "end_time": "2019-12-21T18:02:09.327540Z",
          "start_time": "2019-12-21T18:02:09.184402Z"
        },
        "id": "9yFxM1nlNbKQ",
        "colab_type": "code",
        "colab": {}
      },
      "source": [
        "# random decimal numbers with the shape of a array\n",
        "np.random.random_sample(a.shape)"
      ],
      "execution_count": 0,
      "outputs": []
    },
    {
      "cell_type": "code",
      "metadata": {
        "ExecuteTime": {
          "end_time": "2019-12-21T18:02:09.466462Z",
          "start_time": "2019-12-21T18:02:09.328538Z"
        },
        "id": "sUKFLyFuNbKU",
        "colab_type": "code",
        "colab": {}
      },
      "source": [
        "# random integer values with highest number of 7\n",
        "print(np.random.randint(7))\n",
        "print(np.random.randint(7, size=(3, 3)))"
      ],
      "execution_count": 0,
      "outputs": []
    },
    {
      "cell_type": "code",
      "metadata": {
        "ExecuteTime": {
          "end_time": "2019-12-21T18:02:09.644181Z",
          "start_time": "2019-12-21T18:02:09.467423Z"
        },
        "id": "fOVsie5kNbKW",
        "colab_type": "code",
        "colab": {}
      },
      "source": [
        "# identity matrix\n",
        "np.identity(3)"
      ],
      "execution_count": 0,
      "outputs": []
    },
    {
      "cell_type": "code",
      "metadata": {
        "ExecuteTime": {
          "end_time": "2019-12-21T18:02:10.010401Z",
          "start_time": "2019-12-21T18:02:09.799384Z"
        },
        "id": "d43bOJLjNbKZ",
        "colab_type": "code",
        "colab": {}
      },
      "source": [
        "# repeat an array along with axis 0 and axis 1\n",
        "\n",
        "arr = np.array([[1, 2, 3]])\n",
        "r1 = np.repeat(arr, 3, axis=0)\n",
        "print(r1)\n",
        "print('-----')\n",
        "r2 = np.repeat(arr, 3, axis=1)\n",
        "print(r2)"
      ],
      "execution_count": 0,
      "outputs": []
    },
    {
      "cell_type": "code",
      "metadata": {
        "ExecuteTime": {
          "end_time": "2019-12-21T18:02:10.194935Z",
          "start_time": "2019-12-21T18:02:10.011437Z"
        },
        "id": "bCTLqyJnNbKb",
        "colab_type": "code",
        "colab": {}
      },
      "source": [
        "#  creating a customized matrix\n",
        "output = np.ones((5, 5))\n",
        "print(output)\n",
        "print('-----')\n",
        "\n",
        "z = np.zeros((3, 3))\n",
        "z[1, 1] = 9\n",
        "print(z)\n",
        "print('-----')\n",
        "\n",
        "output[1:4, 1:4] = z\n",
        "print(output)"
      ],
      "execution_count": 0,
      "outputs": []
    },
    {
      "cell_type": "code",
      "metadata": {
        "ExecuteTime": {
          "end_time": "2019-12-21T18:02:10.366387Z",
          "start_time": "2019-12-21T18:02:10.196882Z"
        },
        "id": "iI_QEd5nNbKe",
        "colab_type": "code",
        "colab": {}
      },
      "source": [
        "# careful while copying\n",
        "a = np.array([1, 2, 3])\n",
        "b = a # just points\n",
        "b [0]= 100\n",
        "print(a)\n",
        "print(b)\n",
        "print('-----')\n",
        "\n",
        "#look at the different result\n",
        "a = np.array([1, 2, 3])\n",
        "b = a.copy()\n",
        "b [0]= 100\n",
        "print(a)\n",
        "print(b)\n"
      ],
      "execution_count": 0,
      "outputs": []
    },
    {
      "cell_type": "code",
      "metadata": {
        "ExecuteTime": {
          "end_time": "2019-12-21T18:02:10.502909Z",
          "start_time": "2019-12-21T18:02:10.367384Z"
        },
        "id": "iDCp_Dz4NbKh",
        "colab_type": "code",
        "colab": {}
      },
      "source": [
        "# adding an axis\n",
        "a = np.array([0, 1])\n",
        "a_col = a[:, np.newaxis]\n",
        "print(a)\n",
        "print('-----')\n",
        "print(a_col)"
      ],
      "execution_count": 0,
      "outputs": []
    },
    {
      "cell_type": "code",
      "metadata": {
        "ExecuteTime": {
          "end_time": "2019-12-21T18:02:10.799298Z",
          "start_time": "2019-12-21T18:02:10.645620Z"
        },
        "id": "ul8CREdFNbKk",
        "colab_type": "code",
        "colab": {}
      },
      "source": [
        "# flatten array\n",
        "# always returns a flat copy of the original array\n",
        "arr = np.arange(10, dtype=float).reshape((2, 5))\n",
        "arr_flat = arr.flatten()\n",
        "arr_flat[0] = 33\n",
        "\n",
        "print(arr)\n",
        "print('-----')\n",
        "print(arr_flat)"
      ],
      "execution_count": 0,
      "outputs": []
    },
    {
      "cell_type": "code",
      "metadata": {
        "ExecuteTime": {
          "end_time": "2019-12-21T18:02:10.938491Z",
          "start_time": "2019-12-21T18:02:10.800333Z"
        },
        "id": "PAdH9gGGNbKl",
        "colab_type": "code",
        "colab": {}
      },
      "source": [
        "# Ravel: returns a view of the original array whenever possible.\n",
        "arr_flt = arr.ravel()\n",
        "arr_flt[0] = 33\n",
        "\n",
        "print(arr)\n",
        "print('-----')\n",
        "print(arr_flt)"
      ],
      "execution_count": 0,
      "outputs": []
    },
    {
      "cell_type": "markdown",
      "metadata": {
        "ExecuteTime": {
          "end_time": "2019-12-20T14:54:07.778468Z",
          "start_time": "2019-12-20T14:54:07.773481Z"
        },
        "id": "ZAofyz7YNbKn",
        "colab_type": "text"
      },
      "source": [
        "## Mathematics"
      ]
    },
    {
      "cell_type": "code",
      "metadata": {
        "ExecuteTime": {
          "end_time": "2019-12-21T18:02:11.215533Z",
          "start_time": "2019-12-21T18:02:11.079796Z"
        },
        "id": "e4hNkC5LNbKn",
        "colab_type": "code",
        "colab": {}
      },
      "source": [
        "#Create new array\n",
        "a = np.array([1, 2, 3, 4])\n",
        "print(a)"
      ],
      "execution_count": 0,
      "outputs": []
    },
    {
      "cell_type": "code",
      "metadata": {
        "ExecuteTime": {
          "end_time": "2019-12-21T18:02:11.355929Z",
          "start_time": "2019-12-21T18:02:11.216530Z"
        },
        "id": "ucJmvLm-NbKo",
        "colab_type": "code",
        "colab": {}
      },
      "source": [
        "#add 2 to every entry in array a\n",
        "a + 2"
      ],
      "execution_count": 0,
      "outputs": []
    },
    {
      "cell_type": "code",
      "metadata": {
        "ExecuteTime": {
          "end_time": "2019-12-21T18:02:11.512502Z",
          "start_time": "2019-12-21T18:02:11.356927Z"
        },
        "id": "OmeV4ZIiNbKq",
        "colab_type": "code",
        "colab": {}
      },
      "source": [
        "#subtract 2 to every entries in array a\n",
        "a - 2"
      ],
      "execution_count": 0,
      "outputs": []
    },
    {
      "cell_type": "code",
      "metadata": {
        "ExecuteTime": {
          "end_time": "2019-12-21T18:02:11.649284Z",
          "start_time": "2019-12-21T18:02:11.513499Z"
        },
        "id": "F57Dcg-XNbKt",
        "colab_type": "code",
        "colab": {}
      },
      "source": [
        "#divide every entry in array a by 2\n",
        "a / 2"
      ],
      "execution_count": 0,
      "outputs": []
    },
    {
      "cell_type": "code",
      "metadata": {
        "ExecuteTime": {
          "end_time": "2019-12-21T18:02:11.895858Z",
          "start_time": "2019-12-21T18:02:11.650242Z"
        },
        "id": "9byGMtD0NbKx",
        "colab_type": "code",
        "colab": {}
      },
      "source": [
        "#Create new array\n",
        "b = np.array([1, 0, 1, 0])"
      ],
      "execution_count": 0,
      "outputs": []
    },
    {
      "cell_type": "code",
      "metadata": {
        "ExecuteTime": {
          "end_time": "2019-12-21T18:02:12.093494Z",
          "start_time": "2019-12-21T18:02:11.897856Z"
        },
        "id": "nLUOo13WNbKz",
        "colab_type": "code",
        "colab": {}
      },
      "source": [
        "# add every entry whithin array a with every entry within array b\n",
        "a + b\n"
      ],
      "execution_count": 0,
      "outputs": []
    },
    {
      "cell_type": "code",
      "metadata": {
        "ExecuteTime": {
          "end_time": "2019-12-21T18:02:12.234376Z",
          "start_time": "2019-12-21T18:02:12.094418Z"
        },
        "id": "vnluchh0NbK2",
        "colab_type": "code",
        "colab": {}
      },
      "source": [
        "# sin value of every entry in arrat a\n",
        "np.sin(a) "
      ],
      "execution_count": 0,
      "outputs": []
    },
    {
      "cell_type": "markdown",
      "metadata": {
        "ExecuteTime": {
          "end_time": "2019-12-20T14:56:32.438765Z",
          "start_time": "2019-12-20T14:56:32.434790Z"
        },
        "id": "FVYrXOFENbK4",
        "colab_type": "text"
      },
      "source": [
        "### linear algebra\n"
      ]
    },
    {
      "cell_type": "code",
      "metadata": {
        "ExecuteTime": {
          "end_time": "2019-12-21T18:02:12.373699Z",
          "start_time": "2019-12-21T18:02:12.235338Z"
        },
        "id": "Q66B8BZ7NbK4",
        "colab_type": "code",
        "colab": {}
      },
      "source": [
        "#create a new matrix\n",
        "my_first_matrix = np.matrix([[3, 1, 4], [1, 5, 9], [2, 6, 5]])\n",
        "my_first_matrix"
      ],
      "execution_count": 0,
      "outputs": []
    },
    {
      "cell_type": "code",
      "metadata": {
        "ExecuteTime": {
          "end_time": "2019-12-21T18:02:12.511117Z",
          "start_time": "2019-12-21T18:02:12.374698Z"
        },
        "id": "2YdjagmMNbK6",
        "colab_type": "code",
        "colab": {}
      },
      "source": [
        "# transpose matrix\n",
        "my_first_matrix.T"
      ],
      "execution_count": 0,
      "outputs": []
    },
    {
      "cell_type": "code",
      "metadata": {
        "ExecuteTime": {
          "end_time": "2019-12-21T18:02:12.640648Z",
          "start_time": "2019-12-21T18:02:12.512076Z"
        },
        "id": "9xjURM5cNbK7",
        "colab_type": "code",
        "colab": {}
      },
      "source": [
        "# inverse of matrix\n",
        "my_first_matrix.I "
      ],
      "execution_count": 0,
      "outputs": []
    },
    {
      "cell_type": "code",
      "metadata": {
        "ExecuteTime": {
          "end_time": "2019-12-21T18:02:12.767273Z",
          "start_time": "2019-12-21T18:02:12.641610Z"
        },
        "id": "-sp8GQRuNbK9",
        "colab_type": "code",
        "colab": {}
      },
      "source": [
        "a = np.ones((2, 3))\n",
        "print(a)\n",
        "\n",
        "b = np.full((3, 2), 2)\n",
        "print ('-----')\n",
        "print(b)"
      ],
      "execution_count": 0,
      "outputs": []
    },
    {
      "cell_type": "code",
      "metadata": {
        "ExecuteTime": {
          "end_time": "2019-12-21T18:02:12.907349Z",
          "start_time": "2019-12-21T18:02:12.768270Z"
        },
        "id": "YFYYFXiKNbK_",
        "colab_type": "code",
        "colab": {}
      },
      "source": [
        "# Compute the determinant of an array\n",
        "c = np.identity(4) # or np.eye(5)\n",
        "print(c)\n",
        "print(np.linalg.det(c))"
      ],
      "execution_count": 0,
      "outputs": []
    },
    {
      "cell_type": "code",
      "metadata": {
        "ExecuteTime": {
          "end_time": "2019-12-21T18:02:13.055201Z",
          "start_time": "2019-12-21T18:02:12.909378Z"
        },
        "id": "PbdtzRS3NbLB",
        "colab_type": "code",
        "colab": {}
      },
      "source": [
        "# Solve simultaneous linear equations\n",
        "right_hand_side = np.matrix([[11],\n",
        "                             [22],\n",
        "                             [33]])\n",
        "\n",
        "my_first_inverse = my_first_matrix.I\n",
        "print(right_hand_side)\n",
        "print(my_first_inverse)"
      ],
      "execution_count": 0,
      "outputs": []
    },
    {
      "cell_type": "code",
      "metadata": {
        "ExecuteTime": {
          "end_time": "2019-12-21T18:02:13.195228Z",
          "start_time": "2019-12-21T18:02:13.056902Z"
        },
        "id": "ZTysieXsNbLC",
        "colab_type": "code",
        "colab": {}
      },
      "source": [
        "# do the linear equations\n",
        "solution = my_first_inverse * right_hand_side\n",
        "print(solution)"
      ],
      "execution_count": 0,
      "outputs": []
    },
    {
      "cell_type": "code",
      "metadata": {
        "ExecuteTime": {
          "end_time": "2019-12-21T18:02:13.539871Z",
          "start_time": "2019-12-21T18:02:13.335678Z"
        },
        "id": "WiBdakSpNbLF",
        "colab_type": "code",
        "colab": {}
      },
      "source": [
        "# more efficient for large matrices\n",
        "from numpy.linalg import solve\n",
        "solve(my_first_matrix, right_hand_side)"
      ],
      "execution_count": 0,
      "outputs": []
    },
    {
      "cell_type": "markdown",
      "metadata": {
        "ExecuteTime": {
          "end_time": "2019-12-20T14:59:04.931064Z",
          "start_time": "2019-12-20T14:59:04.925082Z"
        },
        "id": "nhUfZzlZNbLH",
        "colab_type": "text"
      },
      "source": [
        "### statistics"
      ]
    },
    {
      "cell_type": "code",
      "metadata": {
        "ExecuteTime": {
          "end_time": "2019-12-21T18:02:14.313319Z",
          "start_time": "2019-12-21T18:02:14.175556Z"
        },
        "id": "zAe20lLRNbLH",
        "colab_type": "code",
        "colab": {}
      },
      "source": [
        "# create new array\n",
        "stats = np.array([[1, 2, 3], [4, 5,6]])\n",
        "stats"
      ],
      "execution_count": 0,
      "outputs": []
    },
    {
      "cell_type": "code",
      "metadata": {
        "ExecuteTime": {
          "end_time": "2019-12-21T18:02:14.452997Z",
          "start_time": "2019-12-21T18:02:14.314316Z"
        },
        "id": "hH1fvBbfNbLJ",
        "colab_type": "code",
        "colab": {}
      },
      "source": [
        "#get min or max value\n",
        "print(np.min(stats, axis=0))\n",
        "print(np.min(stats, axis=1))\n",
        "\n",
        "print(np.max(stats, axis=0))\n",
        "print(np.max(stats, axis=1))"
      ],
      "execution_count": 0,
      "outputs": []
    },
    {
      "cell_type": "code",
      "metadata": {
        "ExecuteTime": {
          "end_time": "2019-12-21T18:02:14.591913Z",
          "start_time": "2019-12-21T18:02:14.453958Z"
        },
        "id": "x_x9C6jtNbLK",
        "colab_type": "code",
        "colab": {}
      },
      "source": [
        "# get summary of axis 0\n",
        "np.sum(stats, axis=0)"
      ],
      "execution_count": 0,
      "outputs": []
    },
    {
      "cell_type": "code",
      "metadata": {
        "ExecuteTime": {
          "end_time": "2019-12-21T18:02:14.743480Z",
          "start_time": "2019-12-21T18:02:14.592912Z"
        },
        "id": "D_1QBZVkNbLM",
        "colab_type": "code",
        "colab": {}
      },
      "source": [
        "# statistical operation\n",
        "rnd = np.random.randn(4, 2) # random normals in 4x2 array\n",
        "print (rnd)\n",
        "print(rnd.mean())\n",
        "print(rnd.std())\n",
        "print(rnd.argmin()) # index of minimum element\n",
        "print(rnd.sum())\n",
        "print(rnd.sum(axis=0)) # sum of columns\n",
        "print(rnd.sum(axis=1)) # sum of rows"
      ],
      "execution_count": 0,
      "outputs": []
    },
    {
      "cell_type": "markdown",
      "metadata": {
        "id": "f0ADlT2CNbLO",
        "colab_type": "text"
      },
      "source": [
        "## Miscellaneous - loading data"
      ]
    },
    {
      "cell_type": "markdown",
      "metadata": {
        "id": "_63nAoJeNbLO",
        "colab_type": "text"
      },
      "source": [
        "### load data from file\n"
      ]
    },
    {
      "cell_type": "code",
      "metadata": {
        "ExecuteTime": {
          "end_time": "2019-12-21T18:02:14.894394Z",
          "start_time": "2019-12-21T18:02:14.744477Z"
        },
        "id": "qdB5Grm4NbLO",
        "colab_type": "code",
        "colab": {}
      },
      "source": [
        "filedata = np.genfromtxt('https://raw.githubusercontent.com/rafasyafiq/pyda-online/master/Data/data.txt', delimiter=',')\n",
        "filedata = filedata.astype('int32')\n",
        "print(filedata)"
      ],
      "execution_count": 0,
      "outputs": []
    },
    {
      "cell_type": "markdown",
      "metadata": {
        "ExecuteTime": {
          "end_time": "2019-12-20T16:00:31.937871Z",
          "start_time": "2019-12-20T16:00:31.928976Z"
        },
        "id": "rrJS2qVFNbLP",
        "colab_type": "text"
      },
      "source": [
        "### boolean masking and advanced indexing"
      ]
    },
    {
      "cell_type": "code",
      "metadata": {
        "ExecuteTime": {
          "end_time": "2019-12-21T18:02:15.054299Z",
          "start_time": "2019-12-21T18:02:14.895392Z"
        },
        "id": "ffCQwbFGNbLR",
        "colab_type": "code",
        "colab": {}
      },
      "source": [
        "#indexing the data which value greater than 50\n",
        "filedata > 50"
      ],
      "execution_count": 0,
      "outputs": []
    },
    {
      "cell_type": "code",
      "metadata": {
        "ExecuteTime": {
          "end_time": "2019-12-21T18:02:15.213175Z",
          "start_time": "2019-12-21T18:02:15.055356Z"
        },
        "id": "6d9ck-4TNbLS",
        "colab_type": "code",
        "colab": {}
      },
      "source": [
        "# creating an array of data greater than 50\n",
        "filedata[filedata > 50]"
      ],
      "execution_count": 0,
      "outputs": []
    },
    {
      "cell_type": "code",
      "metadata": {
        "ExecuteTime": {
          "end_time": "2019-12-21T18:02:15.484901Z",
          "start_time": "2019-12-21T18:02:15.214147Z"
        },
        "id": "UgufiXH-NbLT",
        "colab_type": "code",
        "colab": {}
      },
      "source": [
        "# we can index using a list\n",
        "a = np.array([1, 2, 3, 4,5, 6, 7,8,9])\n",
        "a[[1, 2, 8]]"
      ],
      "execution_count": 0,
      "outputs": []
    },
    {
      "cell_type": "code",
      "metadata": {
        "id": "hOpamKVgNbLV",
        "colab_type": "code",
        "colab": {}
      },
      "source": [
        "# Test whether 'any' array elements along a given axis evaluate to True.\n",
        "np.any(filedata > 50, axis= 0)   "
      ],
      "execution_count": 0,
      "outputs": []
    },
    {
      "cell_type": "code",
      "metadata": {
        "ExecuteTime": {
          "end_time": "2019-12-21T18:02:15.830438Z",
          "start_time": "2019-12-21T18:02:15.690741Z"
        },
        "id": "yAAw0DMNNbLW",
        "colab_type": "code",
        "colab": {}
      },
      "source": [
        "# Test whether 'all' array elements along a given axis evaluate to True.\n",
        "np.all(filedata > 50, axis= 0)   "
      ],
      "execution_count": 0,
      "outputs": []
    },
    {
      "cell_type": "code",
      "metadata": {
        "ExecuteTime": {
          "end_time": "2019-12-21T18:02:15.985609Z",
          "start_time": "2019-12-21T18:02:15.831436Z"
        },
        "id": "ntKDKGWUNbLX",
        "colab_type": "code",
        "colab": {}
      },
      "source": [
        "# Test wheter all elements is inside the requirement to be greater than 50 but smaller than 100\n",
        "((filedata > 50) & (filedata < 100))"
      ],
      "execution_count": 0,
      "outputs": []
    },
    {
      "cell_type": "code",
      "metadata": {
        "ExecuteTime": {
          "end_time": "2019-12-21T18:02:16.285492Z",
          "start_time": "2019-12-21T18:02:16.149062Z"
        },
        "id": "6BJmFHEGNbLZ",
        "colab_type": "code",
        "colab": {}
      },
      "source": [
        "# get an array of data greater than 50 and smaller than 100\n",
        "filedata[((filedata > 50) & (filedata < 100))]"
      ],
      "execution_count": 0,
      "outputs": []
    },
    {
      "cell_type": "code",
      "metadata": {
        "ExecuteTime": {
          "end_time": "2019-12-21T18:02:16.933874Z",
          "start_time": "2019-12-21T18:02:16.774674Z"
        },
        "id": "vORklyT8NbLb",
        "colab_type": "code",
        "colab": {}
      },
      "source": [
        "#  example indexing\n",
        "a = np.arange(1, 11).reshape((2, 5))\n",
        "b = np.arange(11, 21).reshape((2, 5))\n",
        "c = np.arange(21, 31).reshape((2, 5))"
      ],
      "execution_count": 0,
      "outputs": []
    },
    {
      "cell_type": "code",
      "metadata": {
        "ExecuteTime": {
          "end_time": "2019-12-21T18:02:17.074161Z",
          "start_time": "2019-12-21T18:02:16.935646Z"
        },
        "id": "lFlaHvVNNbLd",
        "colab_type": "code",
        "colab": {}
      },
      "source": [
        "final = np.vstack([a, b, c])\n",
        "print(final)"
      ],
      "execution_count": 0,
      "outputs": []
    },
    {
      "cell_type": "code",
      "metadata": {
        "ExecuteTime": {
          "end_time": "2019-12-21T18:02:17.246323Z",
          "start_time": "2019-12-21T18:02:17.075159Z"
        },
        "id": "S0RFHdCGNbLf",
        "colab_type": "code",
        "colab": {}
      },
      "source": [
        "final[2:4, :2]"
      ],
      "execution_count": 0,
      "outputs": []
    },
    {
      "cell_type": "code",
      "metadata": {
        "ExecuteTime": {
          "end_time": "2019-12-21T18:02:17.470000Z",
          "start_time": "2019-12-21T18:02:17.247320Z"
        },
        "id": "Qq5U-JD8NbLg",
        "colab_type": "code",
        "colab": {}
      },
      "source": [
        "final[[0, 1, 2, 3], [1, 2, 3, 4]]"
      ],
      "execution_count": 0,
      "outputs": []
    },
    {
      "cell_type": "code",
      "metadata": {
        "ExecuteTime": {
          "end_time": "2019-12-21T18:02:17.619290Z",
          "start_time": "2019-12-21T18:02:17.470957Z"
        },
        "id": "j6XwhJtrNbLh",
        "colab_type": "code",
        "colab": {}
      },
      "source": [
        "final[[0, 4, 5], 3:]"
      ],
      "execution_count": 0,
      "outputs": []
    },
    {
      "cell_type": "markdown",
      "metadata": {
        "ExecuteTime": {
          "end_time": "2019-12-20T19:31:11.092286Z",
          "start_time": "2019-12-20T19:31:11.085332Z"
        },
        "id": "kNzlKJj6NbLj",
        "colab_type": "text"
      },
      "source": [
        " ##  Creating Structured array\n",
        " \n",
        " used for heterogeneous data while maintaining numpy's requirement that every element in an array use the same amount of memory space"
      ]
    },
    {
      "cell_type": "code",
      "metadata": {
        "ExecuteTime": {
          "end_time": "2019-12-21T18:02:17.769078Z",
          "start_time": "2019-12-21T18:02:17.620969Z"
        },
        "id": "ia-MibiMNbLj",
        "colab_type": "code",
        "colab": {}
      },
      "source": [
        "# creating new empty of structured data\n",
        "person_data_def = [('name', '<U6'), ('height', 'f8'), ('weight', 'f8'), ('age', 'i8')]\n",
        "person_data_def"
      ],
      "execution_count": 0,
      "outputs": []
    },
    {
      "cell_type": "code",
      "metadata": {
        "ExecuteTime": {
          "end_time": "2019-12-21T18:02:17.906838Z",
          "start_time": "2019-12-21T18:02:17.770043Z"
        },
        "id": "QYURJcCaNbLl",
        "colab_type": "code",
        "colab": {}
      },
      "source": [
        "# insert zeros in the array\n",
        "people_array = np.zeros((4), dtype=person_data_def)\n",
        "print (people_array)\n",
        "print(people_array.shape)"
      ],
      "execution_count": 0,
      "outputs": []
    },
    {
      "cell_type": "code",
      "metadata": {
        "ExecuteTime": {
          "end_time": "2019-12-21T18:02:18.190574Z",
          "start_time": "2019-12-21T18:02:18.037358Z"
        },
        "id": "UakAwrKNNbLn",
        "colab_type": "code",
        "colab": {}
      },
      "source": [
        "# https://docs.scipy.org/doc/numpy/reference/arrays.dtypes.html\n",
        "# https://jakevdp.github.io/PythonDataScienceHandbook/02.09-structured-data-numpy.html\n",
        "\n",
        "# dt = np.dtype('i4')   # 32-bit signed integer\n",
        "# dt = np.dtype('f8')   # 64-bit floating-point number\n",
        "# dt = np.dtype('c16')  # 128-bit complex floating-point number\n",
        "# dt = np.dtype('a25')  # 25-length zero-terminated bytes\n",
        "# dt = np.dtype('U25')  # 25-character string"
      ],
      "execution_count": 0,
      "outputs": []
    },
    {
      "cell_type": "code",
      "metadata": {
        "ExecuteTime": {
          "end_time": "2019-12-21T18:02:18.469931Z",
          "start_time": "2019-12-21T18:02:18.331962Z"
        },
        "id": "oUJPCk50NbLq",
        "colab_type": "code",
        "colab": {}
      },
      "source": [
        "#insert the data in the column 3\n",
        "people_array[3] = ('delta', 73, 58, 28)\n",
        "people_array[3]"
      ],
      "execution_count": 0,
      "outputs": []
    },
    {
      "cell_type": "code",
      "metadata": {
        "ExecuteTime": {
          "end_time": "2019-12-21T18:02:18.825614Z",
          "start_time": "2019-12-21T18:02:18.620501Z"
        },
        "id": "vw8AXL_9NbLs",
        "colab_type": "code",
        "colab": {}
      },
      "source": [
        "#insert the data in the column 3\n",
        "people_array[1] = ('alpha', 83, 38, 48)\n",
        "people_array[1]"
      ],
      "execution_count": 0,
      "outputs": []
    },
    {
      "cell_type": "code",
      "metadata": {
        "ExecuteTime": {
          "end_time": "2019-12-21T18:02:19.242859Z",
          "start_time": "2019-12-21T18:02:19.048919Z"
        },
        "id": "_8Cm3oXNNbLu",
        "colab_type": "code",
        "colab": {}
      },
      "source": [
        "# see the array\n",
        "people_array"
      ],
      "execution_count": 0,
      "outputs": []
    },
    {
      "cell_type": "code",
      "metadata": {
        "ExecuteTime": {
          "end_time": "2019-12-21T18:02:19.380554Z",
          "start_time": "2019-12-21T18:02:19.243856Z"
        },
        "id": "JKgukP8uNbLv",
        "colab_type": "code",
        "colab": {}
      },
      "source": [
        "people_array['age']"
      ],
      "execution_count": 0,
      "outputs": []
    },
    {
      "cell_type": "code",
      "metadata": {
        "ExecuteTime": {
          "end_time": "2019-12-21T18:02:19.530394Z",
          "start_time": "2019-12-21T18:02:19.381506Z"
        },
        "id": "6pUF1c3INbLx",
        "colab_type": "code",
        "colab": {}
      },
      "source": [
        "#create new array the same type as person_data_def array\n",
        "people_big_array = np.zeros((4, 3, 2), dtype=person_data_def)\n",
        "people_big_array"
      ],
      "execution_count": 0,
      "outputs": []
    },
    {
      "cell_type": "code",
      "metadata": {
        "ExecuteTime": {
          "end_time": "2019-12-21T18:02:19.670972Z",
          "start_time": "2019-12-21T18:02:19.535380Z"
        },
        "id": "VoapI7x9NbLy",
        "colab_type": "code",
        "colab": {}
      },
      "source": [
        "# insert new data\n",
        "people_big_array[3, 2, 1] = ('echo', 10, 20, 30)\n",
        "people_big_array"
      ],
      "execution_count": 0,
      "outputs": []
    },
    {
      "cell_type": "code",
      "metadata": {
        "ExecuteTime": {
          "end_time": "2019-12-21T18:02:19.976932Z",
          "start_time": "2019-12-21T18:02:19.835736Z"
        },
        "id": "N8ay81-VNbLz",
        "colab_type": "code",
        "colab": {}
      },
      "source": [
        "# creating Record arrays\n",
        "person_record_array = np.rec.array([('Delta', 73, 205, 34), ('alpha', 83, 38, 48)], dtype=person_data_def)\n",
        "person_record_array"
      ],
      "execution_count": 0,
      "outputs": []
    },
    {
      "cell_type": "code",
      "metadata": {
        "ExecuteTime": {
          "end_time": "2019-12-21T18:02:20.136510Z",
          "start_time": "2019-12-21T18:02:19.977930Z"
        },
        "id": "-xrhL_tGNbL0",
        "colab_type": "code",
        "colab": {}
      },
      "source": [
        "person_record_array[0].age \n",
        "# using attributes instead of index"
      ],
      "execution_count": 0,
      "outputs": []
    },
    {
      "cell_type": "markdown",
      "metadata": {
        "id": "Y7nbq4t1NbL1",
        "colab_type": "text"
      },
      "source": [
        "## Rearranging array elements"
      ]
    },
    {
      "cell_type": "code",
      "metadata": {
        "ExecuteTime": {
          "end_time": "2019-12-21T18:02:20.275488Z",
          "start_time": "2019-12-21T18:02:20.137507Z"
        },
        "id": "uTqSZaYANbL2",
        "colab_type": "code",
        "colab": {}
      },
      "source": [
        "#create new array\n",
        "before = np.array([[1, 2, 3 , 4], [5, 6, 7, 8]])\n",
        "print(before)\n",
        "\n",
        "#reshaping array\n",
        "print(before.reshape((8,1)))"
      ],
      "execution_count": 0,
      "outputs": []
    },
    {
      "cell_type": "code",
      "metadata": {
        "ExecuteTime": {
          "end_time": "2019-12-21T18:02:20.481130Z",
          "start_time": "2019-12-21T18:02:20.276485Z"
        },
        "id": "YvJtfTAdNbL3",
        "colab_type": "code",
        "colab": {}
      },
      "source": [
        "# vertically stacking arrays\n",
        "v1 = np.array([1, 2, 3, 4])\n",
        "v2 = np.array([11, 22, 33, 44])\n",
        "\n",
        "np.vstack((v1, v2, v2))"
      ],
      "execution_count": 0,
      "outputs": []
    },
    {
      "cell_type": "code",
      "metadata": {
        "ExecuteTime": {
          "end_time": "2019-12-21T18:02:20.866976Z",
          "start_time": "2019-12-21T18:02:20.482128Z"
        },
        "id": "1ma4cJRUNbL4",
        "colab_type": "code",
        "colab": {}
      },
      "source": [
        "# horizontal stacking \n",
        "h1 = np.ones((2, 4))\n",
        "h2 = np.zeros((2, 2))\n",
        "np.hstack([h1, h2])"
      ],
      "execution_count": 0,
      "outputs": []
    },
    {
      "cell_type": "code",
      "metadata": {
        "ExecuteTime": {
          "end_time": "2019-12-21T18:02:21.071807Z",
          "start_time": "2019-12-21T18:02:20.867935Z"
        },
        "id": "TRIT6sTyNbL5",
        "colab_type": "code",
        "colab": {}
      },
      "source": [
        "#reshaping array\n",
        "my_start_array = np.array(np.arange(24))\n",
        "my_3_8_array = my_start_array.reshape((3, 8))\n",
        "my_2_3_4_array = my_start_array.reshape((2, 3, 4))"
      ],
      "execution_count": 0,
      "outputs": []
    },
    {
      "cell_type": "code",
      "metadata": {
        "ExecuteTime": {
          "end_time": "2019-12-21T18:02:21.208615Z",
          "start_time": "2019-12-21T18:02:21.072805Z"
        },
        "id": "qeEcUe7uNbL7",
        "colab_type": "code",
        "colab": {}
      },
      "source": [
        "# fliplr - flip left right"
      ],
      "execution_count": 0,
      "outputs": []
    },
    {
      "cell_type": "code",
      "metadata": {
        "ExecuteTime": {
          "end_time": "2019-12-21T18:02:21.350024Z",
          "start_time": "2019-12-21T18:02:21.210544Z"
        },
        "id": "ScldY4e4NbL8",
        "colab_type": "code",
        "colab": {}
      },
      "source": [
        "#get the array with (3, 8) shape\n",
        "my_3_8_array"
      ],
      "execution_count": 0,
      "outputs": []
    },
    {
      "cell_type": "code",
      "metadata": {
        "ExecuteTime": {
          "end_time": "2019-12-21T18:02:21.511541Z",
          "start_time": "2019-12-21T18:02:21.350984Z"
        },
        "id": "NUu4LmiqNbL_",
        "colab_type": "code",
        "colab": {}
      },
      "source": [
        "#flip left right the arrat\n",
        "np.fliplr(my_3_8_array)"
      ],
      "execution_count": 0,
      "outputs": []
    },
    {
      "cell_type": "code",
      "metadata": {
        "ExecuteTime": {
          "end_time": "2019-12-21T18:02:21.678244Z",
          "start_time": "2019-12-21T18:02:21.512501Z"
        },
        "id": "6N5yAxmMNbMB",
        "colab_type": "code",
        "colab": {}
      },
      "source": [
        "#get the array with (2, 3, 4) shape\n",
        "my_2_3_4_array"
      ],
      "execution_count": 0,
      "outputs": []
    },
    {
      "cell_type": "code",
      "metadata": {
        "ExecuteTime": {
          "end_time": "2019-12-21T18:02:21.871645Z",
          "start_time": "2019-12-21T18:02:21.679203Z"
        },
        "id": "oOXxSjOTNbMC",
        "colab_type": "code",
        "colab": {}
      },
      "source": [
        "np.fliplr(my_2_3_4_array) # flipping takes place over the last index"
      ],
      "execution_count": 0,
      "outputs": []
    },
    {
      "cell_type": "code",
      "metadata": {
        "ExecuteTime": {
          "end_time": "2019-12-21T18:02:22.022608Z",
          "start_time": "2019-12-21T18:02:21.872598Z"
        },
        "id": "nNaoGOqLNbMD",
        "colab_type": "code",
        "colab": {}
      },
      "source": [
        "# flip upside down the (3, 8) array\n",
        "np.flipud(my_3_8_array)"
      ],
      "execution_count": 0,
      "outputs": []
    },
    {
      "cell_type": "code",
      "metadata": {
        "ExecuteTime": {
          "end_time": "2019-12-21T18:02:22.161555Z",
          "start_time": "2019-12-21T18:02:22.023605Z"
        },
        "id": "25PUdZBnNbME",
        "colab_type": "code",
        "colab": {}
      },
      "source": [
        "# flip upside down the (2, 3, 4) array\n",
        "np.flipud(my_2_3_4_array)"
      ],
      "execution_count": 0,
      "outputs": []
    },
    {
      "cell_type": "code",
      "metadata": {
        "ExecuteTime": {
          "end_time": "2019-12-21T18:02:22.395313Z",
          "start_time": "2019-12-21T18:02:22.162517Z"
        },
        "id": "z6O1RZKlNbMG",
        "colab_type": "code",
        "colab": {}
      },
      "source": [
        "#get the my_start_array\n",
        "my_start_array"
      ],
      "execution_count": 0,
      "outputs": []
    },
    {
      "cell_type": "code",
      "metadata": {
        "ExecuteTime": {
          "end_time": "2019-12-21T18:02:22.610366Z",
          "start_time": "2019-12-21T18:02:22.396311Z"
        },
        "id": "oY0wHwZnNbMG",
        "colab_type": "code",
        "colab": {}
      },
      "source": [
        "# roll from the last 5 data to be the first 5 data\n",
        "np.roll(my_start_array, 5)"
      ],
      "execution_count": 0,
      "outputs": []
    },
    {
      "cell_type": "code",
      "metadata": {
        "ExecuteTime": {
          "end_time": "2019-12-21T18:02:22.839349Z",
          "start_time": "2019-12-21T18:02:22.611309Z"
        },
        "id": "Gq0swMTYNbMH",
        "colab_type": "code",
        "colab": {}
      },
      "source": [
        "# roll from the first 5 data to be the last 5 data\n",
        "np.roll(my_start_array, -5)"
      ],
      "execution_count": 0,
      "outputs": []
    },
    {
      "cell_type": "code",
      "metadata": {
        "ExecuteTime": {
          "end_time": "2019-12-21T18:02:22.977561Z",
          "start_time": "2019-12-21T18:02:22.840304Z"
        },
        "id": "6hxnCe9bNbMJ",
        "colab_type": "code",
        "colab": {}
      },
      "source": [
        "# roll from the last 2 data to be the first 2 data\n",
        "np.roll(my_2_3_4_array, 2)"
      ],
      "execution_count": 0,
      "outputs": []
    },
    {
      "cell_type": "code",
      "metadata": {
        "ExecuteTime": {
          "end_time": "2019-12-21T18:02:23.116424Z",
          "start_time": "2019-12-21T18:02:22.978504Z"
        },
        "id": "h0wZszznNbMK",
        "colab_type": "code",
        "colab": {}
      },
      "source": [
        "#get the my_3_8_array\n",
        "my_3_8_array"
      ],
      "execution_count": 0,
      "outputs": []
    },
    {
      "cell_type": "code",
      "metadata": {
        "ExecuteTime": {
          "end_time": "2019-12-21T18:02:23.294607Z",
          "start_time": "2019-12-21T18:02:23.117385Z"
        },
        "id": "7v8KjalGNbML",
        "colab_type": "code",
        "colab": {}
      },
      "source": [
        "# rotate 90 degree\n",
        "\n",
        "np.rot90(my_3_8_array) # rotate in +ve direction (counter-clockwise)"
      ],
      "execution_count": 0,
      "outputs": []
    },
    {
      "cell_type": "code",
      "metadata": {
        "ExecuteTime": {
          "end_time": "2019-12-21T18:02:23.456113Z",
          "start_time": "2019-12-21T18:02:23.295604Z"
        },
        "id": "FlVGFX5ENbMN",
        "colab_type": "code",
        "colab": {}
      },
      "source": [
        "np.rot90(my_3_8_array, k=-1) # rotate in -ve direction (clockwise)"
      ],
      "execution_count": 0,
      "outputs": []
    },
    {
      "cell_type": "markdown",
      "metadata": {
        "id": "tpWYhTH_NbMP",
        "colab_type": "text"
      },
      "source": [
        "## Transpose-like operations"
      ]
    },
    {
      "cell_type": "code",
      "metadata": {
        "ExecuteTime": {
          "end_time": "2019-12-21T18:02:23.605408Z",
          "start_time": "2019-12-21T18:02:23.457111Z"
        },
        "id": "AVpK-xzkNbMQ",
        "colab_type": "code",
        "colab": {}
      },
      "source": [
        "# create arrays\n",
        "my_start_array = np.array(np.arange(24))\n",
        "my_3_8_array = my_start_array.reshape((3, 8))\n",
        "my_2_3_4_array = my_start_array.reshape((2, 3, 4))"
      ],
      "execution_count": 0,
      "outputs": []
    },
    {
      "cell_type": "code",
      "metadata": {
        "ExecuteTime": {
          "end_time": "2019-12-21T18:02:23.733772Z",
          "start_time": "2019-12-21T18:02:23.606354Z"
        },
        "id": "02laV6xRNbMS",
        "colab_type": "code",
        "colab": {}
      },
      "source": [
        "#get the array and trasnpose\n",
        "print(my_start_array)\n",
        "print('-----')\n",
        "print(my_start_array.T)"
      ],
      "execution_count": 0,
      "outputs": []
    },
    {
      "cell_type": "code",
      "metadata": {
        "ExecuteTime": {
          "end_time": "2019-12-21T18:02:23.872952Z",
          "start_time": "2019-12-21T18:02:23.734769Z"
        },
        "id": "xSxWA8jtNbMV",
        "colab_type": "code",
        "colab": {}
      },
      "source": [
        "#get the array and trasnpose\n",
        "print(my_3_8_array)\n",
        "print('-----')\n",
        "print(my_3_8_array.T)"
      ],
      "execution_count": 0,
      "outputs": []
    },
    {
      "cell_type": "code",
      "metadata": {
        "ExecuteTime": {
          "end_time": "2019-12-21T18:02:24.027968Z",
          "start_time": "2019-12-21T18:02:23.873906Z"
        },
        "id": "_iI-IL6oNbMW",
        "colab_type": "code",
        "colab": {}
      },
      "source": [
        "print(my_2_3_4_array)\n",
        "print('-----')\n",
        "print(np.transpose(my_2_3_4_array, axes=(0,2,1)))\n",
        "# transpose over axes index by 2 and axes index by  1\n",
        "# axes = By default, reverse the dimensions, \n",
        "# otherwise permute the axes according to the values given."
      ],
      "execution_count": 0,
      "outputs": []
    },
    {
      "cell_type": "code",
      "metadata": {
        "ExecuteTime": {
          "end_time": "2019-12-21T18:02:24.167002Z",
          "start_time": "2019-12-21T18:02:24.028975Z"
        },
        "id": "7srrgL3fNbMX",
        "colab_type": "code",
        "colab": {}
      },
      "source": [
        "# swapaxes(a, axis1, axis2) - interchange two axes of an array\n",
        "print(my_2_3_4_array)\n",
        "print('-----')\n",
        "print(np.swapaxes(my_2_3_4_array, 1, 0) )"
      ],
      "execution_count": 0,
      "outputs": []
    },
    {
      "cell_type": "code",
      "metadata": {
        "ExecuteTime": {
          "end_time": "2019-12-21T18:02:24.442685Z",
          "start_time": "2019-12-21T18:02:24.167968Z"
        },
        "id": "Ks9oMSK2NbMX",
        "colab_type": "code",
        "colab": {}
      },
      "source": [
        "# np.rollaxis - roll the specified axis backwards, until it lies in a given position\n",
        "print(my_2_3_4_array.shape)\n",
        "print('-----')\n",
        "print(np.rollaxis(my_2_3_4_array, axis=1, start=3).shape)\n",
        "# axis 3 is not present but theoretically will be after axis 2 so axis\n",
        "# 1 is rolled till it is behind axis 3\n"
      ],
      "execution_count": 0,
      "outputs": []
    },
    {
      "cell_type": "code",
      "metadata": {
        "ExecuteTime": {
          "end_time": "2019-12-21T18:02:24.644850Z",
          "start_time": "2019-12-21T18:02:24.444341Z"
        },
        "id": "adYch37QNbMY",
        "colab_type": "code",
        "colab": {}
      },
      "source": [
        "print(my_2_3_4_array.shape)\n",
        "print('-----')\n",
        "print(np.rollaxis(my_2_3_4_array, axis=1).shape)\n",
        "print(np.rollaxis(my_2_3_4_array, axis=2, start=1).shape)\n"
      ],
      "execution_count": 0,
      "outputs": []
    },
    {
      "cell_type": "markdown",
      "metadata": {
        "id": "6rK06BzdNbMZ",
        "colab_type": "text"
      },
      "source": [
        "* use np.transpose to permute all the axes at once\n",
        "* use np.swapaxes to swap any two axes\n",
        "* use np.rollaxis to \"rotate\" the axes"
      ]
    },
    {
      "cell_type": "code",
      "metadata": {
        "ExecuteTime": {
          "end_time": "2019-12-21T18:02:25.129468Z",
          "start_time": "2019-12-21T18:02:24.646813Z"
        },
        "id": "9peE18EQNbMZ",
        "colab_type": "code",
        "colab": {}
      },
      "source": [
        "# np.moveaxis(a, source, destination)\n",
        "# Move axes of an array to new positions.\n",
        "# Other axes remain in their original order.\n",
        "\n",
        "print(my_2_3_4_array.shape)\n",
        "print('-----')\n",
        "print(np.moveaxis(my_2_3_4_array, 0, -1).shape)\n",
        "print(np.moveaxis(my_2_3_4_array, -1, 0).shape)"
      ],
      "execution_count": 0,
      "outputs": []
    },
    {
      "cell_type": "markdown",
      "metadata": {
        "id": "TcqfQeWmNbMa",
        "colab_type": "text"
      },
      "source": [
        "## Universal Functions\n",
        "\n",
        "* [Info](https://docs.scipy.org/doc/numpy/reference/ufuncs.html)"
      ]
    },
    {
      "cell_type": "code",
      "metadata": {
        "ExecuteTime": {
          "end_time": "2019-12-21T18:02:25.341697Z",
          "start_time": "2019-12-21T18:02:25.130447Z"
        },
        "id": "YxoWgbnyNbMa",
        "colab_type": "code",
        "colab": {}
      },
      "source": [
        "# truncated binomial: returns (x+1) ** 3 - (x) ** 3\n",
        "def truncated_binomial(x):\n",
        "    return (x+1) ** 3 - (x) ** 3"
      ],
      "execution_count": 0,
      "outputs": []
    },
    {
      "cell_type": "code",
      "metadata": {
        "ExecuteTime": {
          "end_time": "2019-12-21T18:02:25.479475Z",
          "start_time": "2019-12-21T18:02:25.342695Z"
        },
        "id": "X1ugHwBVNbMb",
        "colab_type": "code",
        "colab": {}
      },
      "source": [
        "np.testing.assert_equal(truncated_binomial(4), 61)"
      ],
      "execution_count": 0,
      "outputs": []
    },
    {
      "cell_type": "code",
      "metadata": {
        "ExecuteTime": {
          "end_time": "2019-12-21T18:02:34.028892Z",
          "start_time": "2019-12-21T18:02:33.975968Z"
        },
        "id": "c5i_mpUwNbMc",
        "colab_type": "code",
        "colab": {}
      },
      "source": [
        "np.testing.assert_equal(truncated_binomial(4), 65)"
      ],
      "execution_count": 0,
      "outputs": []
    },
    {
      "cell_type": "code",
      "metadata": {
        "ExecuteTime": {
          "end_time": "2019-12-21T18:02:34.034877Z",
          "start_time": "2019-12-21T18:02:32.943Z"
        },
        "id": "Hh4JQ2hNNbMd",
        "colab_type": "code",
        "colab": {}
      },
      "source": [
        "my_numpy_function = np.frompyfunc(truncated_binomial, 1, 1)\n",
        "my_numpy_function"
      ],
      "execution_count": 0,
      "outputs": []
    },
    {
      "cell_type": "code",
      "metadata": {
        "ExecuteTime": {
          "end_time": "2019-12-21T18:02:34.038868Z",
          "start_time": "2019-12-21T18:02:33.363Z"
        },
        "id": "XNmi6Xy-NbMe",
        "colab_type": "code",
        "colab": {}
      },
      "source": [
        "test_array = np.arange(10)"
      ],
      "execution_count": 0,
      "outputs": []
    },
    {
      "cell_type": "code",
      "metadata": {
        "ExecuteTime": {
          "end_time": "2019-12-21T18:02:34.043854Z",
          "start_time": "2019-12-21T18:02:33.774Z"
        },
        "id": "XG66PCZ5NbMe",
        "colab_type": "code",
        "colab": {}
      },
      "source": [
        "my_numpy_function(test_array)"
      ],
      "execution_count": 0,
      "outputs": []
    },
    {
      "cell_type": "code",
      "metadata": {
        "ExecuteTime": {
          "end_time": "2019-12-21T18:02:34.923018Z",
          "start_time": "2019-12-21T18:02:34.138600Z"
        },
        "id": "TRZd0Gt2NbMh",
        "colab_type": "code",
        "colab": {}
      },
      "source": [
        "big_test_array = np.outer(test_array, test_array)\n",
        "big_test_array"
      ],
      "execution_count": 0,
      "outputs": []
    },
    {
      "cell_type": "code",
      "metadata": {
        "ExecuteTime": {
          "end_time": "2019-12-21T18:02:34.928948Z",
          "start_time": "2019-12-21T18:02:34.347Z"
        },
        "id": "akPjGKT9NbMj",
        "colab_type": "code",
        "colab": {}
      },
      "source": [
        "my_numpy_function(big_test_array)"
      ],
      "execution_count": 0,
      "outputs": []
    },
    {
      "cell_type": "markdown",
      "metadata": {
        "ExecuteTime": {
          "end_time": "2019-12-21T14:03:08.018276Z",
          "start_time": "2019-12-21T14:03:08.014889Z"
        },
        "id": "pz3zUtMYNbMj",
        "colab_type": "text"
      },
      "source": [
        "* pythogorean triplets\n",
        "\n",
        "$X^n + Y^n = Z ^n$"
      ]
    },
    {
      "cell_type": "code",
      "metadata": {
        "ExecuteTime": {
          "end_time": "2019-12-21T18:02:35.296466Z",
          "start_time": "2019-12-21T18:02:35.292510Z"
        },
        "id": "ddU2NM4iNbMk",
        "colab_type": "code",
        "colab": {}
      },
      "source": [
        "def is_integer(x):\n",
        "    return np.equal(np.mod(x, 1), 0)"
      ],
      "execution_count": 0,
      "outputs": []
    },
    {
      "cell_type": "code",
      "metadata": {
        "ExecuteTime": {
          "end_time": "2019-12-21T18:02:36.360304Z",
          "start_time": "2019-12-21T18:02:36.356317Z"
        },
        "id": "daUl35CKNbMm",
        "colab_type": "code",
        "colab": {}
      },
      "source": [
        "numpy_is_integer = np.frompyfunc(is_integer, 1, 1)"
      ],
      "execution_count": 0,
      "outputs": []
    },
    {
      "cell_type": "code",
      "metadata": {
        "ExecuteTime": {
          "end_time": "2019-12-21T18:02:37.822627Z",
          "start_time": "2019-12-21T18:02:36.852744Z"
        },
        "id": "cOFFj3tNNbMn",
        "colab_type": "code",
        "colab": {}
      },
      "source": [
        "number_of_triangles = 9\n",
        "\n",
        "base = np.arange(number_of_triangles) + 1\n",
        "height = np.arange(number_of_triangles) + 1\n",
        "\n",
        "# https://docs.scipy.org/doc/numpy/reference/generated/numpy.ufunc.outer.html\n",
        "hypotenuse_squared = np.add.outer(base ** 2, height ** 2)\n",
        "hypotenuse = np.sqrt(hypotenuse_squared)\n",
        "\n",
        "numpy_is_integer(hypotenuse)"
      ],
      "execution_count": 0,
      "outputs": []
    },
    {
      "cell_type": "markdown",
      "metadata": {
        "id": "IL-oLa80NbMq",
        "colab_type": "text"
      },
      "source": [
        "Another method\n",
        "\n",
        "for $m$ and $n$ $+ve$ integers, and m $\\geq$ n:\n",
        "                $X = m^2 - n^2; Y= 2mn; Z = m^2 + n^2$"
      ]
    }
  ]
}