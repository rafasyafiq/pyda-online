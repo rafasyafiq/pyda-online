{
  "nbformat": 4,
  "nbformat_minor": 0,
  "metadata": {
    "kernelspec": {
      "display_name": "Python 3",
      "language": "python",
      "name": "python3"
    },
    "language_info": {
      "codemirror_mode": {
        "name": "ipython",
        "version": 3
      },
      "file_extension": ".py",
      "mimetype": "text/x-python",
      "name": "python",
      "nbconvert_exporter": "python",
      "pygments_lexer": "ipython3",
      "version": "3.7.1"
    },
    "toc": {
      "base_numbering": 1,
      "nav_menu": {},
      "number_sections": true,
      "sideBar": true,
      "skip_h1_title": false,
      "title_cell": "Table of Contents",
      "title_sidebar": "Contents",
      "toc_cell": true,
      "toc_position": {},
      "toc_section_display": true,
      "toc_window_display": false
    },
    "varInspector": {
      "cols": {
        "lenName": 16,
        "lenType": 16,
        "lenVar": 40
      },
      "kernels_config": {
        "python": {
          "delete_cmd_postfix": "",
          "delete_cmd_prefix": "del ",
          "library": "var_list.py",
          "varRefreshCmd": "print(var_dic_list())"
        },
        "r": {
          "delete_cmd_postfix": ") ",
          "delete_cmd_prefix": "rm(",
          "library": "var_list.r",
          "varRefreshCmd": "cat(var_dic_list()) "
        }
      },
      "types_to_exclude": [
        "module",
        "function",
        "builtin_function_or_method",
        "instance",
        "_Feature"
      ],
      "window_display": false
    },
    "colab": {
      "name": "003_Data Loading, Storage, and File Formats.ipynb",
      "provenance": [],
      "include_colab_link": true
    }
  },
  "cells": [
    {
      "cell_type": "markdown",
      "metadata": {
        "id": "view-in-github",
        "colab_type": "text"
      },
      "source": [
        "<a href=\"https://colab.research.google.com/github/rafasyafiq/pyda-online/blob/master/day2/003_Data_Loading%2C_Storage%2C_and_File_Formats.ipynb\" target=\"_parent\"><img src=\"https://colab.research.google.com/assets/colab-badge.svg\" alt=\"Open In Colab\"/></a>"
      ]
    },
    {
      "cell_type": "code",
      "metadata": {
        "ExecuteTime": {
          "end_time": "2019-12-24T17:44:12.942927Z",
          "start_time": "2019-12-24T17:44:11.943916Z"
        },
        "id": "3DO6wQWeA8M8",
        "colab_type": "code",
        "colab": {}
      },
      "source": [
        "import pandas as pd\n",
        "import numpy as np"
      ],
      "execution_count": 0,
      "outputs": []
    },
    {
      "cell_type": "markdown",
      "metadata": {
        "id": "Fl3wmc5mA8M_",
        "colab_type": "text"
      },
      "source": [
        "# Reading and Writing Data in Text Format"
      ]
    },
    {
      "cell_type": "code",
      "metadata": {
        "ExecuteTime": {
          "end_time": "2019-12-24T17:44:13.113898Z",
          "start_time": "2019-12-24T17:44:12.967654Z"
        },
        "id": "24i7czz7A8NC",
        "colab_type": "code",
        "colab": {}
      },
      "source": [
        "# loading online dataset\n",
        "df = pd.read_csv('https://raw.githubusercontent.com/rafasyafiq/pyda-online/master/Data/ex1.csv')\n",
        "df"
      ],
      "execution_count": 0,
      "outputs": []
    },
    {
      "cell_type": "code",
      "metadata": {
        "ExecuteTime": {
          "end_time": "2019-12-24T17:44:13.284776Z",
          "start_time": "2019-12-24T17:44:13.116362Z"
        },
        "id": "CPwtsNs4A8NE",
        "colab_type": "code",
        "colab": {}
      },
      "source": [
        "pd.read_table('https://raw.githubusercontent.com/rafasyafiq/pyda-online/master/Data/ex1.csv', sep=',')"
      ],
      "execution_count": 0,
      "outputs": []
    },
    {
      "cell_type": "markdown",
      "metadata": {
        "id": "suqIHELKA8NH",
        "colab_type": "text"
      },
      "source": [
        "A file will not always have a header row. Consider this file"
      ]
    },
    {
      "cell_type": "code",
      "metadata": {
        "ExecuteTime": {
          "end_time": "2019-12-24T17:44:13.597498Z",
          "start_time": "2019-12-24T17:44:13.458877Z"
        },
        "id": "nDID9VRCA8NJ",
        "colab_type": "code",
        "colab": {}
      },
      "source": [
        "pd.read_csv('https://raw.githubusercontent.com/rafasyafiq/pyda-online/master/Data/ex2.csv', header=None)"
      ],
      "execution_count": 0,
      "outputs": []
    },
    {
      "cell_type": "code",
      "metadata": {
        "ExecuteTime": {
          "end_time": "2019-12-24T17:44:13.738188Z",
          "start_time": "2019-12-24T17:44:13.609101Z"
        },
        "id": "mA2OoSOaA8NL",
        "colab_type": "code",
        "colab": {}
      },
      "source": [
        "pd.read_csv('https://raw.githubusercontent.com/rafasyafiq/pyda-online/master/Data/ex2.csv', names=['a', 'b', 'c', 'd', 'message'])"
      ],
      "execution_count": 0,
      "outputs": []
    },
    {
      "cell_type": "code",
      "metadata": {
        "ExecuteTime": {
          "end_time": "2019-12-24T17:44:13.885401Z",
          "start_time": "2019-12-24T17:44:13.741950Z"
        },
        "id": "3QCA2ykeA8NO",
        "colab_type": "code",
        "colab": {}
      },
      "source": [
        "names=['a', 'b', 'c', 'd', 'message']"
      ],
      "execution_count": 0,
      "outputs": []
    },
    {
      "cell_type": "code",
      "metadata": {
        "ExecuteTime": {
          "end_time": "2019-12-24T17:44:14.053188Z",
          "start_time": "2019-12-24T17:44:13.885401Z"
        },
        "id": "XqT8Fq36A8NQ",
        "colab_type": "code",
        "colab": {}
      },
      "source": [
        "# make message column to be the index of the returned DataFrame\n",
        "\n",
        "pd.read_csv('https://raw.githubusercontent.com/rafasyafiq/pyda-online/master/Data/ex2.csv', names=names, index_col='message')"
      ],
      "execution_count": 0,
      "outputs": []
    },
    {
      "cell_type": "markdown",
      "metadata": {
        "id": "U-wmIG6AA8NS",
        "colab_type": "text"
      },
      "source": [
        "In the event that you want to form a hierarchical index from multiple columns, pass a list of column numbers or names"
      ]
    },
    {
      "cell_type": "code",
      "metadata": {
        "ExecuteTime": {
          "end_time": "2019-12-24T17:44:14.396063Z",
          "start_time": "2019-12-24T17:44:14.242881Z"
        },
        "id": "-O5YLikzA8NU",
        "colab_type": "code",
        "colab": {}
      },
      "source": [
        "parsed = pd.read_csv('https://raw.githubusercontent.com/rafasyafiq/pyda-online/master/Data/csv_mindex.csv', index_col=['key1', 'key2'])\n",
        "parsed"
      ],
      "execution_count": 0,
      "outputs": []
    },
    {
      "cell_type": "markdown",
      "metadata": {
        "id": "mDDkTy_JA8NX",
        "colab_type": "text"
      },
      "source": [
        "In some cases, a table might not have a fixed delimiter, using whitespace or some other pattern to separate fields."
      ]
    },
    {
      "cell_type": "code",
      "metadata": {
        "ExecuteTime": {
          "end_time": "2019-12-24T17:44:14.697406Z",
          "start_time": "2019-12-24T17:44:14.546683Z"
        },
        "id": "WElSy7BbA8NZ",
        "colab_type": "code",
        "colab": {}
      },
      "source": [
        "# call data frame from txt without fixed delimiter\n",
        "result = pd.read_table('https://raw.githubusercontent.com/rafasyafiq/pyda-online/master/Data/ex3.txt', sep='\\s+')\n",
        "result"
      ],
      "execution_count": 0,
      "outputs": []
    },
    {
      "cell_type": "code",
      "metadata": {
        "ExecuteTime": {
          "end_time": "2019-12-24T17:44:14.990299Z",
          "start_time": "2019-12-24T17:44:14.867993Z"
        },
        "id": "c_mNIluTA8Nd",
        "colab_type": "code",
        "colab": {}
      },
      "source": [
        "# call data frame from csv with skipped row\n",
        "pd.read_csv('https://raw.githubusercontent.com/rafasyafiq/pyda-online/master/Data/ex4.csv', skiprows=[0, 2,3])"
      ],
      "execution_count": 0,
      "outputs": []
    },
    {
      "cell_type": "markdown",
      "metadata": {
        "id": "9OIxUz5NA8Ne",
        "colab_type": "text"
      },
      "source": [
        "Handling missing values is an important and frequently nuanced part of the file parsing process. Missing data is usually either not present (empty string) or marked by some sentinel value. By default, pandas uses a set of commonly occurring sentinels, such as **NA** and **NUL**"
      ]
    },
    {
      "cell_type": "code",
      "metadata": {
        "ExecuteTime": {
          "end_time": "2019-12-24T17:44:15.304991Z",
          "start_time": "2019-12-24T17:44:15.169022Z"
        },
        "id": "cdfkz6bGA8Nh",
        "colab_type": "code",
        "colab": {}
      },
      "source": [
        "result = pd.read_csv(r'https://raw.githubusercontent.com/rafasyafiq/pyda-online/master/Data/ex5.csv')\n",
        "result"
      ],
      "execution_count": 0,
      "outputs": []
    },
    {
      "cell_type": "code",
      "metadata": {
        "ExecuteTime": {
          "end_time": "2019-12-24T17:44:15.550424Z",
          "start_time": "2019-12-24T17:44:15.307795Z"
        },
        "id": "W9Q2v59iA8Nj",
        "colab_type": "code",
        "colab": {}
      },
      "source": [
        "pd.isnull(result)"
      ],
      "execution_count": 0,
      "outputs": []
    },
    {
      "cell_type": "markdown",
      "metadata": {
        "id": "KCyZ7ue1A8Nl",
        "colab_type": "text"
      },
      "source": [
        "The na_values option can take either a list or set of strings to consider missing values"
      ]
    },
    {
      "cell_type": "code",
      "metadata": {
        "ExecuteTime": {
          "end_time": "2019-12-24T17:44:15.711268Z",
          "start_time": "2019-12-24T17:44:15.554376Z"
        },
        "id": "i_PmSyQqA8Nl",
        "colab_type": "code",
        "colab": {}
      },
      "source": [
        "result = pd.read_csv('https://raw.githubusercontent.com/rafasyafiq/pyda-online/master/Data/ex5.csv', na_values=['NULL'])\n",
        "result"
      ],
      "execution_count": 0,
      "outputs": []
    },
    {
      "cell_type": "code",
      "metadata": {
        "ExecuteTime": {
          "end_time": "2019-12-24T17:44:15.847179Z",
          "start_time": "2019-12-24T17:44:15.711268Z"
        },
        "id": "sCB1UH7SA8Nn",
        "colab_type": "code",
        "colab": {}
      },
      "source": [
        "# Different NA sentinels can be specified for each column in a dict\n",
        "\n",
        "sentinels = {'message': ['foo', 'NA'], 'something':['two']}"
      ],
      "execution_count": 0,
      "outputs": []
    },
    {
      "cell_type": "code",
      "metadata": {
        "ExecuteTime": {
          "end_time": "2019-12-24T17:44:16.005092Z",
          "start_time": "2019-12-24T17:44:15.851139Z"
        },
        "id": "mGXTV3XuA8Np",
        "colab_type": "code",
        "colab": {}
      },
      "source": [
        "pd.read_csv('https://raw.githubusercontent.com/rafasyafiq/pyda-online/master/Data/ex5.csv', na_values=sentinels)"
      ],
      "execution_count": 0,
      "outputs": []
    },
    {
      "cell_type": "markdown",
      "metadata": {
        "ExecuteTime": {
          "end_time": "2019-12-23T12:59:01.714350Z",
          "start_time": "2019-12-23T12:59:01.697710Z"
        },
        "id": "QeYHEPw8A8Nr",
        "colab_type": "text"
      },
      "source": [
        "## Reading Text Files in Pieces"
      ]
    },
    {
      "cell_type": "markdown",
      "metadata": {
        "id": "Xnt4E6vmA8Nr",
        "colab_type": "text"
      },
      "source": [
        "When processing very large files or figuring out the right set of arguments to correctly process a large file, you may only want to read in a small piece of a file or iterate\n",
        "through smaller chunks of the file.Before we look at a large file, we make the pandas display settings more compact"
      ]
    },
    {
      "cell_type": "code",
      "metadata": {
        "ExecuteTime": {
          "end_time": "2019-12-24T17:44:16.156659Z",
          "start_time": "2019-12-24T17:44:16.007763Z"
        },
        "id": "UQh1XtJ-A8Nr",
        "colab_type": "code",
        "colab": {}
      },
      "source": [
        "pd.options.display.max_rows = 10"
      ],
      "execution_count": 0,
      "outputs": []
    },
    {
      "cell_type": "code",
      "metadata": {
        "ExecuteTime": {
          "end_time": "2019-12-24T17:44:16.353691Z",
          "start_time": "2019-12-24T17:44:16.161827Z"
        },
        "id": "YYxI1Y5xA8Nt",
        "colab_type": "code",
        "colab": {}
      },
      "source": [
        "result = pd.read_csv('https://raw.githubusercontent.com/rafasyafiq/pyda-online/master/Data/ex6.csv')\n",
        "result"
      ],
      "execution_count": 0,
      "outputs": []
    },
    {
      "cell_type": "code",
      "metadata": {
        "ExecuteTime": {
          "end_time": "2019-12-24T17:44:16.491655Z",
          "start_time": "2019-12-24T17:44:16.356466Z"
        },
        "id": "kZuKIHUgA8Nv",
        "colab_type": "code",
        "colab": {}
      },
      "source": [
        "# nrows -  read a small number of rows \n",
        "\n",
        "pd.read_csv('https://raw.githubusercontent.com/rafasyafiq/pyda-online/master/Data/ex6.csv', nrows=5)"
      ],
      "execution_count": 0,
      "outputs": []
    },
    {
      "cell_type": "markdown",
      "metadata": {
        "id": "Dnfyl3HEA8Nx",
        "colab_type": "text"
      },
      "source": [
        "To read a file in pieces, specify a **chunksize** as a number of rows\n",
        "\n",
        "The TextParser object returned by read_csv allows you to iterate over the parts of the file according to the chunksize."
      ]
    },
    {
      "cell_type": "code",
      "metadata": {
        "ExecuteTime": {
          "end_time": "2019-12-24T17:44:16.639722Z",
          "start_time": "2019-12-24T17:44:16.497681Z"
        },
        "id": "QPFRr11oA8Nx",
        "colab_type": "code",
        "colab": {}
      },
      "source": [
        "chunker = pd.read_csv('https://raw.githubusercontent.com/rafasyafiq/pyda-online/master/Data/ex6.csv', chunksize=1000)\n",
        "chunker"
      ],
      "execution_count": 0,
      "outputs": []
    },
    {
      "cell_type": "code",
      "metadata": {
        "ExecuteTime": {
          "end_time": "2019-12-24T17:44:16.931145Z",
          "start_time": "2019-12-24T17:44:16.643350Z"
        },
        "id": "MYYUtfJ2A8N0",
        "colab_type": "code",
        "colab": {}
      },
      "source": [
        "chunker = pd.read_csv('https://raw.githubusercontent.com/rafasyafiq/pyda-online/master/Data/ex6.csv', chunksize=1000)\n",
        "tot = pd.Series([])\n",
        "for piece in chunker:\n",
        "    tot = tot.add(piece['key'].value_counts(), fill_value=0)\n",
        "tot = tot.sort_values(ascending=False)"
      ],
      "execution_count": 0,
      "outputs": []
    },
    {
      "cell_type": "code",
      "metadata": {
        "ExecuteTime": {
          "end_time": "2019-12-24T17:44:16.948713Z",
          "start_time": "2019-12-24T17:44:16.933227Z"
        },
        "id": "C25eU0N6A8N1",
        "colab_type": "code",
        "colab": {}
      },
      "source": [
        "tot[:10]"
      ],
      "execution_count": 0,
      "outputs": []
    },
    {
      "cell_type": "markdown",
      "metadata": {
        "id": "HWK10zKlA8N3",
        "colab_type": "text"
      },
      "source": [
        "## Writing Data to Text Format"
      ]
    },
    {
      "cell_type": "code",
      "metadata": {
        "ExecuteTime": {
          "end_time": "2019-12-24T17:44:17.102861Z",
          "start_time": "2019-12-24T17:44:16.948713Z"
        },
        "id": "7TsAbqxPA8N3",
        "colab_type": "code",
        "colab": {}
      },
      "source": [
        "data = pd.read_csv('https://raw.githubusercontent.com/rafasyafiq/pyda-online/master/Data/ex5.csv')\n",
        "data"
      ],
      "execution_count": 0,
      "outputs": []
    },
    {
      "cell_type": "markdown",
      "metadata": {
        "id": "mGLwvxcLA8N5",
        "colab_type": "text"
      },
      "source": [
        "Using DataFrame’s **to_csv** method, we can write the data out to a comma separated file"
      ]
    },
    {
      "cell_type": "code",
      "metadata": {
        "ExecuteTime": {
          "end_time": "2019-12-24T17:44:17.249514Z",
          "start_time": "2019-12-24T17:44:17.105944Z"
        },
        "id": "gNSnyNBKA8N6",
        "colab_type": "code",
        "colab": {}
      },
      "source": [
        "data.to_csv"
      ],
      "execution_count": 0,
      "outputs": []
    },
    {
      "cell_type": "code",
      "metadata": {
        "ExecuteTime": {
          "end_time": "2019-12-24T17:44:17.544879Z",
          "start_time": "2019-12-24T17:44:17.431586Z"
        },
        "id": "tQyip8i8A8N9",
        "colab_type": "code",
        "colab": {}
      },
      "source": [
        "import sys\n",
        "\n",
        "data.to_csv(sys.stdout, sep='|')"
      ],
      "execution_count": 0,
      "outputs": []
    },
    {
      "cell_type": "markdown",
      "metadata": {
        "id": "ZGR1s6JIA8N_",
        "colab_type": "text"
      },
      "source": [
        "Missing values appear as empty strings in the output. You might want to denote them by some other sentinel value"
      ]
    },
    {
      "cell_type": "code",
      "metadata": {
        "ExecuteTime": {
          "end_time": "2019-12-24T17:44:17.693974Z",
          "start_time": "2019-12-24T17:44:17.552304Z"
        },
        "id": "A0de7r4YA8OA",
        "colab_type": "code",
        "colab": {}
      },
      "source": [
        "data.to_csv(sys.stdout, na_rep='NULL')"
      ],
      "execution_count": 0,
      "outputs": []
    },
    {
      "cell_type": "code",
      "metadata": {
        "ExecuteTime": {
          "end_time": "2019-12-24T17:44:17.831547Z",
          "start_time": "2019-12-24T17:44:17.699052Z"
        },
        "id": "d1295Ih8A8OB",
        "colab_type": "code",
        "colab": {}
      },
      "source": [
        "# With no other options specified, both the row and column labels \n",
        "# are written. Both of these can be disabled\n",
        "\n",
        "data.to_csv(sys.stdout, index=False, header=False)"
      ],
      "execution_count": 0,
      "outputs": []
    },
    {
      "cell_type": "code",
      "metadata": {
        "ExecuteTime": {
          "end_time": "2019-12-24T17:44:17.980296Z",
          "start_time": "2019-12-24T17:44:17.836819Z"
        },
        "id": "bumH0vZ4A8OD",
        "colab_type": "code",
        "colab": {}
      },
      "source": [
        "# write only a subset of the columns, and in an order of your choosing\n",
        "\n",
        "data.to_csv(sys.stdout ,index=False, columns=['a', 'b', 'c'])"
      ],
      "execution_count": 0,
      "outputs": []
    },
    {
      "cell_type": "markdown",
      "metadata": {
        "ExecuteTime": {
          "end_time": "2019-12-23T16:17:13.529427Z",
          "start_time": "2019-12-23T16:17:13.524002Z"
        },
        "id": "xvFK5kLFA8Oc",
        "colab_type": "text"
      },
      "source": [
        "## JSON Data"
      ]
    },
    {
      "cell_type": "code",
      "metadata": {
        "ExecuteTime": {
          "end_time": "2019-12-24T17:44:19.901997Z",
          "start_time": "2019-12-24T17:44:19.761474Z"
        },
        "id": "pTCLXGhDA8Oc",
        "colab_type": "code",
        "colab": {}
      },
      "source": [
        "obj = '''\n",
        "{\"name\": \"Wes\",\n",
        " \"places_lived\": [\"United States\", \"Spain\", \"Germany\"],\n",
        " \"pet\": null,\n",
        " \"siblings\": [{\"name\": \"Scott\", \"age\": 30, \"pets\": [\"Zeus\", \"Zuko\"]},\n",
        " {\"name\": \"Katie\", \"age\": 38,\n",
        " \"pets\": [\"Sixes\", \"Stache\", \"Cisco\"]}]\n",
        "}\n",
        "'''"
      ],
      "execution_count": 0,
      "outputs": []
    },
    {
      "cell_type": "code",
      "metadata": {
        "ExecuteTime": {
          "end_time": "2019-12-24T17:44:20.068177Z",
          "start_time": "2019-12-24T17:44:19.907459Z"
        },
        "id": "11trsjA9A8Oe",
        "colab_type": "code",
        "colab": {}
      },
      "source": [
        "import json"
      ],
      "execution_count": 0,
      "outputs": []
    },
    {
      "cell_type": "code",
      "metadata": {
        "ExecuteTime": {
          "end_time": "2019-12-24T17:44:20.222470Z",
          "start_time": "2019-12-24T17:44:20.072556Z"
        },
        "id": "qw10eANmA8Of",
        "colab_type": "code",
        "colab": {}
      },
      "source": [
        "result = json.loads(obj)\n",
        "result"
      ],
      "execution_count": 0,
      "outputs": []
    },
    {
      "cell_type": "code",
      "metadata": {
        "ExecuteTime": {
          "end_time": "2019-12-24T17:44:20.371155Z",
          "start_time": "2019-12-24T17:44:20.228491Z"
        },
        "id": "IdmMTVsaA8Oh",
        "colab_type": "code",
        "colab": {}
      },
      "source": [
        "# json.dumps, on the other hand, converts a Python object back to JSON:\n",
        "\n",
        "asjson = json.dumps(result)"
      ],
      "execution_count": 0,
      "outputs": []
    },
    {
      "cell_type": "code",
      "metadata": {
        "ExecuteTime": {
          "end_time": "2019-12-24T17:44:20.540849Z",
          "start_time": "2019-12-24T17:44:20.377740Z"
        },
        "id": "eISm1MUMA8Oj",
        "colab_type": "code",
        "colab": {}
      },
      "source": [
        "siblings = pd.DataFrame(result['siblings'], columns=['name', 'age', 'pets'])\n",
        "siblings"
      ],
      "execution_count": 0,
      "outputs": []
    },
    {
      "cell_type": "markdown",
      "metadata": {
        "id": "oKor7xo7A8Om",
        "colab_type": "text"
      },
      "source": [
        "The **pandas.read_json** can automatically convert JSON datasets in specific arrangements into a Series or DataFrame."
      ]
    },
    {
      "cell_type": "code",
      "metadata": {
        "ExecuteTime": {
          "end_time": "2019-12-24T17:44:20.868493Z",
          "start_time": "2019-12-24T17:44:20.731146Z"
        },
        "id": "OdFskJ-pA8Oo",
        "colab_type": "code",
        "colab": {}
      },
      "source": [
        "data = pd.read_json('https://raw.githubusercontent.com/rafasyafiq/pyda-online/master/Data/example.json')\n",
        "data"
      ],
      "execution_count": 0,
      "outputs": []
    },
    {
      "cell_type": "code",
      "metadata": {
        "ExecuteTime": {
          "end_time": "2019-12-24T17:44:21.008429Z",
          "start_time": "2019-12-24T17:44:20.873164Z"
        },
        "id": "uqc_lfPZA8Or",
        "colab_type": "code",
        "colab": {}
      },
      "source": [
        "# pandas -> json\n",
        "\n",
        "print(data.to_json())\n",
        "print(data.to_json(orient='records'))"
      ],
      "execution_count": 0,
      "outputs": []
    }
  ]
}