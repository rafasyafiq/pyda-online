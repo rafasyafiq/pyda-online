{
  "nbformat": 4,
  "nbformat_minor": 0,
  "metadata": {
    "kernelspec": {
      "display_name": "Python 2",
      "language": "python",
      "name": "python2"
    },
    "language_info": {
      "codemirror_mode": {
        "name": "ipython",
        "version": 2
      },
      "file_extension": ".py",
      "mimetype": "text/x-python",
      "name": "python",
      "nbconvert_exporter": "python",
      "pygments_lexer": "ipython2",
      "version": "2.7.7"
    },
    "colab": {
      "name": "001_Data Projects - Titanic.ipynb",
      "provenance": [],
      "include_colab_link": true
    }
  },
  "cells": [
    {
      "cell_type": "markdown",
      "metadata": {
        "id": "view-in-github",
        "colab_type": "text"
      },
      "source": [
        "<a href=\"https://colab.research.google.com/github/rafasyafiq/pyda-online/blob/master/day3/001_Data_Projects_Titanic.ipynb\" target=\"_parent\"><img src=\"https://colab.research.google.com/assets/colab-badge.svg\" alt=\"Open In Colab\"/></a>"
      ]
    },
    {
      "cell_type": "markdown",
      "metadata": {
        "id": "9J0Pk0h_yBJd",
        "colab_type": "text"
      },
      "source": [
        "##Welcome to your first Data Project!"
      ]
    },
    {
      "cell_type": "markdown",
      "metadata": {
        "id": "FXxlwqAFyBJe",
        "colab_type": "text"
      },
      "source": [
        "Check out the Kaggle Titanic Challenge at the following link:\n",
        "\n",
        "https://www.kaggle.com/c/titanic-gettingStarted\n",
        "\n",
        "Note: You'll need to make an account to access the data."
      ]
    },
    {
      "cell_type": "markdown",
      "metadata": {
        "id": "EuFznwKTyBJf",
        "colab_type": "text"
      },
      "source": [
        "Download the train.csv file and save it to the same location as your iPython Notebooks. "
      ]
    },
    {
      "cell_type": "code",
      "metadata": {
        "id": "LUdtI5nHyBJg",
        "colab_type": "code",
        "colab": {}
      },
      "source": [
        "#Now let's open it with pandas\n",
        "import pandas as pd\n",
        "from pandas import Series,DataFrame\n",
        "\n",
        "# Set up the Titanic csv file as a DataFrame\n",
        "titanic_df = pd.read_csv('https://raw.githubusercontent.com/rafasyafiq/pyda-online/master/Data/train%20(1).csv')\n",
        "\n",
        "# Let's see a preview of the data\n",
        "titanic_df.head()"
      ],
      "execution_count": 0,
      "outputs": []
    },
    {
      "cell_type": "code",
      "metadata": {
        "id": "BHaSxLJ7yBJk",
        "colab_type": "code",
        "colab": {}
      },
      "source": [
        "# We could also get overall info for the dataset\n",
        "titanic_df.info()"
      ],
      "execution_count": 0,
      "outputs": []
    },
    {
      "cell_type": "markdown",
      "metadata": {
        "id": "bKr4bM8qyBJn",
        "colab_type": "text"
      },
      "source": [
        "All good data analysis projects begin with trying to answer questions. Now that we know what column category data we have let's think of some questions or insights we would like to obtain from the data. So here's a list of questions we'll try to answer using our new data analysis skills!\n",
        "\n",
        "First some basic questions:\n",
        "\n",
        "    1.) Who were the passengers on the Titanic? (Ages,Gender,Class,..etc)\n",
        "    2.) What deck were the passengers on and how does that relate to their class?\n",
        "    3.) Where did the passengers come from?\n",
        "    4.) Who was alone and who was with family?\n",
        "    \n",
        "Then we'll dig deeper, with a broader question:\n",
        "\n",
        "    5.) What factors helped someone survive the sinking?"
      ]
    },
    {
      "cell_type": "markdown",
      "metadata": {
        "id": "FnY13f5EyBJn",
        "colab_type": "text"
      },
      "source": [
        "So let's start with the first question: Who were the passengers on the titanic?"
      ]
    },
    {
      "cell_type": "code",
      "metadata": {
        "id": "WvGI-TCryBJo",
        "colab_type": "code",
        "colab": {}
      },
      "source": [
        "# Let's import what we'll need for the analysis and visualization\n",
        "import numpy as np\n",
        "import matplotlib.pyplot as plt\n",
        "import seaborn as sns\n",
        "%matplotlib inline"
      ],
      "execution_count": 0,
      "outputs": []
    },
    {
      "cell_type": "code",
      "metadata": {
        "id": "WmnnfgseyBJq",
        "colab_type": "code",
        "colab": {}
      },
      "source": [
        "# Let's first check gender\n",
        "sns.catplot(x='Sex', data=titanic_df, kind='count')"
      ],
      "execution_count": 0,
      "outputs": []
    },
    {
      "cell_type": "code",
      "metadata": {
        "id": "Vh9pCH4XyBJt",
        "colab_type": "code",
        "colab": {}
      },
      "source": [
        "# Now let's seperate the genders by classes, remember we can use the 'hue' arguement here!\n",
        "sns.catplot('Pclass',data=titanic_df,hue='Sex',kind ='count')"
      ],
      "execution_count": 0,
      "outputs": []
    },
    {
      "cell_type": "markdown",
      "metadata": {
        "id": "-deElEzIyBJw",
        "colab_type": "text"
      },
      "source": [
        "Wow, quite a few more males in the 3rd class than females, an interesting find. However, it might be useful to know the split between males,females,and children. How can we go about this?"
      ]
    },
    {
      "cell_type": "code",
      "metadata": {
        "id": "403L3twJyBJx",
        "colab_type": "code",
        "colab": {}
      },
      "source": [
        "# We'll treat anyone as under 16 as a child, and then use the apply technique with a function to create a new column\n",
        "\n",
        "# Revisit Lecture 45 for a refresher on how to do this.\n",
        "\n",
        "# First let's make a function to sort through the sex \n",
        "def male_female_child(passenger):\n",
        "    # Take the Age and Sex\n",
        "    age,sex = passenger\n",
        "    # Compare the age, otherwise leave the sex\n",
        "    if age < 16:\n",
        "        return 'child'\n",
        "    else:\n",
        "        return sex\n",
        "    \n",
        "\n",
        "# We'll define a new column called 'person', remember to specify axis=1 for columns and not index\n",
        "titanic_df['person'] = titanic_df[['Age','Sex']].apply(male_female_child,axis=1)"
      ],
      "execution_count": 0,
      "outputs": []
    },
    {
      "cell_type": "code",
      "metadata": {
        "scrolled": true,
        "id": "-gU1JzQHyBJ0",
        "colab_type": "code",
        "colab": {}
      },
      "source": [
        "# Let's see if this worked, check out the first ten rows\n",
        "titanic_df[0:10]"
      ],
      "execution_count": 0,
      "outputs": []
    },
    {
      "cell_type": "markdown",
      "metadata": {
        "id": "AbkEIWSZyBJ2",
        "colab_type": "text"
      },
      "source": [
        "Excellent! Now we have seperated the passengers between female,male,and child. This will be important later on beacuse of the famous \"Women and children first policy\"!"
      ]
    },
    {
      "cell_type": "code",
      "metadata": {
        "id": "I5LcsO6OyBJ3",
        "colab_type": "code",
        "colab": {}
      },
      "source": [
        "# Let's try the catplot again!\n",
        "sns.catplot('Pclass',data=titanic_df,hue='person',kind='count')"
      ],
      "execution_count": 0,
      "outputs": []
    },
    {
      "cell_type": "markdown",
      "metadata": {
        "id": "8G084dQiyBJ5",
        "colab_type": "text"
      },
      "source": [
        "Interesting, quite a bit of children in 3rd class and not so many in 1st! How about we create a distribution of the ages to get a more precise picture of the who the passengers were."
      ]
    },
    {
      "cell_type": "code",
      "metadata": {
        "id": "ROOpN43jyBJ5",
        "colab_type": "code",
        "colab": {}
      },
      "source": [
        "# Quick way to create a histogram using pandas\n",
        "titanic_df['Age'].hist(bins=70)"
      ],
      "execution_count": 0,
      "outputs": []
    },
    {
      "cell_type": "code",
      "metadata": {
        "id": "GPXtVThByBJ7",
        "colab_type": "code",
        "colab": {}
      },
      "source": [
        "# We could also get a quick overall comparison of male,female,child\n",
        "titanic_df['person'].value_counts()"
      ],
      "execution_count": 0,
      "outputs": []
    },
    {
      "cell_type": "code",
      "metadata": {
        "id": "5iKuMv0vyBJ-",
        "colab_type": "code",
        "colab": {}
      },
      "source": [
        "# Another way to visualize the data is to use FacetGrid to plot multiple kedplots on one plot\n",
        "\n",
        "# Set the figure equal to a facetgrid with the pandas dataframe as its data source, set the hue, and change the aspect ratio.\n",
        "fig = sns.FacetGrid(titanic_df, hue=\"Sex\",aspect=4)\n",
        "\n",
        "# Next use map to plot all the possible kdeplots for the 'Age' column by the hue choice\n",
        "fig.map(sns.kdeplot,'Age',shade= True)\n",
        "\n",
        "# Set the x max limit by the oldest passenger\n",
        "oldest = titanic_df['Age'].max()\n",
        "\n",
        "#Since we know no one can be negative years old set the x lower limit at 0\n",
        "fig.set(xlim=(0,oldest))\n",
        "\n",
        "#Finally add a legend\n",
        "fig.add_legend()"
      ],
      "execution_count": 0,
      "outputs": []
    },
    {
      "cell_type": "code",
      "metadata": {
        "id": "RhzEoMeyyBKA",
        "colab_type": "code",
        "colab": {}
      },
      "source": [
        "# We could have done the same thing for the 'person' column to include children:\n",
        "\n",
        "fig = sns.FacetGrid(titanic_df, hue=\"person\",aspect=4)\n",
        "fig.map(sns.kdeplot,'Age',shade= True)\n",
        "oldest = titanic_df['Age'].max()\n",
        "fig.set(xlim=(0,oldest))\n",
        "fig.add_legend()"
      ],
      "execution_count": 0,
      "outputs": []
    },
    {
      "cell_type": "code",
      "metadata": {
        "id": "XSNB5HjhyBKC",
        "colab_type": "code",
        "colab": {}
      },
      "source": [
        "# Let's do the same for class by changing the hue argument:\n",
        "fig = sns.FacetGrid(titanic_df, hue=\"Pclass\",aspect=4)\n",
        "fig.map(sns.kdeplot,'Age',shade= True)\n",
        "oldest = titanic_df['Age'].max()\n",
        "fig.set(xlim=(0,oldest))\n",
        "fig.add_legend()\n"
      ],
      "execution_count": 0,
      "outputs": []
    },
    {
      "cell_type": "markdown",
      "metadata": {
        "id": "jxWYzbNuyBKE",
        "colab_type": "text"
      },
      "source": [
        "We've gotten a pretty good picture of who the passengers were based on Sex, Age, and Class. So let's move on to our 2nd question: What deck were the passengers on and how does that relate to their class?"
      ]
    },
    {
      "cell_type": "code",
      "metadata": {
        "id": "6Si4AdKmyBKE",
        "colab_type": "code",
        "colab": {}
      },
      "source": [
        "# Let's get a quick look at our dataset again\n",
        "titanic_df.head()"
      ],
      "execution_count": 0,
      "outputs": []
    },
    {
      "cell_type": "markdown",
      "metadata": {
        "id": "RJnlTxfHyBKH",
        "colab_type": "text"
      },
      "source": [
        "So we can see that the Cabin column has information on the deck, but it has several NaN values, so we'll have to drop them."
      ]
    },
    {
      "cell_type": "code",
      "metadata": {
        "id": "DcCrHWVPyBKI",
        "colab_type": "code",
        "colab": {}
      },
      "source": [
        "# First we'll drop the NaN values and create a new object, deck\n",
        "deck = titanic_df['Cabin'].dropna()"
      ],
      "execution_count": 0,
      "outputs": []
    },
    {
      "cell_type": "code",
      "metadata": {
        "id": "rk1jT9OJyBKK",
        "colab_type": "code",
        "colab": {}
      },
      "source": [
        "# Quick preview of the decks\n",
        "deck.head()"
      ],
      "execution_count": 0,
      "outputs": []
    },
    {
      "cell_type": "markdown",
      "metadata": {
        "id": "d-bygD7UyBKN",
        "colab_type": "text"
      },
      "source": [
        "Notice we only need the first letter of the deck to classify its level (e.g. A,B,C,D,E,F,G)"
      ]
    },
    {
      "cell_type": "code",
      "metadata": {
        "id": "nP93M3afyBKN",
        "colab_type": "code",
        "colab": {}
      },
      "source": [
        "# So let's grab that letter for the deck level with a simple for loop\n",
        "\n",
        "# Set empty list\n",
        "levels = []\n",
        "\n",
        "# Loop to grab first letter\n",
        "for level in deck:\n",
        "    levels.append(level[0])    \n",
        "\n",
        "# Reset DataFrame and use factor plot\n",
        "cabin_df = DataFrame(levels)\n",
        "cabin_df.columns = ['Cabin']\n",
        "sns.catplot('Cabin',data=cabin_df,palette='winter_d',kind='count')"
      ],
      "execution_count": 0,
      "outputs": []
    },
    {
      "cell_type": "markdown",
      "metadata": {
        "id": "69KJsObsyBKP",
        "colab_type": "text"
      },
      "source": [
        "Interesting to note we have a 'T' deck value there which doesn't make sense, we  can drop it out with the following code:"
      ]
    },
    {
      "cell_type": "code",
      "metadata": {
        "id": "OTUkx8R0yBKP",
        "colab_type": "code",
        "colab": {}
      },
      "source": [
        "# Redefine cabin_df as everything but where the row was equal to 'T'\n",
        "cabin_df = cabin_df[cabin_df.Cabin != 'T']\n",
        "#Replot\n",
        "sns.catplot('Cabin',data=cabin_df,palette='summer',kind='count')"
      ],
      "execution_count": 0,
      "outputs": []
    },
    {
      "cell_type": "markdown",
      "metadata": {
        "id": "Vn3Aai9syBKR",
        "colab_type": "text"
      },
      "source": [
        "Quick note: I used 'winter_d' and 'summer' as my palettes, but you can choose any palette you want. Check out this link for more palette names, you can add '_d' to the end of any palette name to make it darker.\n",
        "\n",
        "Link: http://matplotlib.org/users/colormaps.html"
      ]
    },
    {
      "cell_type": "markdown",
      "metadata": {
        "id": "F8Xi2ERvyBKR",
        "colab_type": "text"
      },
      "source": [
        "Great now that we've analyzed the distribution by decks, let's go ahead and answer our third question:\n",
        "\n",
        "    3.) Where did the passengers come from?"
      ]
    },
    {
      "cell_type": "code",
      "metadata": {
        "id": "rhRAd8anyBKS",
        "colab_type": "code",
        "colab": {
          "base_uri": "https://localhost:8080/",
          "height": 204
        },
        "outputId": "0498b271-c6a4-4908-b5db-0a563f8c9bcf"
      },
      "source": [
        "# Let's take another look at our original data\n",
        "titanic_df.head()"
      ],
      "execution_count": 43,
      "outputs": [
        {
          "output_type": "execute_result",
          "data": {
            "text/plain": [
              "   PassengerId  Survived  Pclass  ... Cabin Embarked  person\n",
              "0            1         0       3  ...   NaN        S    male\n",
              "1            2         1       1  ...   C85        C  female\n",
              "2            3         1       3  ...   NaN        S  female\n",
              "3            4         1       1  ...  C123        S  female\n",
              "4            5         0       3  ...   NaN        S    male\n",
              "\n",
              "[5 rows x 13 columns]"
            ],
            "text/html": [
              "<div>\n",
              "<style scoped>\n",
              "    .dataframe tbody tr th:only-of-type {\n",
              "        vertical-align: middle;\n",
              "    }\n",
              "\n",
              "    .dataframe tbody tr th {\n",
              "        vertical-align: top;\n",
              "    }\n",
              "\n",
              "    .dataframe thead th {\n",
              "        text-align: right;\n",
              "    }\n",
              "</style>\n",
              "<table border=\"1\" class=\"dataframe\">\n",
              "  <thead>\n",
              "    <tr style=\"text-align: right;\">\n",
              "      <th></th>\n",
              "      <th>PassengerId</th>\n",
              "      <th>Survived</th>\n",
              "      <th>Pclass</th>\n",
              "      <th>Name</th>\n",
              "      <th>Sex</th>\n",
              "      <th>Age</th>\n",
              "      <th>SibSp</th>\n",
              "      <th>Parch</th>\n",
              "      <th>Ticket</th>\n",
              "      <th>Fare</th>\n",
              "      <th>Cabin</th>\n",
              "      <th>Embarked</th>\n",
              "      <th>person</th>\n",
              "    </tr>\n",
              "  </thead>\n",
              "  <tbody>\n",
              "    <tr>\n",
              "      <th>0</th>\n",
              "      <td>1</td>\n",
              "      <td>0</td>\n",
              "      <td>3</td>\n",
              "      <td>Braund, Mr. Owen Harris</td>\n",
              "      <td>male</td>\n",
              "      <td>22.0</td>\n",
              "      <td>1</td>\n",
              "      <td>0</td>\n",
              "      <td>A/5 21171</td>\n",
              "      <td>7.2500</td>\n",
              "      <td>NaN</td>\n",
              "      <td>S</td>\n",
              "      <td>male</td>\n",
              "    </tr>\n",
              "    <tr>\n",
              "      <th>1</th>\n",
              "      <td>2</td>\n",
              "      <td>1</td>\n",
              "      <td>1</td>\n",
              "      <td>Cumings, Mrs. John Bradley (Florence Briggs Th...</td>\n",
              "      <td>female</td>\n",
              "      <td>38.0</td>\n",
              "      <td>1</td>\n",
              "      <td>0</td>\n",
              "      <td>PC 17599</td>\n",
              "      <td>71.2833</td>\n",
              "      <td>C85</td>\n",
              "      <td>C</td>\n",
              "      <td>female</td>\n",
              "    </tr>\n",
              "    <tr>\n",
              "      <th>2</th>\n",
              "      <td>3</td>\n",
              "      <td>1</td>\n",
              "      <td>3</td>\n",
              "      <td>Heikkinen, Miss. Laina</td>\n",
              "      <td>female</td>\n",
              "      <td>26.0</td>\n",
              "      <td>0</td>\n",
              "      <td>0</td>\n",
              "      <td>STON/O2. 3101282</td>\n",
              "      <td>7.9250</td>\n",
              "      <td>NaN</td>\n",
              "      <td>S</td>\n",
              "      <td>female</td>\n",
              "    </tr>\n",
              "    <tr>\n",
              "      <th>3</th>\n",
              "      <td>4</td>\n",
              "      <td>1</td>\n",
              "      <td>1</td>\n",
              "      <td>Futrelle, Mrs. Jacques Heath (Lily May Peel)</td>\n",
              "      <td>female</td>\n",
              "      <td>35.0</td>\n",
              "      <td>1</td>\n",
              "      <td>0</td>\n",
              "      <td>113803</td>\n",
              "      <td>53.1000</td>\n",
              "      <td>C123</td>\n",
              "      <td>S</td>\n",
              "      <td>female</td>\n",
              "    </tr>\n",
              "    <tr>\n",
              "      <th>4</th>\n",
              "      <td>5</td>\n",
              "      <td>0</td>\n",
              "      <td>3</td>\n",
              "      <td>Allen, Mr. William Henry</td>\n",
              "      <td>male</td>\n",
              "      <td>35.0</td>\n",
              "      <td>0</td>\n",
              "      <td>0</td>\n",
              "      <td>373450</td>\n",
              "      <td>8.0500</td>\n",
              "      <td>NaN</td>\n",
              "      <td>S</td>\n",
              "      <td>male</td>\n",
              "    </tr>\n",
              "  </tbody>\n",
              "</table>\n",
              "</div>"
            ]
          },
          "metadata": {
            "tags": []
          },
          "execution_count": 43
        }
      ]
    },
    {
      "cell_type": "markdown",
      "metadata": {
        "id": "Dl3KQ3J9yBKT",
        "colab_type": "text"
      },
      "source": [
        "Note here that the Embarked column has C,Q,and S values. Reading about the project on Kaggle you'll note that these stand for Cherbourg, Queenstown, Southhampton."
      ]
    },
    {
      "cell_type": "code",
      "metadata": {
        "scrolled": true,
        "id": "2nWhDPyKyBKU",
        "colab_type": "code",
        "colab": {}
      },
      "source": [
        "# Now we can make a quick catplot to check out the results, note the x_order argument, used to deal with NaN values\n",
        "sns.catplot('Embarked',data=titanic_df,hue='Pclass',col_order=['S','C','Q'],kind='count')"
      ],
      "execution_count": 0,
      "outputs": []
    },
    {
      "cell_type": "markdown",
      "metadata": {
        "id": "qlOlCy1byBKW",
        "colab_type": "text"
      },
      "source": [
        "An interesting find here is that in Queenstown, almost all the passengers that boarded there were 3rd class. It would be intersting to look at the economics of that town in that time period for further investigation.\n",
        "\n",
        "Now let's take a look at the 4th question:\n",
        "\n",
        "    4.) Who was alone and who was with family?"
      ]
    },
    {
      "cell_type": "code",
      "metadata": {
        "id": "BXFMCum7yBKW",
        "colab_type": "code",
        "colab": {}
      },
      "source": [
        "# Let's start by adding a new column to define alone\n",
        "\n",
        "# We'll add the parent/child column with the sibsp column\n",
        "titanic_df['Alone'] =  titanic_df.Parch + titanic_df.SibSp\n",
        "titanic_df['Alone']"
      ],
      "execution_count": 0,
      "outputs": []
    },
    {
      "cell_type": "markdown",
      "metadata": {
        "id": "Gv4obwUwyBKY",
        "colab_type": "text"
      },
      "source": [
        "Now we know that if the Alone column is anything but 0, then the passenger had family aboard and wasn't alone. So let's change the column now so that if the value is greater than 0, we know the passenger was with his/her family, otherwise they were alone.\n",
        "\n"
      ]
    },
    {
      "cell_type": "code",
      "metadata": {
        "id": "K2q85AuVyBKY",
        "colab_type": "code",
        "colab": {}
      },
      "source": [
        "# Look for >0 or ==0 to set alone status\n",
        "titanic_df['Alone'].loc[titanic_df['Alone'] >0] = 'With Family'\n",
        "titanic_df['Alone'].loc[titanic_df['Alone'] == 0] = 'Alone'\n",
        "\n",
        "# Note it's okay to ignore an  error that sometimes pops up here. For more info check out this link\n",
        "url_info = 'http://stackoverflow.com/questions/20625582/how-to-deal-with-this-pandas-warning'"
      ],
      "execution_count": 0,
      "outputs": []
    },
    {
      "cell_type": "code",
      "metadata": {
        "id": "6ctL0VR7yBKa",
        "colab_type": "code",
        "colab": {}
      },
      "source": [
        "# Let's check to make sure it worked\n",
        "titanic_df.head()"
      ],
      "execution_count": 0,
      "outputs": []
    },
    {
      "cell_type": "code",
      "metadata": {
        "id": "FWGe8stbyBKd",
        "colab_type": "code",
        "colab": {}
      },
      "source": [
        "# Now let's get a simple visualization!\n",
        "sns.catplot('Alone',data=titanic_df,palette='Blues',kind='count')"
      ],
      "execution_count": 0,
      "outputs": []
    },
    {
      "cell_type": "markdown",
      "metadata": {
        "collapsed": false,
        "id": "0s7D9yIzyBKf",
        "colab_type": "text"
      },
      "source": [
        "Great work! Now that we've throughly analyzed the data let's go ahead and take a look at the most interesting (and open-ended) question: *What factors helped someone survive the sinking?*"
      ]
    },
    {
      "cell_type": "code",
      "metadata": {
        "id": "EuOG7BsfyBKf",
        "colab_type": "code",
        "colab": {}
      },
      "source": [
        "# Let's start by creating a new column for legibility purposes through mapping (Lec 36)\n",
        "titanic_df[\"Survivor\"] = titanic_df.Survived.map({0: \"no\", 1: \"yes\"})\n",
        "\n",
        "# Let's just get a quick overall view of survied vs died. \n",
        "sns.catplot('Survivor',data=titanic_df,palette='Set1',kind='count')"
      ],
      "execution_count": 0,
      "outputs": []
    },
    {
      "cell_type": "markdown",
      "metadata": {
        "id": "qs6Jr6q0yBKh",
        "colab_type": "text"
      },
      "source": [
        "So quite a few more people died than those who survived. Let's see if the class of the passengers had an effect on their survival rate, since the movie Titanic popularized the notion that the 3rd class passengers did not do as well as their 1st and 2nd class counterparts."
      ]
    },
    {
      "cell_type": "code",
      "metadata": {
        "id": "w7LhXHuCyBKj",
        "colab_type": "code",
        "colab": {}
      },
      "source": [
        "# Let's use a catplot again, but now considering class\n",
        "sns.catplot(x='Pclass',y='Survived',data=titanic_df,kind='point')"
      ],
      "execution_count": 0,
      "outputs": []
    },
    {
      "cell_type": "markdown",
      "metadata": {
        "id": "CdUX2X9xyBKk",
        "colab_type": "text"
      },
      "source": [
        "Look like survival rates for the 3rd class are substantially lower! But maybe this effect is being caused by the large amount of men in the 3rd class in combination with the women and children first policy. Let's use 'hue' to get a clearer picture on this."
      ]
    },
    {
      "cell_type": "code",
      "metadata": {
        "id": "l7VtxcOPyBKl",
        "colab_type": "code",
        "colab": {}
      },
      "source": [
        "# Let's use a catplot again, but now considering class and gender\n",
        "sns.catplot('Pclass','Survived',hue='person',data=titanic_df,kind='point')"
      ],
      "execution_count": 0,
      "outputs": []
    },
    {
      "cell_type": "markdown",
      "metadata": {
        "id": "IU7v4_6WyBKn",
        "colab_type": "text"
      },
      "source": [
        "From this data it looks like being a male or being in 3rd class were both not favourable for survival. Even regardless of class the result of being a male in any class dramatically decreases your chances of survival.\n",
        "\n",
        "But what about age? Did being younger or older have an effect on survival rate?"
      ]
    },
    {
      "cell_type": "code",
      "metadata": {
        "id": "_UddJIYpyBKn",
        "colab_type": "code",
        "colab": {}
      },
      "source": [
        "# Let's use a linear plot on age versus survival\n",
        "sns.lmplot('Age','Survived',data=titanic_df)"
      ],
      "execution_count": 0,
      "outputs": []
    },
    {
      "cell_type": "markdown",
      "metadata": {
        "id": "AnwMFq7IyBKp",
        "colab_type": "text"
      },
      "source": [
        "Looks like there is a general trend that the older the passenger was, the less likely they survived. Let's go ahead and use hue to take a look at the effect of class and age."
      ]
    },
    {
      "cell_type": "code",
      "metadata": {
        "id": "MVQ6OIGyyBKp",
        "colab_type": "code",
        "colab": {}
      },
      "source": [
        "# Let's use a linear plot on age versus survival using hue for class seperation\n",
        "sns.lmplot('Age','Survived',hue='Pclass',data=titanic_df,palette='winter')"
      ],
      "execution_count": 0,
      "outputs": []
    },
    {
      "cell_type": "markdown",
      "metadata": {
        "id": "VN285JkXyBKr",
        "colab_type": "text"
      },
      "source": [
        "We can also use the x_bin argument to clean up this figure and grab the data and bin it by age with a std attached!"
      ]
    },
    {
      "cell_type": "code",
      "metadata": {
        "id": "IHM7q8BTyBKr",
        "colab_type": "code",
        "colab": {}
      },
      "source": [
        "# Let's use a linear plot on age versus survival using hue for class seperation\n",
        "generations=[10,20,40,60,80]\n",
        "sns.lmplot('Age','Survived',hue='Pclass',data=titanic_df,palette='winter',x_bins=generations)"
      ],
      "execution_count": 0,
      "outputs": []
    },
    {
      "cell_type": "markdown",
      "metadata": {
        "id": "pl6oijd9yBKt",
        "colab_type": "text"
      },
      "source": [
        "Interesting find on the older 1st class passengers! What about if we relate gender and age with the survival set?"
      ]
    },
    {
      "cell_type": "code",
      "metadata": {
        "id": "zHtM9T8kyBKt",
        "colab_type": "code",
        "colab": {}
      },
      "source": [
        "sns.lmplot('Age','Survived',hue='Sex',data=titanic_df,palette='winter',x_bins=generations)"
      ],
      "execution_count": 0,
      "outputs": []
    },
    {
      "cell_type": "markdown",
      "metadata": {
        "id": "TBCjp-7cyBKv",
        "colab_type": "text"
      },
      "source": [
        "Awesome! we've gotten some really great insights on how gender,age, and class all related to a passengers chance of survival. Now you take control: Answer the following questions using pandas and seaborn:\n",
        "\n",
        "    1.) Did the deck have an effect on the passengers survival rate? Did this answer match up with your intuition?\n",
        "    2.) Did having a family member increase the odds of surviving the crash?\n",
        "    \n",
        "Feel free to post a discussion if you get stuck or have more ideas!"
      ]
    },
    {
      "cell_type": "markdown",
      "metadata": {
        "id": "KSzKH3ymyBKv",
        "colab_type": "text"
      },
      "source": [
        "### Fantastic work on your first go at a Data Analysis Project! Go ahead and keep playing with the data or try following along with Kaggle's sci-kit learn tutorial for this data (we'll look at it through a machine learning perspective later in the course)"
      ]
    }
  ]
}