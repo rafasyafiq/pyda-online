{
  "nbformat": 4,
  "nbformat_minor": 0,
  "metadata": {
    "kernelspec": {
      "display_name": "Python 3",
      "language": "python",
      "name": "python3"
    },
    "language_info": {
      "codemirror_mode": {
        "name": "ipython",
        "version": 3
      },
      "file_extension": ".py",
      "mimetype": "text/x-python",
      "name": "python",
      "nbconvert_exporter": "python",
      "pygments_lexer": "ipython3",
      "version": "3.7.1"
    },
    "colab": {
      "name": "002_Data Project - Election Analysis.ipynb",
      "provenance": [],
      "include_colab_link": true
    }
  },
  "cells": [
    {
      "cell_type": "markdown",
      "metadata": {
        "id": "view-in-github",
        "colab_type": "text"
      },
      "source": [
        "<a href=\"https://colab.research.google.com/github/rafasyafiq/pyda-online/blob/master/day3/002_Data_Project_Election_Analysis.ipynb\" target=\"_parent\"><img src=\"https://colab.research.google.com/assets/colab-badge.svg\" alt=\"Open In Colab\"/></a>"
      ]
    },
    {
      "cell_type": "markdown",
      "metadata": {
        "id": "zA08alrG7opx",
        "colab_type": "text"
      },
      "source": [
        "#Election Data Project - Polls and Donors\n",
        "\n",
        "In this Data Project we will be looking at data from the 2012 election.\n",
        "\n",
        "In this project we will analyze two datasets. The first data set will be the results of political polls. We will analyze this aggregated poll data and answer some questions:\n",
        "\n",
        "    1.) Who was being polled and what was their party affiliation?\n",
        "    2.) Did the poll results favor Romney or Obama?\n",
        "    3.) How do undecided voters effect the poll?\n",
        "    4.) Can we account for the undecided voters?\n",
        "    5.) How did voter sentiment change over time?\n",
        "    6.) Can we see an effect in the polls from the debates?\n",
        "\n",
        "We'll discuss the second data set later on!"
      ]
    },
    {
      "cell_type": "markdown",
      "metadata": {
        "id": "nifpd6oz7opy",
        "colab_type": "text"
      },
      "source": [
        "Let's go ahead and start with our standard imports:"
      ]
    },
    {
      "cell_type": "code",
      "metadata": {
        "id": "XSss__zN7opz",
        "colab_type": "code",
        "colab": {
          "base_uri": "https://localhost:8080/",
          "height": 71
        },
        "outputId": "95e51f29-9cb9-426c-eb35-fa8e88fc2c3c"
      },
      "source": [
        "# For data\n",
        "import pandas as pd\n",
        "from pandas import Series,DataFrame\n",
        "import numpy as np\n",
        "\n",
        "# For visualization\n",
        "import matplotlib.pyplot as plt\n",
        "import seaborn as sns\n",
        "sns.set_style('whitegrid')\n",
        "%matplotlib inline\n",
        "\n",
        "from __future__ import division"
      ],
      "execution_count": 1,
      "outputs": [
        {
          "output_type": "stream",
          "text": [
            "/usr/local/lib/python3.6/dist-packages/statsmodels/tools/_testing.py:19: FutureWarning: pandas.util.testing is deprecated. Use the functions in the public API at pandas.testing instead.\n",
            "  import pandas.util.testing as tm\n"
          ],
          "name": "stderr"
        }
      ]
    },
    {
      "cell_type": "markdown",
      "metadata": {
        "id": "qOOwI4EG7op2",
        "colab_type": "text"
      },
      "source": [
        "The data for the polls will be obtained from HuffPost Pollster. You can check their website [here](http://elections.huffingtonpost.com/pollster). There are some pretty awesome politcal data stes to play with there so I encourage you to go and mess around with it yourself after completing this project."
      ]
    },
    {
      "cell_type": "markdown",
      "metadata": {
        "id": "kWW2xzia7op2",
        "colab_type": "text"
      },
      "source": [
        "We're going to use the requests module to import some data from the web. For more information on requests, check out the documentation [here](http://docs.python-requests.org/en/latest/).\n",
        "\n",
        "We will also be using StringIO to work with csv data we get from HuffPost. StringIO provides a convenient means of working with text in memory using the file API, find out more about it [here](http://pymotw.com/2/StringIO/) "
      ]
    },
    {
      "cell_type": "code",
      "metadata": {
        "id": "hEZNJBRj7op3",
        "colab_type": "code",
        "colab": {}
      },
      "source": [
        "# Use to grab data from the web(HTTP capabilities)\n",
        "import requests\n",
        "\n",
        "# We'll also use StringIO to work with the csv file, the DataFrame will require a .read() method\n",
        "from io import StringIO"
      ],
      "execution_count": 0,
      "outputs": []
    },
    {
      "cell_type": "code",
      "metadata": {
        "id": "5xknbgqO7op5",
        "colab_type": "code",
        "colab": {}
      },
      "source": [
        "# This is the url link for the poll data in csv form\n",
        "url = \"http://elections.huffingtonpost.com/pollster/2012-general-election-romney-vs-obama.csv\"\n",
        "\n",
        "# Use requests to get the information in text form\n",
        "source = requests.get(url).text\n",
        "\n",
        "# Use StringIO to avoid an IO error with pandas\n",
        "poll_data = StringIO(source) "
      ],
      "execution_count": 0,
      "outputs": []
    },
    {
      "cell_type": "markdown",
      "metadata": {
        "id": "ToCzgiqC7op7",
        "colab_type": "text"
      },
      "source": [
        "Now that we have our data, we can set it as a DataFrame."
      ]
    },
    {
      "cell_type": "code",
      "metadata": {
        "id": "utUmdwVa7op8",
        "colab_type": "code",
        "colab": {}
      },
      "source": [
        "# Set poll data as pandas DataFrame\n",
        "poll_df = pd.read_csv(poll_data)\n",
        "\n",
        "# Let's get a glimpse at the data\n",
        "poll_df.info()"
      ],
      "execution_count": 0,
      "outputs": []
    },
    {
      "cell_type": "markdown",
      "metadata": {
        "id": "ctww81q07op-",
        "colab_type": "text"
      },
      "source": [
        "Great! Now let's get a quick look with .head()"
      ]
    },
    {
      "cell_type": "code",
      "metadata": {
        "id": "T1wXYQsh7op-",
        "colab_type": "code",
        "colab": {}
      },
      "source": [
        "# Preview DataFrame\n",
        "poll_df.head()"
      ],
      "execution_count": 0,
      "outputs": []
    },
    {
      "cell_type": "markdown",
      "metadata": {
        "id": "-iKwW6Os7oqA",
        "colab_type": "text"
      },
      "source": [
        "Let's go ahead and get a quick visualization overview of the affiliation for the polls."
      ]
    },
    {
      "cell_type": "code",
      "metadata": {
        "id": "PxFXhRaj7oqB",
        "colab_type": "code",
        "colab": {}
      },
      "source": [
        "# Factorplot the affiliation\n",
        "sns.catplot('Affiliation',data=poll_df, kind='count')"
      ],
      "execution_count": 0,
      "outputs": []
    },
    {
      "cell_type": "markdown",
      "metadata": {
        "id": "gBSBmWbZ7oqE",
        "colab_type": "text"
      },
      "source": [
        "Looks like we are overall relatively neutral, but still leaning towards Democratic Affiliation, it will be good to keep this in mind. Let's see if sorting by the Population hue gives us any further insight into the data."
      ]
    },
    {
      "cell_type": "code",
      "metadata": {
        "id": "dGEF_glF7oqF",
        "colab_type": "code",
        "colab": {}
      },
      "source": [
        "# Factorplot the affiliation by Population\n",
        "sns.catplot('Affiliation',data=poll_df,hue='Population', kind='count')"
      ],
      "execution_count": 0,
      "outputs": []
    },
    {
      "cell_type": "markdown",
      "metadata": {
        "id": "rdzaCsN57oqH",
        "colab_type": "text"
      },
      "source": [
        "Looks like we have a strong showing of likely voters and Registered Voters, so the poll data should hopefully be a good reflection on the populations polled. Let's take another quick overview of the DataFrame."
      ]
    },
    {
      "cell_type": "code",
      "metadata": {
        "id": "Pr7Ai0F_7oqH",
        "colab_type": "code",
        "colab": {}
      },
      "source": [
        "# Let's look at the DataFrame again\n",
        "poll_df.head()"
      ],
      "execution_count": 0,
      "outputs": []
    },
    {
      "cell_type": "markdown",
      "metadata": {
        "id": "jJj-rz-v7oqJ",
        "colab_type": "text"
      },
      "source": [
        "Let's go ahead and take a look at the averages for Obama, Romney , and the polled people who remained undecided."
      ]
    },
    {
      "cell_type": "code",
      "metadata": {
        "id": "wj_EljiV7oqK",
        "colab_type": "code",
        "colab": {}
      },
      "source": [
        "# First we'll get the average\n",
        "avg = pd.DataFrame(poll_df.mean()) \n",
        "avg.drop('Number of Observations',axis=0,inplace=True)\n",
        "\n",
        "# After that let's get the error\n",
        "std = pd.DataFrame(poll_df.std())\n",
        "std.drop('Number of Observations',axis=0,inplace=True)\n",
        "\n",
        "# now plot using pandas built-in plot, with kind='bar' and yerr='std'\n",
        "avg.plot(yerr=std,kind='bar',legend=False)"
      ],
      "execution_count": 0,
      "outputs": []
    },
    {
      "cell_type": "markdown",
      "metadata": {
        "id": "i5wmgU7Q7oqM",
        "colab_type": "text"
      },
      "source": [
        "Interesting to see how close these polls seem to be, especially considering the undecided factor. Let's take a look at the numbers."
      ]
    },
    {
      "cell_type": "code",
      "metadata": {
        "id": "UD2O7Eh27oqM",
        "colab_type": "code",
        "colab": {}
      },
      "source": [
        "# Concatenate our Average and Std DataFrames\n",
        "poll_avg = pd.concat([avg,std],axis=1)\n",
        "\n",
        "#Rename columns\n",
        "poll_avg.columns = ['Average','STD']\n",
        "\n",
        "#Show\n",
        "poll_avg"
      ],
      "execution_count": 0,
      "outputs": []
    },
    {
      "cell_type": "markdown",
      "metadata": {
        "id": "HHWa6BAa7oqO",
        "colab_type": "text"
      },
      "source": [
        "Looks like the polls indicate it as a fairly close race, but what about the undecided voters? Most of them will likely vote for one of the candidates once the election occurs. If we assume we split the undecided evenly between the two candidates the observed difference should be an unbiased estimate of the final difference."
      ]
    },
    {
      "cell_type": "code",
      "metadata": {
        "id": "eK_37Wgy7oqP",
        "colab_type": "code",
        "colab": {}
      },
      "source": [
        "# Take a look at the DataFrame again\n",
        "poll_df.head()"
      ],
      "execution_count": 0,
      "outputs": []
    },
    {
      "cell_type": "markdown",
      "metadata": {
        "id": "gaqo2sFj7oqR",
        "colab_type": "text"
      },
      "source": [
        "If we wanted to, we could also do a quick (and messy) time series analysis of the voter sentiment by plotting Obama/Romney favor versus the Poll End Dates. Let's take a look at how we could quickly do tht in pandas. \n",
        "\n",
        "Note: The time is in reverse chronological order. Also keep in mind the multiple polls per end date."
      ]
    },
    {
      "cell_type": "code",
      "metadata": {
        "id": "L67b_ZQJ7oqR",
        "colab_type": "code",
        "colab": {}
      },
      "source": [
        "# Quick plot of sentiment in the polls versus time.\n",
        "poll_df.plot(x='End Date',y=['Obama','Romney','Undecided'],marker='o',linestyle='')"
      ],
      "execution_count": 0,
      "outputs": []
    },
    {
      "cell_type": "markdown",
      "metadata": {
        "collapsed": true,
        "id": "ItiYmka17oqU",
        "colab_type": "text"
      },
      "source": [
        "While this may give you a quick idea, go ahead and try creating a new DataFrame or editing poll_df to make a better visualization of the above idea!"
      ]
    },
    {
      "cell_type": "markdown",
      "metadata": {
        "collapsed": true,
        "id": "gmY5qssz7oqV",
        "colab_type": "text"
      },
      "source": [
        "To lead you along the right path for plotting, we'll go ahead and answer another question related to plotting the sentiment versus time. Let's go ahead and plot out the difference between Obama and Romney and how it changes as time moves along. Remember from the last data project we used the datetime module to create timestamps, let's go ahead and use it now."
      ]
    },
    {
      "cell_type": "code",
      "metadata": {
        "id": "IqhQfOHP7oqV",
        "colab_type": "code",
        "colab": {}
      },
      "source": [
        "# For timestamps\n",
        "from datetime import datetime"
      ],
      "execution_count": 0,
      "outputs": []
    },
    {
      "cell_type": "markdown",
      "metadata": {
        "id": "BcdKCXV_7oqX",
        "colab_type": "text"
      },
      "source": [
        "Now we'll define a new column in our poll_df DataFrame to take into account the difference between Romney and Obama in the polls."
      ]
    },
    {
      "cell_type": "code",
      "metadata": {
        "id": "wp-hPCpP7oqX",
        "colab_type": "code",
        "colab": {}
      },
      "source": [
        "# Create a new column for the difference between the two candidates\n",
        "poll_df['Difference'] = (poll_df.Obama - poll_df.Romney)/100\n",
        "# Preview the new column\n",
        "poll_df.head()"
      ],
      "execution_count": 0,
      "outputs": []
    },
    {
      "cell_type": "markdown",
      "metadata": {
        "id": "0Z0P3zok7oqZ",
        "colab_type": "text"
      },
      "source": [
        "Great! Keep in mind that the Difference column is Obama minus Romney, thus a positive difference indicates a leaning towards Obama in the polls."
      ]
    },
    {
      "cell_type": "markdown",
      "metadata": {
        "id": "fww68WeA7oqa",
        "colab_type": "text"
      },
      "source": [
        "Now let's go ahead and see if we can visualize how this sentiment in difference changes over time. We will start by using groupby to group the polls by their start data and then sorting it by that Start Date."
      ]
    },
    {
      "cell_type": "code",
      "metadata": {
        "id": "8g3WOiyu7oqa",
        "colab_type": "code",
        "colab": {}
      },
      "source": [
        "# Set as_index=Flase to keep the 0,1,2,... index. Then we'll take the mean of the polls on that day.\n",
        "poll_df = poll_df.groupby(['Start Date'],as_index=False).mean()\n",
        "\n",
        "# Let's go ahead and see what this looks like\n",
        "poll_df.head()"
      ],
      "execution_count": 0,
      "outputs": []
    },
    {
      "cell_type": "markdown",
      "metadata": {
        "id": "C3DRmA8G7oqd",
        "colab_type": "text"
      },
      "source": [
        "Great! Now plotting the Differencce versus time should be straight forward."
      ]
    },
    {
      "cell_type": "code",
      "metadata": {
        "id": "IgHL_zv67oqd",
        "colab_type": "code",
        "colab": {}
      },
      "source": [
        "# Plotting the difference in polls between Obama and Romney\n",
        "fig = poll_df.plot('Start Date','Difference',figsize=(12,4),marker='o',linestyle='-',color='purple')"
      ],
      "execution_count": 0,
      "outputs": []
    },
    {
      "cell_type": "markdown",
      "metadata": {
        "id": "Y4Y4IM_T7oqf",
        "colab_type": "text"
      },
      "source": [
        "It would be very interesting to plot marker lines on the dates of the debates and see if there is any general insight to the poll results.\n",
        "\n",
        "The debate dates were Oct 3rd, Oct 11, and Oct 22nd. Let's plot some lines as markers and then zoom in on the month of October."
      ]
    },
    {
      "cell_type": "markdown",
      "metadata": {
        "id": "XgTgOmgF7oqf",
        "colab_type": "text"
      },
      "source": [
        "In order to find where to set the x limits for the figure we need to find out where the index for the month of October in 2012 is. Here's a simple for loop to find that row. Note, the string format of the date makes this difficult to do without using a lambda expression or a map."
      ]
    },
    {
      "cell_type": "code",
      "metadata": {
        "id": "2dxtdEBc7oqg",
        "colab_type": "code",
        "colab": {
          "base_uri": "https://localhost:8080/",
          "height": 51
        },
        "outputId": "d60a2cc3-d4a1-46c1-854a-bfc37c4391c7"
      },
      "source": [
        "# Set row count and xlimit list\n",
        "row_in = 0\n",
        "xlimit = []\n",
        "\n",
        "# Cycle through dates until 2012-10 is found, then print row index\n",
        "for date in poll_df['Start Date']:\n",
        "    if date[0:7] == '2012-10':\n",
        "        xlimit.append(row_in)\n",
        "        row_in +=1\n",
        "    else:\n",
        "        row_in += 1\n",
        "        \n",
        "rmin = min(xlimit)\n",
        "rmax = max(xlimit)\n",
        "\n",
        "print(rmin)\n",
        "print(rmax)"
      ],
      "execution_count": 22,
      "outputs": [
        {
          "output_type": "stream",
          "text": [
            "325\n",
            "352\n"
          ],
          "name": "stdout"
        }
      ]
    },
    {
      "cell_type": "markdown",
      "metadata": {
        "id": "QtVhgQHQ7oqi",
        "colab_type": "text"
      },
      "source": [
        "Great now we know where to set our x limits for the month of October in our figure."
      ]
    },
    {
      "cell_type": "code",
      "metadata": {
        "id": "ouMReWa17oqi",
        "colab_type": "code",
        "colab": {}
      },
      "source": [
        "# Start with original figure\n",
        "fig = poll_df.plot('Start Date','Difference',figsize=(12,4),marker='o',linestyle='-',color='purple',xlim=(325,352))\n",
        "\n",
        "# Now add the debate markers\n",
        "plt.axvline(x=329+2, linewidth=4, color='grey')\n",
        "plt.axvline(x=329+10, linewidth=4, color='grey')\n",
        "plt.axvline(x=329+21, linewidth=4, color='grey')"
      ],
      "execution_count": 0,
      "outputs": []
    },
    {
      "cell_type": "markdown",
      "metadata": {
        "id": "i81sJTf77oqk",
        "colab_type": "text"
      },
      "source": [
        "Surprisingly, thse polls reflect a dip for Obama after the second debate against Romney, even though memory serves that he performed much worse against Romney during the first debate."
      ]
    }
  ]
}